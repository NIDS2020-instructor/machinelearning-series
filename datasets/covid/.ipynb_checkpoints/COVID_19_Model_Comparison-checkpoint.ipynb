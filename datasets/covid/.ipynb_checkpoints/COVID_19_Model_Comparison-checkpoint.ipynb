{
 "cells": [
  {
   "cell_type": "code",
   "execution_count": 2,
   "metadata": {
    "colab": {
     "base_uri": "https://localhost:8080/",
     "height": 139
    },
    "colab_type": "code",
    "id": "MyiRwr5uJHEf",
    "outputId": "da4a0546-bf5e-4f0a-f808-621c114c6690"
   },
   "outputs": [
    {
     "name": "stdout",
     "output_type": "stream",
     "text": [
      "Go to this URL in a browser: https://accounts.google.com/o/oauth2/auth?client_id=947318989803-6bn6qk8qdgf4n4g3pfee6491hc0brc4i.apps.googleusercontent.com&redirect_uri=urn%3aietf%3awg%3aoauth%3a2.0%3aoob&response_type=code&scope=email%20https%3a%2f%2fwww.googleapis.com%2fauth%2fdocs.test%20https%3a%2f%2fwww.googleapis.com%2fauth%2fdrive%20https%3a%2f%2fwww.googleapis.com%2fauth%2fdrive.photos.readonly%20https%3a%2f%2fwww.googleapis.com%2fauth%2fpeopleapi.readonly\n",
      "\n",
      "Enter your authorization code:\n",
      "··········\n",
      "Mounted at /gdrive\n",
      "/gdrive/My Drive/cvd\n"
     ]
    }
   ],
   "source": [
    "from google.colab import drive\n",
    "drive.mount('/gdrive')\n",
    "%cd /gdrive/My Drive/cvd"
   ]
  },
  {
   "cell_type": "code",
   "execution_count": 0,
   "metadata": {
    "colab": {},
    "colab_type": "code",
    "id": "7PLKtB7CJe6l"
   },
   "outputs": [],
   "source": [
    "import numpy as np\n",
    "import pandas as pd\n",
    "import datetime as dt\n",
    "import sklearn\n",
    "from scipy import stats\n",
    "from sklearn import preprocessing\n",
    "from sklearn.model_selection import GridSearchCV\n",
    "from sklearn.ensemble import RandomForestClassifier\n",
    "from sklearn.ensemble import AdaBoostClassifier\n",
    "from sklearn.model_selection import train_test_split\n",
    "from sklearn.metrics import recall_score as rs\n",
    "from sklearn.metrics import precision_score as ps\n",
    "from sklearn.metrics import f1_score as fs\n",
    "from sklearn.metrics import log_loss\n",
    "\n",
    "encoder = preprocessing.LabelEncoder()"
   ]
  },
  {
   "cell_type": "markdown",
   "metadata": {
    "colab_type": "text",
    "id": "wuEnp-EiF_X9"
   },
   "source": [
    "###Data Preprocessing"
   ]
  },
  {
   "cell_type": "code",
   "execution_count": 0,
   "metadata": {
    "colab": {},
    "colab_type": "code",
    "id": "AJG6HG94N-HB"
   },
   "outputs": [],
   "source": [
    "data = pd.read_csv('data.csv')\n",
    "data = data.drop('id',axis=1)\n",
    "data = data.fillna(np.nan,axis=0)\n",
    "data['location'] = encoder.fit_transform(data['location'].astype(str))\n",
    "data['country'] = encoder.fit_transform(data['country'].astype(str))\n",
    "data['gender'] = encoder.fit_transform(data['gender'].astype(str))\n",
    "data[['symptom1']] = encoder.fit_transform(data['symptom1'].astype(str))\n",
    "data[['symptom2']] = encoder.fit_transform(data['symptom2'].astype(str))\n",
    "data[['symptom3']] = encoder.fit_transform(data['symptom3'].astype(str))\n",
    "data[['symptom4']] = encoder.fit_transform(data['symptom4'].astype(str))\n",
    "data[['symptom5']] = encoder.fit_transform(data['symptom5'].astype(str))\n",
    "data[['symptom6']] = encoder.fit_transform(data['symptom6'].astype(str))"
   ]
  },
  {
   "cell_type": "code",
   "execution_count": 0,
   "metadata": {
    "colab": {},
    "colab_type": "code",
    "id": "PSV2sW29OEff"
   },
   "outputs": [],
   "source": [
    "data['sym_on'] = pd.to_datetime(data['sym_on'])\n",
    "data['hosp_vis'] = pd.to_datetime(data['hosp_vis'])\n",
    "data['sym_on']= data['sym_on'].map(dt.datetime.toordinal)\n",
    "data['hosp_vis']= data['hosp_vis'].map(dt.datetime.toordinal)\n",
    "data['diff_sym_hos']= data['hosp_vis'] - data['sym_on']"
   ]
  },
  {
   "cell_type": "code",
   "execution_count": 0,
   "metadata": {
    "colab": {},
    "colab_type": "code",
    "id": "rgeHinTzOJg0"
   },
   "outputs": [],
   "source": [
    "data['diff_symp_hos'] = data['hosp_vis']-data['sym_on']"
   ]
  },
  {
   "cell_type": "code",
   "execution_count": 0,
   "metadata": {
    "colab": {},
    "colab_type": "code",
    "id": "zmjM6wk7Q6jD"
   },
   "outputs": [],
   "source": [
    "data = data.drop(['sym_on','hosp_vis'],axis=1)"
   ]
  },
  {
   "cell_type": "code",
   "execution_count": 8,
   "metadata": {
    "colab": {
     "base_uri": "https://localhost:8080/",
     "height": 306
    },
    "colab_type": "code",
    "id": "7yWKs3_ZQxUH",
    "outputId": "7414216e-1914-4eca-f268-d8bdba91cb03"
   },
   "outputs": [
    {
     "name": "stdout",
     "output_type": "stream",
     "text": [
      "location           int64\n",
      "country            int64\n",
      "gender             int64\n",
      "age              float64\n",
      "vis_wuhan          int64\n",
      "from_wuhan       float64\n",
      "death              int64\n",
      "recov              int64\n",
      "symptom1           int64\n",
      "symptom2           int64\n",
      "symptom3           int64\n",
      "symptom4           int64\n",
      "symptom5           int64\n",
      "symptom6           int64\n",
      "diff_sym_hos       int64\n",
      "diff_symp_hos      int64\n",
      "dtype: object\n"
     ]
    }
   ],
   "source": [
    "print(data.dtypes)"
   ]
  },
  {
   "cell_type": "markdown",
   "metadata": {
    "colab_type": "text",
    "id": "Jmgcf3iLeK0z"
   },
   "source": [
    "###Training"
   ]
  },
  {
   "cell_type": "code",
   "execution_count": 9,
   "metadata": {
    "colab": {
     "base_uri": "https://localhost:8080/",
     "height": 153
    },
    "colab_type": "code",
    "id": "WlP3cXzdd3OR",
    "outputId": "428f16da-6eb9-4477-b38e-082058f28395"
   },
   "outputs": [
    {
     "name": "stdout",
     "output_type": "stream",
     "text": [
      "   id      location country gender  ...  symptom3 symptom4 symptom5  symptom6\n",
      "0  49  Wuhan, Hubei   China   male  ...       NaN      NaN      NaN       NaN\n",
      "1  50  Wuhan, Hubei   China   male  ...       NaN      NaN      NaN       NaN\n",
      "2  51  Wuhan, Hubei   China   male  ...       NaN      NaN      NaN       NaN\n",
      "3  52  Wuhan, Hubei   China   male  ...       NaN      NaN      NaN       NaN\n",
      "4  53  Wuhan, Hubei   China   male  ...       NaN      NaN      NaN       NaN\n",
      "\n",
      "[5 rows x 16 columns]\n"
     ]
    }
   ],
   "source": [
    "tdata = pd.read_csv('train.csv')\n",
    "print(tdata.head())"
   ]
  },
  {
   "cell_type": "code",
   "execution_count": 0,
   "metadata": {
    "colab": {},
    "colab_type": "code",
    "id": "XDpFK6U1eXcD"
   },
   "outputs": [],
   "source": [
    "tdata = pd.read_csv('train.csv')\n",
    "tdata = tdata.drop('id',axis=1)\n",
    "tdata = tdata.fillna(np.nan,axis=0)\n",
    "tdata['age'] = tdata['age'].fillna(value=tdata['age'].mean())\n",
    "tdata['location'] = encoder.fit_transform(tdata['location'].astype(str))\n",
    "tdata['country'] = encoder.fit_transform(tdata['country'].astype(str))\n",
    "tdata['gender'] = encoder.fit_transform(tdata['gender'].astype(str))\n",
    "tdata[['symptom1']] = encoder.fit_transform(tdata['symptom1'].astype(str))\n",
    "tdata[['symptom2']] = encoder.fit_transform(tdata['symptom2'].astype(str))\n",
    "tdata[['symptom3']] = encoder.fit_transform(tdata['symptom3'].astype(str))\n",
    "tdata[['symptom4']] = encoder.fit_transform(tdata['symptom4'].astype(str))\n",
    "tdata[['symptom5']] = encoder.fit_transform(tdata['symptom5'].astype(str))\n",
    "tdata[['symptom6']] = encoder.fit_transform(tdata['symptom6'].astype(str))"
   ]
  },
  {
   "cell_type": "code",
   "execution_count": 0,
   "metadata": {
    "colab": {},
    "colab_type": "code",
    "id": "cxxY76mHeXcV"
   },
   "outputs": [],
   "source": [
    "tdata['sym_on'] = pd.to_datetime(tdata['sym_on'])\n",
    "tdata['hosp_vis'] = pd.to_datetime(tdata['hosp_vis'])\n",
    "tdata['sym_on']= tdata['sym_on'].map(dt.datetime.toordinal)\n",
    "tdata['hosp_vis']= tdata['hosp_vis'].map(dt.datetime.toordinal)\n",
    "tdata['diff_sym_hos']= tdata['hosp_vis'] - tdata['sym_on']"
   ]
  },
  {
   "cell_type": "code",
   "execution_count": 12,
   "metadata": {
    "colab": {
     "base_uri": "https://localhost:8080/",
     "height": 255
    },
    "colab_type": "code",
    "id": "wrUP1Kx3eXcp",
    "outputId": "7f720c49-7151-47ab-c6c1-722542bf4d4d"
   },
   "outputs": [
    {
     "name": "stdout",
     "output_type": "stream",
     "text": [
      "     location  country  gender  ...  symptom5  symptom6  diff_sym_hos\n",
      "0          38        2       1  ...         0         0             7\n",
      "1          38        2       1  ...         0         0             4\n",
      "2          38        2       1  ...         0         0             0\n",
      "3          38        2       1  ...         0         0             0\n",
      "4          38        2       1  ...         0         0             6\n",
      "..        ...      ...     ...  ...       ...       ...           ...\n",
      "217         2        3       2  ...         0         0             0\n",
      "218        22        6       2  ...         0         0             0\n",
      "219        22        6       2  ...         0         0             0\n",
      "220        22        6       2  ...         0         0             0\n",
      "221        22        6       2  ...         0         0             0\n",
      "\n",
      "[222 rows x 14 columns]\n"
     ]
    }
   ],
   "source": [
    "tdata = tdata.drop(['sym_on','hosp_vis'],axis=1)\n",
    "print(tdata)\n"
   ]
  },
  {
   "cell_type": "code",
   "execution_count": 13,
   "metadata": {
    "colab": {
     "base_uri": "https://localhost:8080/",
     "height": 272
    },
    "colab_type": "code",
    "id": "URBOdKUteXcu",
    "outputId": "1f56bbb5-819c-40b1-e93b-e3b45f7f1216"
   },
   "outputs": [
    {
     "name": "stdout",
     "output_type": "stream",
     "text": [
      "location        0\n",
      "country         0\n",
      "gender          0\n",
      "age             0\n",
      "vis_wuhan       0\n",
      "from_wuhan      0\n",
      "death           0\n",
      "symptom1        0\n",
      "symptom2        0\n",
      "symptom3        0\n",
      "symptom4        0\n",
      "symptom5        0\n",
      "symptom6        0\n",
      "diff_sym_hos    0\n",
      "dtype: int64\n"
     ]
    }
   ],
   "source": [
    "print(tdata.isna().sum())"
   ]
  },
  {
   "cell_type": "code",
   "execution_count": 0,
   "metadata": {
    "colab": {},
    "colab_type": "code",
    "id": "HEPS4gxb2nmI"
   },
   "outputs": [],
   "source": [
    "from sklearn.metrics import recall_score as rs\n",
    "from sklearn.metrics import precision_score as ps\n",
    "from sklearn.metrics import f1_score as fs\n",
    "from sklearn.metrics import balanced_accuracy_score as bas\n",
    "from sklearn.metrics import confusion_matrix as cm"
   ]
  },
  {
   "cell_type": "markdown",
   "metadata": {
    "colab_type": "text",
    "id": "mO_GHtYI0rMw"
   },
   "source": [
    "###Logisitic Regression"
   ]
  },
  {
   "cell_type": "code",
   "execution_count": 0,
   "metadata": {
    "colab": {},
    "colab_type": "code",
    "id": "ZzhuAHDGgdzJ"
   },
   "outputs": [],
   "source": [
    "from sklearn.linear_model import LogisticRegression as lr\n",
    "\n",
    "classifier = lr()"
   ]
  },
  {
   "cell_type": "code",
   "execution_count": 0,
   "metadata": {
    "colab": {},
    "colab_type": "code",
    "id": "I2Eqf4CIfqGb"
   },
   "outputs": [],
   "source": [
    "X = tdata[['location','country','gender','age','vis_wuhan','from_wuhan','symptom1','symptom2','symptom3','symptom4','symptom5','symptom6','diff_sym_hos']]\n",
    "Y = tdata['death']"
   ]
  },
  {
   "cell_type": "code",
   "execution_count": 17,
   "metadata": {
    "colab": {
     "base_uri": "https://localhost:8080/",
     "height": 292
    },
    "colab_type": "code",
    "id": "yWroRhrfZQy7",
    "outputId": "c3678c1f-782a-4619-ab68-f6ace1410a66"
   },
   "outputs": [
    {
     "name": "stderr",
     "output_type": "stream",
     "text": [
      "/usr/local/lib/python3.6/dist-packages/sklearn/utils/validation.py:760: DataConversionWarning: A column-vector y was passed when a 1d array was expected. Please change the shape of y to (n_samples, ), for example using ravel().\n",
      "  y = column_or_1d(y, warn=True)\n",
      "/usr/local/lib/python3.6/dist-packages/sklearn/linear_model/_logistic.py:940: ConvergenceWarning: lbfgs failed to converge (status=1):\n",
      "STOP: TOTAL NO. of ITERATIONS REACHED LIMIT.\n",
      "\n",
      "Increase the number of iterations (max_iter) or scale the data as shown in:\n",
      "    https://scikit-learn.org/stable/modules/preprocessing.html\n",
      "Please also refer to the documentation for alternative solver options:\n",
      "    https://scikit-learn.org/stable/modules/linear_model.html#logistic-regression\n",
      "  extra_warning_msg=_LOGISTIC_SOLVER_CONVERGENCE_MSG)\n"
     ]
    },
    {
     "data": {
      "text/plain": [
       "LogisticRegression(C=1.0, class_weight=None, dual=False, fit_intercept=True,\n",
       "                   intercept_scaling=1, l1_ratio=None, max_iter=100,\n",
       "                   multi_class='auto', n_jobs=None, penalty='l2',\n",
       "                   random_state=None, solver='lbfgs', tol=0.0001, verbose=0,\n",
       "                   warm_start=False)"
      ]
     },
     "execution_count": 17,
     "metadata": {
      "tags": []
     },
     "output_type": "execute_result"
    }
   ],
   "source": [
    "X_train, X_test, Y_train, Y_test = train_test_split(X,Y,test_size=0.2,random_state=10)\n",
    "classifier.fit(X_train,np.array(Y_train).reshape(Y_train.shape[0],1))\n"
   ]
  },
  {
   "cell_type": "markdown",
   "metadata": {
    "colab_type": "text",
    "id": "WYVlHGmQGXh8"
   },
   "source": [
    "#####Evaluation of model"
   ]
  },
  {
   "cell_type": "code",
   "execution_count": 0,
   "metadata": {
    "colab": {},
    "colab_type": "code",
    "id": "eTFY9atzcmO-"
   },
   "outputs": [],
   "source": [
    "pred = np.array(classifier.predict(X_test))\n",
    "\n",
    "recall_lr = rs(Y_test,pred)\n",
    "precision_lr = ps(Y_test,pred)\n",
    "f1_lr = fs(Y_test,pred)\n",
    "ma_lr = classifier.score(X_test,Y_test)"
   ]
  },
  {
   "cell_type": "code",
   "execution_count": 19,
   "metadata": {
    "colab": {
     "base_uri": "https://localhost:8080/",
     "height": 272
    },
    "colab_type": "code",
    "id": "4dtmxNcbcoBF",
    "outputId": "63adc286-3b65-4d4f-e92e-7a2b1162aa53"
   },
   "outputs": [
    {
     "name": "stdout",
     "output_type": "stream",
     "text": [
      "*** Evaluation metrics for test dataset ***\n",
      "\n",
      "Recall Score:  0.7272727272727273\n",
      "Precision Score:  0.6666666666666666\n",
      "F1 Score:  0.6956521739130435\n",
      "Accuracy:  0.8444444444444444\n",
      "\n",
      "\tTable 3\n",
      "\n",
      "     death  pred\n",
      "184      0     0\n",
      "170      1     0\n",
      "142      0     0\n",
      "182      0     0\n",
      "49       1     1\n"
     ]
    }
   ],
   "source": [
    "print('*** Evaluation metrics for test dataset ***\\n')\n",
    "print('Recall Score: ',recall_lr)\n",
    "print('Precision Score: ',precision_lr)\n",
    "print('F1 Score: ',f1_lr)\n",
    "print('Accuracy: ',ma_lr)\n",
    "a = pd.DataFrame(Y_test)\n",
    "a['pred']= classifier.predict(X_test)\n",
    "print('\\n\\tTable 3\\n')\n",
    "print(a.head())"
   ]
  },
  {
   "cell_type": "code",
   "execution_count": 55,
   "metadata": {
    "colab": {
     "base_uri": "https://localhost:8080/",
     "height": 298
    },
    "colab_type": "code",
    "id": "LbfWZ1Hyrua6",
    "outputId": "4789e656-9b96-41a9-dfde-286a0f4b1709"
   },
   "outputs": [
    {
     "data": {
      "text/plain": [
       "Text(0.5, 1.0, 'Evaluation Metrics for Logistic Regression')"
      ]
     },
     "execution_count": 55,
     "metadata": {
      "tags": []
     },
     "output_type": "execute_result"
    },
    {
     "data": {
      "image/png": "[encoded data removed]",
      "text/plain": [
       "<Figure size 432x288 with 1 Axes>"
      ]
     },
     "metadata": {
      "needs_background": "light",
      "tags": []
     },
     "output_type": "display_data"
    }
   ],
   "source": [
    "import matplotlib.pyplot as plt\n",
    "\n",
    "plt.bar(['Accuracy','F1 Score','Recall Score','Precision Score'],[ma_lr,f1_lr,recall_lr,precision_lr],color=['red','green','purple','orange'])\n",
    "plt.plot([ma_lr,f1_lr,recall_lr,precision_lr],color='black')\n",
    "plt.title('Evaluation Metrics for Logistic Regression')"
   ]
  },
  {
   "cell_type": "code",
   "execution_count": 0,
   "metadata": {
    "colab": {},
    "colab_type": "code",
    "id": "69vkWD86tDoU"
   },
   "outputs": [],
   "source": [
    "#print(pd.DataFrame({'Val':Y_test,'Pred':classifier.predict(X_test)}))"
   ]
  },
  {
   "cell_type": "markdown",
   "metadata": {
    "colab_type": "text",
    "id": "nRZPxsBo1F_c"
   },
   "source": [
    "###Decision Tree Classifier"
   ]
  },
  {
   "cell_type": "code",
   "execution_count": 0,
   "metadata": {
    "colab": {},
    "colab_type": "code",
    "id": "X6Wboj3t1P_p"
   },
   "outputs": [],
   "source": [
    "from sklearn.tree import DecisionTreeClassifier as dtc\n",
    "classifier = dtc(max_depth=2)"
   ]
  },
  {
   "cell_type": "code",
   "execution_count": 0,
   "metadata": {
    "colab": {},
    "colab_type": "code",
    "id": "HEMkNq_b1P_4"
   },
   "outputs": [],
   "source": [
    "X = tdata[['location','country','gender','age','vis_wuhan','from_wuhan','symptom1','symptom2','symptom3','symptom4','symptom5','symptom6','diff_sym_hos']]\n",
    "Y = tdata['death']"
   ]
  },
  {
   "cell_type": "code",
   "execution_count": 24,
   "metadata": {
    "colab": {
     "base_uri": "https://localhost:8080/",
     "height": 119
    },
    "colab_type": "code",
    "id": "TaJSM50y1P_-",
    "outputId": "94054250-6202-48a2-ca3b-30a8cb14f005"
   },
   "outputs": [
    {
     "data": {
      "text/plain": [
       "DecisionTreeClassifier(ccp_alpha=0.0, class_weight=None, criterion='gini',\n",
       "                       max_depth=2, max_features=None, max_leaf_nodes=None,\n",
       "                       min_impurity_decrease=0.0, min_impurity_split=None,\n",
       "                       min_samples_leaf=1, min_samples_split=2,\n",
       "                       min_weight_fraction_leaf=0.0, presort='deprecated',\n",
       "                       random_state=None, splitter='best')"
      ]
     },
     "execution_count": 24,
     "metadata": {
      "tags": []
     },
     "output_type": "execute_result"
    }
   ],
   "source": [
    "X_train, X_test, Y_train, Y_test = train_test_split(X,Y,test_size=0.2,random_state=10)\n",
    "classifier.fit(X_train,np.array(Y_train).reshape(Y_train.shape[0],1))\n"
   ]
  },
  {
   "cell_type": "markdown",
   "metadata": {
    "colab_type": "text",
    "id": "AqRIHx9S1QAF"
   },
   "source": [
    "######Evaluation of the model"
   ]
  },
  {
   "cell_type": "code",
   "execution_count": 0,
   "metadata": {
    "colab": {},
    "colab_type": "code",
    "id": "MCUMzAhi1QAG"
   },
   "outputs": [],
   "source": [
    "pred = np.array(classifier.predict(X_test))\n",
    "\n",
    "recall_dtc = rs(Y_test,pred)\n",
    "precision_dtc = ps(Y_test,pred)\n",
    "f1_dtc = fs(Y_test,pred)\n",
    "ma_dtc = classifier.score(X_test,Y_test)"
   ]
  },
  {
   "cell_type": "code",
   "execution_count": 26,
   "metadata": {
    "colab": {
     "base_uri": "https://localhost:8080/",
     "height": 272
    },
    "colab_type": "code",
    "id": "18K9mjoX1QAM",
    "outputId": "bf1b63d3-d584-437f-98e5-6579f5749e25"
   },
   "outputs": [
    {
     "name": "stdout",
     "output_type": "stream",
     "text": [
      "*** Evaluation metrics for test dataset ***\n",
      "\n",
      "Recall Score:  0.5454545454545454\n",
      "Precision Score:  0.8571428571428571\n",
      "F1 Score:  0.6666666666666665\n",
      "Accuracy:  0.8666666666666667\n",
      "\n",
      "\tTable 3\n",
      "\n",
      "     death  pred\n",
      "184      0     0\n",
      "170      1     0\n",
      "142      0     0\n",
      "182      0     0\n",
      "49       1     0\n"
     ]
    }
   ],
   "source": [
    "print('*** Evaluation metrics for test dataset ***\\n')\n",
    "print('Recall Score: ',recall_dtc)\n",
    "print('Precision Score: ',precision_dtc)\n",
    "print('F1 Score: ',f1_dtc)\n",
    "print('Accuracy: ',ma_dtc)\n",
    "a = pd.DataFrame(Y_test)\n",
    "a['pred']= classifier.predict(X_test)\n",
    "print('\\n\\tTable 3\\n')\n",
    "print(a.head())"
   ]
  },
  {
   "cell_type": "code",
   "execution_count": 56,
   "metadata": {
    "colab": {
     "base_uri": "https://localhost:8080/",
     "height": 298
    },
    "colab_type": "code",
    "id": "QbBSo0GH1QAR",
    "outputId": "c2543ee5-4179-4363-ddfa-a679402a2965"
   },
   "outputs": [
    {
     "data": {
      "text/plain": [
       "Text(0.5, 1.0, 'Evaluation Metrics for Decision Tree')"
      ]
     },
     "execution_count": 56,
     "metadata": {
      "tags": []
     },
     "output_type": "execute_result"
    },
    {
     "data": {
      "image/png": "[encoded data removed]",
      "text/plain": [
       "<Figure size 432x288 with 1 Axes>"
      ]
     },
     "metadata": {
      "needs_background": "light",
      "tags": []
     },
     "output_type": "display_data"
    }
   ],
   "source": [
    "import matplotlib.pyplot as plt\n",
    "\n",
    "plt.bar(['Accuracy','F1 Score','Recall Score','Precision Score'],[ma_dtc,f1_dtc,recall_dtc,precision_dtc],color=['red','green','purple','orange'])\n",
    "plt.plot([ma_dtc,f1_dtc,recall_dtc,precision_dtc],color='black')\n",
    "plt.title('Evaluation Metrics for Decision Tree')"
   ]
  },
  {
   "cell_type": "markdown",
   "metadata": {
    "colab_type": "text",
    "id": "GUdAzXF3offb"
   },
   "source": [
    "######Visualizing the decision trees from random forest"
   ]
  },
  {
   "cell_type": "code",
   "execution_count": 28,
   "metadata": {
    "colab": {
     "base_uri": "https://localhost:8080/",
     "height": 271
    },
    "colab_type": "code",
    "id": "uAdfJJPMkNL-",
    "outputId": "1be08991-245b-4771-b827-e5305280c06b"
   },
   "outputs": [
    {
     "name": "stderr",
     "output_type": "stream",
     "text": [
      "/usr/local/lib/python3.6/dist-packages/sklearn/externals/six.py:31: FutureWarning: The module is deprecated in version 0.21 and will be removed in version 0.23 since we've dropped support for Python 2.7. Please rely on the official version of six (https://pypi.org/project/six/).\n",
      "  \"(https://pypi.org/project/six/).\", FutureWarning)\n"
     ]
    },
    {
     "data": {
      "image/png": "[encoded data removed]",
      "text/plain": [
       "<IPython.core.display.Image object>"
      ]
     },
     "execution_count": 28,
     "metadata": {
      "image/png": {
       "height": 200,
       "width": 250
      },
      "tags": []
     },
     "output_type": "execute_result"
    }
   ],
   "source": [
    "classifier.fit(X_train,np.array(Y_train).reshape(Y_train.shape[0],1))\n",
    "from sklearn.externals.six import StringIO  \n",
    "from IPython.display import Image  \n",
    "from sklearn.tree import export_graphviz\n",
    "import pydotplus\n",
    "\n",
    "estimator = classifier\n",
    "dot_data = StringIO()\n",
    "export_graphviz(estimator, out_file=dot_data,  \n",
    "                filled=True, rounded=True,\n",
    "                special_characters=True)\n",
    "graph = pydotplus.graph_from_dot_data(dot_data.getvalue())  \n",
    "Image(graph.create_png(),width=250,height=200)\n"
   ]
  },
  {
   "cell_type": "markdown",
   "metadata": {
    "colab_type": "text",
    "id": "drOJRhkW2voo"
   },
   "source": [
    "###SVM"
   ]
  },
  {
   "cell_type": "code",
   "execution_count": 0,
   "metadata": {
    "colab": {},
    "colab_type": "code",
    "id": "WbRACbyI2xCS"
   },
   "outputs": [],
   "source": [
    "from sklearn import svm\n",
    "classifier = svm.SVC()"
   ]
  },
  {
   "cell_type": "code",
   "execution_count": 0,
   "metadata": {
    "colab": {},
    "colab_type": "code",
    "id": "4AFSOOqw2xCg"
   },
   "outputs": [],
   "source": [
    "X = tdata[['location','country','gender','age','vis_wuhan','from_wuhan','symptom1','symptom2','symptom3','symptom4','symptom5','symptom6','diff_sym_hos']]\n",
    "Y = tdata['death']"
   ]
  },
  {
   "cell_type": "code",
   "execution_count": 31,
   "metadata": {
    "colab": {
     "base_uri": "https://localhost:8080/",
     "height": 139
    },
    "colab_type": "code",
    "id": "4y3yODJQ2xCu",
    "outputId": "b0de150c-b2f6-4f76-a7dc-69dc4615439e"
   },
   "outputs": [
    {
     "name": "stderr",
     "output_type": "stream",
     "text": [
      "/usr/local/lib/python3.6/dist-packages/sklearn/utils/validation.py:760: DataConversionWarning: A column-vector y was passed when a 1d array was expected. Please change the shape of y to (n_samples, ), for example using ravel().\n",
      "  y = column_or_1d(y, warn=True)\n"
     ]
    },
    {
     "data": {
      "text/plain": [
       "SVC(C=1.0, break_ties=False, cache_size=200, class_weight=None, coef0=0.0,\n",
       "    decision_function_shape='ovr', degree=3, gamma='scale', kernel='rbf',\n",
       "    max_iter=-1, probability=False, random_state=None, shrinking=True,\n",
       "    tol=0.001, verbose=False)"
      ]
     },
     "execution_count": 31,
     "metadata": {
      "tags": []
     },
     "output_type": "execute_result"
    }
   ],
   "source": [
    "X_train, X_test, Y_train, Y_test = train_test_split(X,Y,test_size=0.2,random_state=10)\n",
    "classifier.fit(X_train,np.array(Y_train).reshape(Y_train.shape[0],1))\n"
   ]
  },
  {
   "cell_type": "markdown",
   "metadata": {
    "colab_type": "text",
    "id": "3zKgizqW2xC3"
   },
   "source": [
    "######Evaluation of the model"
   ]
  },
  {
   "cell_type": "code",
   "execution_count": 0,
   "metadata": {
    "colab": {},
    "colab_type": "code",
    "id": "YaRJTyH82xC4"
   },
   "outputs": [],
   "source": [
    "pred = np.array(classifier.predict(X_test))\n",
    "\n",
    "recall_svm = rs(Y_test,pred)\n",
    "precision_svm = ps(Y_test,pred)\n",
    "f1_svm = fs(Y_test,pred)\n",
    "ma_svm = classifier.score(X_test,Y_test)"
   ]
  },
  {
   "cell_type": "code",
   "execution_count": 33,
   "metadata": {
    "colab": {
     "base_uri": "https://localhost:8080/",
     "height": 272
    },
    "colab_type": "code",
    "id": "EY_BbL8a2xC-",
    "outputId": "f43674c6-2280-4e24-9f3c-2344bca3c6af"
   },
   "outputs": [
    {
     "name": "stdout",
     "output_type": "stream",
     "text": [
      "*** Evaluation metrics for test dataset ***\n",
      "\n",
      "Recall Score:  0.6363636363636364\n",
      "Precision Score:  0.7\n",
      "F1 Score:  0.6666666666666666\n",
      "Accuracy:  0.8444444444444444\n",
      "\n",
      "\tTable 3\n",
      "\n",
      "     death  pred\n",
      "184      0     0\n",
      "170      1     0\n",
      "142      0     0\n",
      "182      0     0\n",
      "49       1     1\n"
     ]
    }
   ],
   "source": [
    "print('*** Evaluation metrics for test dataset ***\\n')\n",
    "print('Recall Score: ',recall_svm)\n",
    "print('Precision Score: ',precision_svm)\n",
    "print('F1 Score: ',f1_svm)\n",
    "print('Accuracy: ',ma_svm)\n",
    "a = pd.DataFrame(Y_test)\n",
    "a['pred']= classifier.predict(X_test)\n",
    "print('\\n\\tTable 3\\n')\n",
    "print(a.head())"
   ]
  },
  {
   "cell_type": "code",
   "execution_count": 57,
   "metadata": {
    "colab": {
     "base_uri": "https://localhost:8080/",
     "height": 298
    },
    "colab_type": "code",
    "id": "tjJp35F12xDD",
    "outputId": "282d21b8-46c3-4c07-f068-f7d6df2316ff"
   },
   "outputs": [
    {
     "data": {
      "text/plain": [
       "Text(0.5, 1.0, 'Evaluation Metrics for Support Vector Machine')"
      ]
     },
     "execution_count": 57,
     "metadata": {
      "tags": []
     },
     "output_type": "execute_result"
    },
    {
     "data": {
      "image/png": "[encoded data removed]",
      "text/plain": [
       "<Figure size 432x288 with 1 Axes>"
      ]
     },
     "metadata": {
      "needs_background": "light",
      "tags": []
     },
     "output_type": "display_data"
    }
   ],
   "source": [
    "import matplotlib.pyplot as plt\n",
    "\n",
    "plt.bar(['Accuracy','F1 Score','Recall Score','Precision Score'],[ma_svm,f1_svm,recall_svm,precision_svm],color=['red','green','purple','orange'])\n",
    "plt.plot([ma_svm,f1_svm,recall_svm,precision_svm],color='black')\n",
    "plt.title('Evaluation Metrics for Support Vector Machine')"
   ]
  },
  {
   "cell_type": "markdown",
   "metadata": {
    "colab_type": "text",
    "id": "aejoz6yW3R_1"
   },
   "source": [
    "###Gaussian Naive Bayes"
   ]
  },
  {
   "cell_type": "code",
   "execution_count": 0,
   "metadata": {
    "colab": {},
    "colab_type": "code",
    "id": "FgV2wh503ikt"
   },
   "outputs": [],
   "source": [
    "from sklearn.naive_bayes import GaussianNB\n",
    "classifier = GaussianNB()"
   ]
  },
  {
   "cell_type": "code",
   "execution_count": 0,
   "metadata": {
    "colab": {},
    "colab_type": "code",
    "id": "6D8PjlV73ik7"
   },
   "outputs": [],
   "source": [
    "X = tdata[['location','country','gender','age','vis_wuhan','from_wuhan','symptom1','symptom2','symptom3','symptom4','symptom5','symptom6','diff_sym_hos']]\n",
    "Y = tdata['death']"
   ]
  },
  {
   "cell_type": "code",
   "execution_count": 37,
   "metadata": {
    "colab": {
     "base_uri": "https://localhost:8080/",
     "height": 88
    },
    "colab_type": "code",
    "id": "2NtkH2CO3ilE",
    "outputId": "0423d6c0-9bf5-4579-abf5-bfcdff9d7094"
   },
   "outputs": [
    {
     "name": "stderr",
     "output_type": "stream",
     "text": [
      "/usr/local/lib/python3.6/dist-packages/sklearn/naive_bayes.py:206: DataConversionWarning: A column-vector y was passed when a 1d array was expected. Please change the shape of y to (n_samples, ), for example using ravel().\n",
      "  y = column_or_1d(y, warn=True)\n"
     ]
    },
    {
     "data": {
      "text/plain": [
       "GaussianNB(priors=None, var_smoothing=1e-09)"
      ]
     },
     "execution_count": 37,
     "metadata": {
      "tags": []
     },
     "output_type": "execute_result"
    }
   ],
   "source": [
    "X_train, X_test, Y_train, Y_test = train_test_split(X,Y,test_size=0.2,random_state=10)\n",
    "classifier.fit(X_train,np.array(Y_train).reshape(Y_train.shape[0],1))\n"
   ]
  },
  {
   "cell_type": "markdown",
   "metadata": {
    "colab_type": "text",
    "id": "9O6RJysN3ilP"
   },
   "source": [
    "######Evaluation of the model"
   ]
  },
  {
   "cell_type": "code",
   "execution_count": 0,
   "metadata": {
    "colab": {},
    "colab_type": "code",
    "id": "uEu8rlTw3ilR"
   },
   "outputs": [],
   "source": [
    "pred = np.array(classifier.predict(X_test))\n",
    "\n",
    "recall_gnb = rs(Y_test,pred)\n",
    "precision_gnb = ps(Y_test,pred)\n",
    "f1_gnb = fs(Y_test,pred)\n",
    "ma_gnb = classifier.score(X_test,Y_test)"
   ]
  },
  {
   "cell_type": "code",
   "execution_count": 39,
   "metadata": {
    "colab": {
     "base_uri": "https://localhost:8080/",
     "height": 272
    },
    "colab_type": "code",
    "id": "eovrIeK73ilb",
    "outputId": "3d8bd104-415a-400b-caed-ed5b1cde71fb"
   },
   "outputs": [
    {
     "name": "stdout",
     "output_type": "stream",
     "text": [
      "*** Evaluation metrics for test dataset ***\n",
      "\n",
      "Recall Score:  0.7272727272727273\n",
      "Precision Score:  0.5333333333333333\n",
      "F1 Score:  0.6153846153846153\n",
      "Accuracy:  0.7777777777777778\n",
      "\n",
      "\tTable 3\n",
      "\n",
      "     death  pred\n",
      "184      0     0\n",
      "170      1     0\n",
      "142      0     0\n",
      "182      0     0\n",
      "49       1     1\n"
     ]
    }
   ],
   "source": [
    "print('*** Evaluation metrics for test dataset ***\\n')\n",
    "print('Recall Score: ',recall_gnb)\n",
    "print('Precision Score: ',precision_gnb)\n",
    "print('F1 Score: ',f1_gnb)\n",
    "print('Accuracy: ',ma_gnb)\n",
    "a = pd.DataFrame(Y_test)\n",
    "a['pred']= classifier.predict(X_test)\n",
    "print('\\n\\tTable 3\\n')\n",
    "print(a.head())"
   ]
  },
  {
   "cell_type": "code",
   "execution_count": 58,
   "metadata": {
    "colab": {
     "base_uri": "https://localhost:8080/",
     "height": 298
    },
    "colab_type": "code",
    "id": "E62591Tw3ilh",
    "outputId": "847b0b44-dbe4-4866-d3f5-a1c9b323035b"
   },
   "outputs": [
    {
     "data": {
      "text/plain": [
       "Text(0.5, 1.0, 'Evaluation Metrics for Gaussian Naive Bayes')"
      ]
     },
     "execution_count": 58,
     "metadata": {
      "tags": []
     },
     "output_type": "execute_result"
    },
    {
     "data": {
      "image/png": "[encoded data removed]",
      "text/plain": [
       "<Figure size 432x288 with 1 Axes>"
      ]
     },
     "metadata": {
      "needs_background": "light",
      "tags": []
     },
     "output_type": "display_data"
    }
   ],
   "source": [
    "import matplotlib.pyplot as plt\n",
    "\n",
    "plt.bar(['Accuracy','F1 Score','Recall Score','Precision Score'],[ma_gnb,f1_gnb,recall_gnb,precision_gnb],color=['red','green','purple','orange'])\n",
    "plt.plot([ma_gnb,f1_gnb,recall_gnb,precision_gnb],color='black')\n",
    "plt.title('Evaluation Metrics for Gaussian Naive Bayes')"
   ]
  },
  {
   "cell_type": "markdown",
   "metadata": {
    "colab_type": "text",
    "id": "MC2MzVvI6iMm"
   },
   "source": [
    "###Boosted Random Forest"
   ]
  },
  {
   "cell_type": "code",
   "execution_count": 0,
   "metadata": {
    "colab": {},
    "colab_type": "code",
    "id": "afhmdljp6gfO"
   },
   "outputs": [],
   "source": [
    "from sklearn.metrics import recall_score as rs\n",
    "from sklearn.metrics import precision_score as ps\n",
    "from sklearn.metrics import f1_score as fs\n",
    "from sklearn.metrics import balanced_accuracy_score as bas\n",
    "from sklearn.metrics import confusion_matrix as cm"
   ]
  },
  {
   "cell_type": "code",
   "execution_count": 0,
   "metadata": {
    "colab": {},
    "colab_type": "code",
    "id": "CaQx21TE6gfV"
   },
   "outputs": [],
   "source": [
    "rf = RandomForestClassifier(bootstrap=True, ccp_alpha=0.0, class_weight=None,\n",
    "                       criterion='gini', max_depth=2, max_features='auto',\n",
    "                       max_leaf_nodes=None, max_samples=None,\n",
    "                       min_impurity_decrease=0.0, min_impurity_split=None,\n",
    "                       min_samples_leaf=2, min_samples_split=2,\n",
    "                       min_weight_fraction_leaf=0.0, n_estimators=100,\n",
    "                       n_jobs=None, oob_score=False, random_state=None,\n",
    "                       verbose=0, warm_start=False)\n",
    "classifier = AdaBoostClassifier(rf,50,0.01,'SAMME.R',10)"
   ]
  },
  {
   "cell_type": "code",
   "execution_count": 0,
   "metadata": {
    "colab": {},
    "colab_type": "code",
    "id": "7FsgDL6D6gfa"
   },
   "outputs": [],
   "source": [
    "X = tdata[['location','country','gender','age','vis_wuhan','from_wuhan','symptom1','symptom2','symptom3','symptom4','symptom5','symptom6','diff_sym_hos']]\n",
    "Y = tdata['death']"
   ]
  },
  {
   "cell_type": "code",
   "execution_count": 73,
   "metadata": {
    "colab": {
     "base_uri": "https://localhost:8080/",
     "height": 428
    },
    "colab_type": "code",
    "id": "zKX3NNZJ6gfg",
    "outputId": "3ca7d132-b1fa-41af-f5a5-2580a5fe0ad5"
   },
   "outputs": [
    {
     "name": "stderr",
     "output_type": "stream",
     "text": [
      "/usr/local/lib/python3.6/dist-packages/sklearn/utils/validation.py:760: DataConversionWarning: A column-vector y was passed when a 1d array was expected. Please change the shape of y to (n_samples, ), for example using ravel().\n",
      "  y = column_or_1d(y, warn=True)\n"
     ]
    },
    {
     "data": {
      "text/plain": [
       "AdaBoostClassifier(algorithm='SAMME.R',\n",
       "                   base_estimator=RandomForestClassifier(bootstrap=True,\n",
       "                                                         ccp_alpha=0.0,\n",
       "                                                         class_weight=None,\n",
       "                                                         criterion='gini',\n",
       "                                                         max_depth=2,\n",
       "                                                         max_features='auto',\n",
       "                                                         max_leaf_nodes=None,\n",
       "                                                         max_samples=None,\n",
       "                                                         min_impurity_decrease=0.0,\n",
       "                                                         min_impurity_split=None,\n",
       "                                                         min_samples_leaf=2,\n",
       "                                                         min_samples_split=2,\n",
       "                                                         min_weight_fraction_leaf=0.0,\n",
       "                                                         n_estimators=100,\n",
       "                                                         n_jobs=None,\n",
       "                                                         oob_score=False,\n",
       "                                                         random_state=None,\n",
       "                                                         verbose=0,\n",
       "                                                         warm_start=False),\n",
       "                   learning_rate=0.01, n_estimators=50, random_state=10)"
      ]
     },
     "execution_count": 73,
     "metadata": {
      "tags": []
     },
     "output_type": "execute_result"
    }
   ],
   "source": [
    "X_train, X_test, Y_train, Y_test = train_test_split(X,Y,test_size=0.2,random_state=0)\n",
    "classifier.fit(X_train,np.array(Y_train).reshape(Y_train.shape[0],1))\n"
   ]
  },
  {
   "cell_type": "markdown",
   "metadata": {
    "colab_type": "text",
    "id": "9DJgBXNfG2o8"
   },
   "source": [
    "######Evaluation of the model"
   ]
  },
  {
   "cell_type": "code",
   "execution_count": 0,
   "metadata": {
    "colab": {},
    "colab_type": "code",
    "id": "8ddZ5qJO609l"
   },
   "outputs": [],
   "source": [
    "pred = np.array(classifier.predict(X_test))\n",
    "\n",
    "recall = rs(Y_test,pred)\n",
    "precision = ps(Y_test,pred)\n",
    "f1 = fs(Y_test,pred)\n",
    "ma = classifier.score(X_test,Y_test)"
   ]
  },
  {
   "cell_type": "code",
   "execution_count": 75,
   "metadata": {
    "colab": {
     "base_uri": "https://localhost:8080/",
     "height": 272
    },
    "colab_type": "code",
    "id": "lt1X4VZv6gfm",
    "outputId": "7dbf0a1c-fd26-47ce-8479-503598322797"
   },
   "outputs": [
    {
     "name": "stdout",
     "output_type": "stream",
     "text": [
      "*** Evaluation metrics for test dataset ***\n",
      "\n",
      "Recall Score:  0.75\n",
      "Precision Score:  1.0\n",
      "F1 Score:  0.8571428571428571\n",
      "Accuracy:  0.9333333333333333\n",
      "\n",
      "\tTable 3\n",
      "\n",
      "     death  pred\n",
      "130      0     0\n",
      "203      0     0\n",
      "170      1     0\n",
      "66       0     0\n",
      "181      0     0\n"
     ]
    }
   ],
   "source": [
    "print('*** Evaluation metrics for test dataset ***\\n')\n",
    "print('Recall Score: ',recall)\n",
    "print('Precision Score: ',precision)\n",
    "print('F1 Score: ',f1)\n",
    "print('Accuracy: ',ma)\n",
    "a = pd.DataFrame(Y_test)\n",
    "a['pred']= classifier.predict(X_test)\n",
    "print('\\n\\tTable 3\\n')\n",
    "print(a.head())"
   ]
  },
  {
   "cell_type": "markdown",
   "metadata": {
    "colab_type": "text",
    "id": "WKx7g9wQ513H"
   },
   "source": [
    "###Comparison of Evaluation Metrics"
   ]
  },
  {
   "cell_type": "code",
   "execution_count": 76,
   "metadata": {
    "colab": {
     "base_uri": "https://localhost:8080/",
     "height": 390
    },
    "colab_type": "code",
    "id": "7xl4e1c76Rry",
    "outputId": "ea8beffd-1d39-4e2a-aa8f-bbcd0414a835"
   },
   "outputs": [
    {
     "data": {
      "image/png": "[encoded data removed]",
      "text/plain": [
       "<Figure size 576x432 with 1 Axes>"
      ]
     },
     "metadata": {
      "needs_background": "light",
      "tags": []
     },
     "output_type": "display_data"
    }
   ],
   "source": [
    "import matplotlib.pyplot as plt\n",
    "fig = plt.figure(figsize=(8,6))\n",
    "#plt.bar(['Logistic Regression','Decision Tree','SVM','Gaussian NB','Boosted Random Forest'],[f1_lr,f1_dtc,f1_svm,f1_gnb,f1],color=['red','green','purple','orange','Blue'])\n",
    "plt.plot(['Logistic Regression','Decision Tree','Boosted Random Forest','SVM','Gaussian NB'],[f1_lr,f1_dtc,f1,f1_svm,f1_gnb],color='purple',marker='D')\n",
    "plt.plot(['Logistic Regression','Decision Tree','Boosted Random Forest','SVM','Gaussian NB'],[ma_lr,ma_dtc,ma,ma_svm,ma_gnb],color='red',marker='^')\n",
    "plt.plot(['Logistic Regression','Decision Tree','Boosted Random Forest','SVM','Gaussian NB'],[precision_lr,precision_dtc,precision,precision_svm,precision_gnb],color='blue',marker='s')\n",
    "plt.plot(['Logistic Regression','Decision Tree','Boosted Random Forest','SVM','Gaussian NB'],[recall_lr,recall_dtc,recall,recall_svm,recall_gnb],color='green',marker='P')\n",
    "plt.legend(('F1 Score','Accuracy','Precision','Recall'))\n",
    "plt.title('Comparison of various models\\' performance')\n",
    "\n",
    "plt.show(fig)"
   ]
  },
  {
   "cell_type": "code",
   "execution_count": 0,
   "metadata": {
    "colab": {},
    "colab_type": "code",
    "id": "dG04IRZLCrC6"
   },
   "outputs": [],
   "source": []
  }
 ],
 "metadata": {
  "colab": {
   "collapsed_sections": [
    "wuEnp-EiF_X9",
    "Jmgcf3iLeK0z",
    "mO_GHtYI0rMw",
    "nRZPxsBo1F_c",
    "drOJRhkW2voo",
    "aejoz6yW3R_1",
    "MC2MzVvI6iMm",
    "WKx7g9wQ513H"
   ],
   "name": "COVID-19 Model Comparison",
   "provenance": []
  },
  "kernelspec": {
   "display_name": "Python [conda env:shared-ds38]",
   "language": "python",
   "name": "conda-env-shared-ds38-py"
  },
  "language_info": {
   "codemirror_mode": {
    "name": "ipython",
    "version": 3
   },
   "file_extension": ".py",
   "mimetype": "text/x-python",
   "name": "python",
   "nbconvert_exporter": "python",
   "pygments_lexer": "ipython3",
   "version": "3.8.2"
  }
 },
 "nbformat": 4,
 "nbformat_minor": 1
}
