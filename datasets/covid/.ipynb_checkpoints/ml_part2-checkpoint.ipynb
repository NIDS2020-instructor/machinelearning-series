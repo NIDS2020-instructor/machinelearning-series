{
 "cells": [
  {
   "cell_type": "code",
   "execution_count": 1,
   "metadata": {
    "ExecuteTime": {
     "end_time": "2020-12-01T20:56:12.498850Z",
     "start_time": "2020-12-01T20:56:12.237968Z"
    }
   },
   "outputs": [],
   "source": [
    "import os\n",
    "import numpy as np\n",
    "import pandas as pd\n",
    "import datetime as dt\n",
    "import sklearn\n",
    "from scipy import stats\n",
    "from sklearn import preprocessing\n",
    "import matplotlib.pyplot as plt\n",
    "import seaborn as sns"
   ]
  },
  {
   "cell_type": "code",
   "execution_count": 2,
   "metadata": {
    "ExecuteTime": {
     "end_time": "2020-12-01T20:56:12.503327Z",
     "start_time": "2020-12-01T20:56:12.500336Z"
    }
   },
   "outputs": [],
   "source": [
    "%matplotlib inline"
   ]
  },
  {
   "cell_type": "markdown",
   "metadata": {},
   "source": [
    "# Article data"
   ]
  },
  {
   "cell_type": "markdown",
   "metadata": {},
   "source": [
    "Article: https://www.frontiersin.org/articles/10.3389/fpubh.2020.00357/full"
   ]
  },
  {
   "cell_type": "code",
   "execution_count": 3,
   "metadata": {
    "ExecuteTime": {
     "end_time": "2020-12-01T21:19:55.124578Z",
     "start_time": "2020-12-01T21:19:55.115896Z"
    }
   },
   "outputs": [],
   "source": [
    "data_dir = 'cvd'\n",
    "train_data_csv = os.path.join(data_dir, 'train.csv')\n",
    "X_df = pd.read_csv(train_data_csv)"
   ]
  },
  {
   "cell_type": "code",
   "execution_count": 4,
   "metadata": {
    "scrolled": true
   },
   "outputs": [
    {
     "data": {
      "text/html": [
       "<div>\n",
       "<style scoped>\n",
       "    .dataframe tbody tr th:only-of-type {\n",
       "        vertical-align: middle;\n",
       "    }\n",
       "\n",
       "    .dataframe tbody tr th {\n",
       "        vertical-align: top;\n",
       "    }\n",
       "\n",
       "    .dataframe thead th {\n",
       "        text-align: right;\n",
       "    }\n",
       "</style>\n",
       "<table border=\"1\" class=\"dataframe\">\n",
       "  <thead>\n",
       "    <tr style=\"text-align: right;\">\n",
       "      <th></th>\n",
       "      <th>id</th>\n",
       "      <th>location</th>\n",
       "      <th>country</th>\n",
       "      <th>gender</th>\n",
       "      <th>age</th>\n",
       "      <th>sym_on</th>\n",
       "      <th>hosp_vis</th>\n",
       "      <th>vis_wuhan</th>\n",
       "      <th>from_wuhan</th>\n",
       "      <th>death</th>\n",
       "      <th>symptom1</th>\n",
       "      <th>symptom2</th>\n",
       "      <th>symptom3</th>\n",
       "      <th>symptom4</th>\n",
       "      <th>symptom5</th>\n",
       "      <th>symptom6</th>\n",
       "    </tr>\n",
       "  </thead>\n",
       "  <tbody>\n",
       "    <tr>\n",
       "      <th>0</th>\n",
       "      <td>49</td>\n",
       "      <td>Wuhan, Hubei</td>\n",
       "      <td>China</td>\n",
       "      <td>male</td>\n",
       "      <td>61.0</td>\n",
       "      <td>12/20/2019</td>\n",
       "      <td>12/27/2019</td>\n",
       "      <td>0</td>\n",
       "      <td>1</td>\n",
       "      <td>1</td>\n",
       "      <td>NaN</td>\n",
       "      <td>NaN</td>\n",
       "      <td>NaN</td>\n",
       "      <td>NaN</td>\n",
       "      <td>NaN</td>\n",
       "      <td>NaN</td>\n",
       "    </tr>\n",
       "    <tr>\n",
       "      <th>1</th>\n",
       "      <td>50</td>\n",
       "      <td>Wuhan, Hubei</td>\n",
       "      <td>China</td>\n",
       "      <td>male</td>\n",
       "      <td>69.0</td>\n",
       "      <td>12/30/2019</td>\n",
       "      <td>1/3/2020</td>\n",
       "      <td>0</td>\n",
       "      <td>1</td>\n",
       "      <td>1</td>\n",
       "      <td>NaN</td>\n",
       "      <td>NaN</td>\n",
       "      <td>NaN</td>\n",
       "      <td>NaN</td>\n",
       "      <td>NaN</td>\n",
       "      <td>NaN</td>\n",
       "    </tr>\n",
       "    <tr>\n",
       "      <th>2</th>\n",
       "      <td>51</td>\n",
       "      <td>Wuhan, Hubei</td>\n",
       "      <td>China</td>\n",
       "      <td>male</td>\n",
       "      <td>89.0</td>\n",
       "      <td>NaN</td>\n",
       "      <td>NaN</td>\n",
       "      <td>0</td>\n",
       "      <td>1</td>\n",
       "      <td>1</td>\n",
       "      <td>NaN</td>\n",
       "      <td>NaN</td>\n",
       "      <td>NaN</td>\n",
       "      <td>NaN</td>\n",
       "      <td>NaN</td>\n",
       "      <td>NaN</td>\n",
       "    </tr>\n",
       "    <tr>\n",
       "      <th>3</th>\n",
       "      <td>52</td>\n",
       "      <td>Wuhan, Hubei</td>\n",
       "      <td>China</td>\n",
       "      <td>male</td>\n",
       "      <td>89.0</td>\n",
       "      <td>1/13/2020</td>\n",
       "      <td>1/13/2020</td>\n",
       "      <td>0</td>\n",
       "      <td>1</td>\n",
       "      <td>1</td>\n",
       "      <td>NaN</td>\n",
       "      <td>NaN</td>\n",
       "      <td>NaN</td>\n",
       "      <td>NaN</td>\n",
       "      <td>NaN</td>\n",
       "      <td>NaN</td>\n",
       "    </tr>\n",
       "    <tr>\n",
       "      <th>4</th>\n",
       "      <td>53</td>\n",
       "      <td>Wuhan, Hubei</td>\n",
       "      <td>China</td>\n",
       "      <td>male</td>\n",
       "      <td>66.0</td>\n",
       "      <td>1/10/2020</td>\n",
       "      <td>1/16/2020</td>\n",
       "      <td>0</td>\n",
       "      <td>1</td>\n",
       "      <td>1</td>\n",
       "      <td>NaN</td>\n",
       "      <td>NaN</td>\n",
       "      <td>NaN</td>\n",
       "      <td>NaN</td>\n",
       "      <td>NaN</td>\n",
       "      <td>NaN</td>\n",
       "    </tr>\n",
       "    <tr>\n",
       "      <th>...</th>\n",
       "      <td>...</td>\n",
       "      <td>...</td>\n",
       "      <td>...</td>\n",
       "      <td>...</td>\n",
       "      <td>...</td>\n",
       "      <td>...</td>\n",
       "      <td>...</td>\n",
       "      <td>...</td>\n",
       "      <td>...</td>\n",
       "      <td>...</td>\n",
       "      <td>...</td>\n",
       "      <td>...</td>\n",
       "      <td>...</td>\n",
       "      <td>...</td>\n",
       "      <td>...</td>\n",
       "      <td>...</td>\n",
       "    </tr>\n",
       "    <tr>\n",
       "      <th>217</th>\n",
       "      <td>1033</td>\n",
       "      <td>Egypt</td>\n",
       "      <td>Egypt</td>\n",
       "      <td>NaN</td>\n",
       "      <td>NaN</td>\n",
       "      <td>NaN</td>\n",
       "      <td>NaN</td>\n",
       "      <td>0</td>\n",
       "      <td>0</td>\n",
       "      <td>0</td>\n",
       "      <td>NaN</td>\n",
       "      <td>NaN</td>\n",
       "      <td>NaN</td>\n",
       "      <td>NaN</td>\n",
       "      <td>NaN</td>\n",
       "      <td>NaN</td>\n",
       "    </tr>\n",
       "    <tr>\n",
       "      <th>218</th>\n",
       "      <td>1034</td>\n",
       "      <td>Qom</td>\n",
       "      <td>Iran</td>\n",
       "      <td>NaN</td>\n",
       "      <td>NaN</td>\n",
       "      <td>NaN</td>\n",
       "      <td>NaN</td>\n",
       "      <td>0</td>\n",
       "      <td>0</td>\n",
       "      <td>1</td>\n",
       "      <td>NaN</td>\n",
       "      <td>NaN</td>\n",
       "      <td>NaN</td>\n",
       "      <td>NaN</td>\n",
       "      <td>NaN</td>\n",
       "      <td>NaN</td>\n",
       "    </tr>\n",
       "    <tr>\n",
       "      <th>219</th>\n",
       "      <td>1035</td>\n",
       "      <td>Qom</td>\n",
       "      <td>Iran</td>\n",
       "      <td>NaN</td>\n",
       "      <td>NaN</td>\n",
       "      <td>NaN</td>\n",
       "      <td>NaN</td>\n",
       "      <td>0</td>\n",
       "      <td>0</td>\n",
       "      <td>1</td>\n",
       "      <td>NaN</td>\n",
       "      <td>NaN</td>\n",
       "      <td>NaN</td>\n",
       "      <td>NaN</td>\n",
       "      <td>NaN</td>\n",
       "      <td>NaN</td>\n",
       "    </tr>\n",
       "    <tr>\n",
       "      <th>220</th>\n",
       "      <td>1036</td>\n",
       "      <td>Qom</td>\n",
       "      <td>Iran</td>\n",
       "      <td>NaN</td>\n",
       "      <td>NaN</td>\n",
       "      <td>NaN</td>\n",
       "      <td>NaN</td>\n",
       "      <td>0</td>\n",
       "      <td>0</td>\n",
       "      <td>1</td>\n",
       "      <td>NaN</td>\n",
       "      <td>NaN</td>\n",
       "      <td>NaN</td>\n",
       "      <td>NaN</td>\n",
       "      <td>NaN</td>\n",
       "      <td>NaN</td>\n",
       "    </tr>\n",
       "    <tr>\n",
       "      <th>221</th>\n",
       "      <td>1037</td>\n",
       "      <td>Qom</td>\n",
       "      <td>Iran</td>\n",
       "      <td>NaN</td>\n",
       "      <td>NaN</td>\n",
       "      <td>NaN</td>\n",
       "      <td>NaN</td>\n",
       "      <td>0</td>\n",
       "      <td>0</td>\n",
       "      <td>1</td>\n",
       "      <td>NaN</td>\n",
       "      <td>NaN</td>\n",
       "      <td>NaN</td>\n",
       "      <td>NaN</td>\n",
       "      <td>NaN</td>\n",
       "      <td>NaN</td>\n",
       "    </tr>\n",
       "  </tbody>\n",
       "</table>\n",
       "<p>222 rows × 16 columns</p>\n",
       "</div>"
      ],
      "text/plain": [
       "       id      location country gender   age      sym_on    hosp_vis  \\\n",
       "0      49  Wuhan, Hubei   China   male  61.0  12/20/2019  12/27/2019   \n",
       "1      50  Wuhan, Hubei   China   male  69.0  12/30/2019    1/3/2020   \n",
       "2      51  Wuhan, Hubei   China   male  89.0         NaN         NaN   \n",
       "3      52  Wuhan, Hubei   China   male  89.0   1/13/2020   1/13/2020   \n",
       "4      53  Wuhan, Hubei   China   male  66.0   1/10/2020   1/16/2020   \n",
       "..    ...           ...     ...    ...   ...         ...         ...   \n",
       "217  1033         Egypt   Egypt    NaN   NaN         NaN         NaN   \n",
       "218  1034           Qom    Iran    NaN   NaN         NaN         NaN   \n",
       "219  1035           Qom    Iran    NaN   NaN         NaN         NaN   \n",
       "220  1036           Qom    Iran    NaN   NaN         NaN         NaN   \n",
       "221  1037           Qom    Iran    NaN   NaN         NaN         NaN   \n",
       "\n",
       "     vis_wuhan  from_wuhan  death symptom1 symptom2 symptom3  symptom4  \\\n",
       "0            0           1      1      NaN      NaN      NaN       NaN   \n",
       "1            0           1      1      NaN      NaN      NaN       NaN   \n",
       "2            0           1      1      NaN      NaN      NaN       NaN   \n",
       "3            0           1      1      NaN      NaN      NaN       NaN   \n",
       "4            0           1      1      NaN      NaN      NaN       NaN   \n",
       "..         ...         ...    ...      ...      ...      ...       ...   \n",
       "217          0           0      0      NaN      NaN      NaN       NaN   \n",
       "218          0           0      1      NaN      NaN      NaN       NaN   \n",
       "219          0           0      1      NaN      NaN      NaN       NaN   \n",
       "220          0           0      1      NaN      NaN      NaN       NaN   \n",
       "221          0           0      1      NaN      NaN      NaN       NaN   \n",
       "\n",
       "     symptom5  symptom6  \n",
       "0         NaN       NaN  \n",
       "1         NaN       NaN  \n",
       "2         NaN       NaN  \n",
       "3         NaN       NaN  \n",
       "4         NaN       NaN  \n",
       "..        ...       ...  \n",
       "217       NaN       NaN  \n",
       "218       NaN       NaN  \n",
       "219       NaN       NaN  \n",
       "220       NaN       NaN  \n",
       "221       NaN       NaN  \n",
       "\n",
       "[222 rows x 16 columns]"
      ]
     },
     "execution_count": 4,
     "metadata": {},
     "output_type": "execute_result"
    }
   ],
   "source": [
    "X_df"
   ]
  },
  {
   "cell_type": "markdown",
   "metadata": {},
   "source": [
    "## Pitfall 1 : not looking at your data"
   ]
  },
  {
   "cell_type": "code",
   "execution_count": 5,
   "metadata": {
    "ExecuteTime": {
     "end_time": "2020-12-01T21:02:25.490037Z",
     "start_time": "2020-12-01T21:02:25.478975Z"
    }
   },
   "outputs": [
    {
     "data": {
      "text/plain": [
       "id              0\n",
       "location        0\n",
       "country         0\n",
       "gender         11\n",
       "age            19\n",
       "sym_on        103\n",
       "hosp_vis      103\n",
       "vis_wuhan       0\n",
       "from_wuhan      0\n",
       "death           0\n",
       "symptom1      171\n",
       "symptom2      200\n",
       "symptom3      209\n",
       "symptom4      222\n",
       "symptom5      222\n",
       "symptom6      222\n",
       "dtype: int64"
      ]
     },
     "execution_count": 5,
     "metadata": {},
     "output_type": "execute_result"
    }
   ],
   "source": [
    "X_df.isna().sum()"
   ]
  },
  {
   "cell_type": "code",
   "execution_count": 6,
   "metadata": {},
   "outputs": [
    {
     "data": {
      "text/plain": [
       " cough                  12\n",
       " fever                   2\n",
       " sore throat             2\n",
       " chills                  1\n",
       " shortness of breath     1\n",
       " headache                1\n",
       " runny nose              1\n",
       " pneumonia               1\n",
       " loss of appetite        1\n",
       "Name: symptom2, dtype: int64"
      ]
     },
     "execution_count": 6,
     "metadata": {},
     "output_type": "execute_result"
    }
   ],
   "source": [
    "X_df['symptom2'].value_counts()"
   ]
  },
  {
   "cell_type": "code",
   "execution_count": 7,
   "metadata": {
    "ExecuteTime": {
     "end_time": "2020-12-01T22:15:46.241109Z",
     "start_time": "2020-12-01T22:15:46.229024Z"
    }
   },
   "outputs": [
    {
     "data": {
      "text/plain": [
       "0    159\n",
       "1     63\n",
       "Name: from_wuhan, dtype: int64"
      ]
     },
     "execution_count": 7,
     "metadata": {},
     "output_type": "execute_result"
    }
   ],
   "source": [
    "X_df['from_wuhan'].value_counts()"
   ]
  },
  {
   "cell_type": "code",
   "execution_count": 8,
   "metadata": {},
   "outputs": [
    {
     "data": {
      "text/plain": [
       "from_wuhan  vis_wuhan\n",
       "0           0            124\n",
       "            1             35\n",
       "1           0             63\n",
       "Name: vis_wuhan, dtype: int64"
      ]
     },
     "execution_count": 8,
     "metadata": {},
     "output_type": "execute_result"
    }
   ],
   "source": [
    "X_df.groupby('from_wuhan')['vis_wuhan'].value_counts()"
   ]
  },
  {
   "cell_type": "code",
   "execution_count": 9,
   "metadata": {
    "scrolled": true
   },
   "outputs": [
    {
     "data": {
      "text/plain": [
       "Singapore      62\n",
       "China          42\n",
       "South Korea    28\n",
       "Malaysia       19\n",
       "Japan          18\n",
       "Vietnam         8\n",
       "UK              6\n",
       "Iran            4\n",
       "France          4\n",
       "UAE             4\n",
       "Hong Kong       4\n",
       "Australia       4\n",
       "Thailand        4\n",
       "USA             3\n",
       "Phillipines     2\n",
       "Canada          2\n",
       "Russia          2\n",
       "Spain           2\n",
       "Sri Lanka       1\n",
       "Nepal           1\n",
       "Egypt           1\n",
       "Taiwan          1\n",
       "Name: country, dtype: int64"
      ]
     },
     "execution_count": 9,
     "metadata": {},
     "output_type": "execute_result"
    }
   ],
   "source": [
    "X_df['country'].value_counts()"
   ]
  },
  {
   "cell_type": "code",
   "execution_count": 10,
   "metadata": {
    "scrolled": true
   },
   "outputs": [
    {
     "data": {
      "text/plain": [
       "Singapore             62\n",
       "Wuhan, Hubei          32\n",
       "South Korea           27\n",
       "Malaysia              10\n",
       "Hubei                  9\n",
       "Johor                  8\n",
       "London                 6\n",
       "Vinh Phuc              6\n",
       "Hokkaido               5\n",
       "NSW                    4\n",
       "UAE                    4\n",
       "Paris                  4\n",
       "Tokyo                  4\n",
       "Thailand               4\n",
       "Qom                    4\n",
       "Toronto                2\n",
       "Manila                 2\n",
       "Hong Kong              2\n",
       "Kowloon                2\n",
       "Illinois               2\n",
       "Ho Chi Minh City       2\n",
       "Nagoya City            2\n",
       "Kanagawa               2\n",
       "Mallorca               1\n",
       "Japan                  1\n",
       "Canary Islands         1\n",
       "Zabaikalsky            1\n",
       "Sri Lanka              1\n",
       "Taiwan                 1\n",
       "Tyumen                 1\n",
       "Ishikawa               1\n",
       "Egypt                  1\n",
       "Sagamihara             1\n",
       "Washington             1\n",
       "Chiba Prefecture       1\n",
       "Shandong               1\n",
       "Kathmandu              1\n",
       "Saitama Prefecture     1\n",
       "Seoul                  1\n",
       "Langkawi               1\n",
       "Name: location, dtype: int64"
      ]
     },
     "execution_count": 10,
     "metadata": {},
     "output_type": "execute_result"
    }
   ],
   "source": [
    "X_df['location'].value_counts()"
   ]
  },
  {
   "cell_type": "code",
   "execution_count": 11,
   "metadata": {
    "scrolled": true
   },
   "outputs": [
    {
     "data": {
      "text/plain": [
       "country      death\n",
       "Australia    0         4\n",
       "Canada       0         2\n",
       "China        1        39\n",
       "             0         3\n",
       "Egypt        0         1\n",
       "France       0         2\n",
       "             1         2\n",
       "Hong Kong    0         2\n",
       "             1         2\n",
       "Iran         1         4\n",
       "Japan        0        13\n",
       "             1         5\n",
       "Malaysia     0        19\n",
       "Nepal        0         1\n",
       "Phillipines  0         1\n",
       "             1         1\n",
       "Russia       0         2\n",
       "Singapore    0        62\n",
       "South Korea  0        19\n",
       "             1         9\n",
       "Spain        0         2\n",
       "Sri Lanka    0         1\n",
       "Taiwan       1         1\n",
       "Thailand     0         4\n",
       "UAE          0         4\n",
       "UK           0         6\n",
       "USA          0         3\n",
       "Vietnam      0         8\n",
       "Name: death, dtype: int64"
      ]
     },
     "execution_count": 11,
     "metadata": {},
     "output_type": "execute_result"
    }
   ],
   "source": [
    "X_df.groupby('country')['death'].value_counts()"
   ]
  },
  {
   "cell_type": "markdown",
   "metadata": {},
   "source": [
    "## Pitfall 2 : not addressing your missing variables properly"
   ]
  },
  {
   "cell_type": "code",
   "execution_count": 12,
   "metadata": {
    "scrolled": false
   },
   "outputs": [
    {
     "data": {
      "text/plain": [
       "0     7 days\n",
       "1     4 days\n",
       "2        NaT\n",
       "3     0 days\n",
       "4     6 days\n",
       "       ...  \n",
       "217      NaT\n",
       "218      NaT\n",
       "219      NaT\n",
       "220      NaT\n",
       "221      NaT\n",
       "Name: diff_sym_hos, Length: 222, dtype: timedelta64[ns]"
      ]
     },
     "execution_count": 12,
     "metadata": {},
     "output_type": "execute_result"
    }
   ],
   "source": [
    "X_df['diff_sym_hos'] = pd.to_datetime(X_df['hosp_vis']) - pd.to_datetime(X_df['sym_on'])\n",
    "X_df['diff_sym_hos']"
   ]
  },
  {
   "cell_type": "code",
   "execution_count": 13,
   "metadata": {},
   "outputs": [
    {
     "data": {
      "text/plain": [
       "0      7\n",
       "1      4\n",
       "2      2\n",
       "3      0\n",
       "4      6\n",
       "      ..\n",
       "217    2\n",
       "218    2\n",
       "219    2\n",
       "220    2\n",
       "221    2\n",
       "Name: diff_sym_hos, Length: 222, dtype: int64"
      ]
     },
     "execution_count": 13,
     "metadata": {},
     "output_type": "execute_result"
    }
   ],
   "source": [
    "# Fill NA with median\n",
    "symptoms_to_visit_median = X_df['diff_sym_hos'].median()\n",
    "X_df['diff_sym_hos'] = X_df['diff_sym_hos'].fillna(symptoms_to_visit_median)\n",
    "# Convert time period into number of days (integer)\n",
    "X_df['diff_sym_hos'] = X_df['diff_sym_hos'].dt.days\n",
    "# Show result\n",
    "X_df['diff_sym_hos']"
   ]
  },
  {
   "cell_type": "code",
   "execution_count": 14,
   "metadata": {},
   "outputs": [],
   "source": [
    "most_frequent_gender = X_df['gender'].value_counts().index[0]\n",
    "X_df['gender'] = X_df['gender'].fillna(most_frequent_gender)"
   ]
  },
  {
   "cell_type": "code",
   "execution_count": 15,
   "metadata": {},
   "outputs": [],
   "source": [
    "X_df['age'] = X_df['age'].fillna(X_df['age'].median())"
   ]
  },
  {
   "cell_type": "markdown",
   "metadata": {},
   "source": [
    "## Pitfall 3 : not transforming your variables properly"
   ]
  },
  {
   "cell_type": "code",
   "execution_count": 16,
   "metadata": {},
   "outputs": [
    {
     "data": {
      "text/plain": [
       "Index(['id', 'location', 'country', 'gender', 'age', 'sym_on', 'hosp_vis',\n",
       "       'vis_wuhan', 'from_wuhan', 'death', 'symptom1', 'symptom2', 'symptom3',\n",
       "       'symptom4', 'symptom5', 'symptom6', 'diff_sym_hos'],\n",
       "      dtype='object')"
      ]
     },
     "execution_count": 16,
     "metadata": {},
     "output_type": "execute_result"
    }
   ],
   "source": [
    "X_df.columns"
   ]
  },
  {
   "cell_type": "code",
   "execution_count": 17,
   "metadata": {},
   "outputs": [],
   "source": [
    "y = X_df['death']"
   ]
  },
  {
   "cell_type": "code",
   "execution_count": 18,
   "metadata": {},
   "outputs": [],
   "source": [
    "X_selec_df = X_df.drop(['id', 'location', 'sym_on', 'hosp_vis', 'death', 'symptom1', 'symptom2', \n",
    "                        'symptom3', 'symptom4', 'symptom5', 'symptom6'], axis=1)"
   ]
  },
  {
   "cell_type": "code",
   "execution_count": 19,
   "metadata": {},
   "outputs": [
    {
     "data": {
      "text/plain": [
       "Index(['country', 'gender', 'age', 'vis_wuhan', 'from_wuhan', 'diff_sym_hos'], dtype='object')"
      ]
     },
     "execution_count": 19,
     "metadata": {},
     "output_type": "execute_result"
    }
   ],
   "source": [
    "X_selec_df.columns"
   ]
  },
  {
   "cell_type": "code",
   "execution_count": 20,
   "metadata": {},
   "outputs": [
    {
     "data": {
      "text/html": [
       "<div>\n",
       "<style scoped>\n",
       "    .dataframe tbody tr th:only-of-type {\n",
       "        vertical-align: middle;\n",
       "    }\n",
       "\n",
       "    .dataframe tbody tr th {\n",
       "        vertical-align: top;\n",
       "    }\n",
       "\n",
       "    .dataframe thead th {\n",
       "        text-align: right;\n",
       "    }\n",
       "</style>\n",
       "<table border=\"1\" class=\"dataframe\">\n",
       "  <thead>\n",
       "    <tr style=\"text-align: right;\">\n",
       "      <th></th>\n",
       "      <th>age</th>\n",
       "      <th>vis_wuhan</th>\n",
       "      <th>from_wuhan</th>\n",
       "      <th>diff_sym_hos</th>\n",
       "      <th>country_Canada</th>\n",
       "      <th>country_China</th>\n",
       "      <th>country_Egypt</th>\n",
       "      <th>country_France</th>\n",
       "      <th>country_Hong Kong</th>\n",
       "      <th>country_Iran</th>\n",
       "      <th>...</th>\n",
       "      <th>country_South Korea</th>\n",
       "      <th>country_Spain</th>\n",
       "      <th>country_Sri Lanka</th>\n",
       "      <th>country_Taiwan</th>\n",
       "      <th>country_Thailand</th>\n",
       "      <th>country_UAE</th>\n",
       "      <th>country_UK</th>\n",
       "      <th>country_USA</th>\n",
       "      <th>country_Vietnam</th>\n",
       "      <th>gender_male</th>\n",
       "    </tr>\n",
       "  </thead>\n",
       "  <tbody>\n",
       "    <tr>\n",
       "      <th>0</th>\n",
       "      <td>61.0</td>\n",
       "      <td>0</td>\n",
       "      <td>1</td>\n",
       "      <td>7</td>\n",
       "      <td>0</td>\n",
       "      <td>1</td>\n",
       "      <td>0</td>\n",
       "      <td>0</td>\n",
       "      <td>0</td>\n",
       "      <td>0</td>\n",
       "      <td>...</td>\n",
       "      <td>0</td>\n",
       "      <td>0</td>\n",
       "      <td>0</td>\n",
       "      <td>0</td>\n",
       "      <td>0</td>\n",
       "      <td>0</td>\n",
       "      <td>0</td>\n",
       "      <td>0</td>\n",
       "      <td>0</td>\n",
       "      <td>1</td>\n",
       "    </tr>\n",
       "    <tr>\n",
       "      <th>1</th>\n",
       "      <td>69.0</td>\n",
       "      <td>0</td>\n",
       "      <td>1</td>\n",
       "      <td>4</td>\n",
       "      <td>0</td>\n",
       "      <td>1</td>\n",
       "      <td>0</td>\n",
       "      <td>0</td>\n",
       "      <td>0</td>\n",
       "      <td>0</td>\n",
       "      <td>...</td>\n",
       "      <td>0</td>\n",
       "      <td>0</td>\n",
       "      <td>0</td>\n",
       "      <td>0</td>\n",
       "      <td>0</td>\n",
       "      <td>0</td>\n",
       "      <td>0</td>\n",
       "      <td>0</td>\n",
       "      <td>0</td>\n",
       "      <td>1</td>\n",
       "    </tr>\n",
       "    <tr>\n",
       "      <th>2</th>\n",
       "      <td>89.0</td>\n",
       "      <td>0</td>\n",
       "      <td>1</td>\n",
       "      <td>2</td>\n",
       "      <td>0</td>\n",
       "      <td>1</td>\n",
       "      <td>0</td>\n",
       "      <td>0</td>\n",
       "      <td>0</td>\n",
       "      <td>0</td>\n",
       "      <td>...</td>\n",
       "      <td>0</td>\n",
       "      <td>0</td>\n",
       "      <td>0</td>\n",
       "      <td>0</td>\n",
       "      <td>0</td>\n",
       "      <td>0</td>\n",
       "      <td>0</td>\n",
       "      <td>0</td>\n",
       "      <td>0</td>\n",
       "      <td>1</td>\n",
       "    </tr>\n",
       "    <tr>\n",
       "      <th>3</th>\n",
       "      <td>89.0</td>\n",
       "      <td>0</td>\n",
       "      <td>1</td>\n",
       "      <td>0</td>\n",
       "      <td>0</td>\n",
       "      <td>1</td>\n",
       "      <td>0</td>\n",
       "      <td>0</td>\n",
       "      <td>0</td>\n",
       "      <td>0</td>\n",
       "      <td>...</td>\n",
       "      <td>0</td>\n",
       "      <td>0</td>\n",
       "      <td>0</td>\n",
       "      <td>0</td>\n",
       "      <td>0</td>\n",
       "      <td>0</td>\n",
       "      <td>0</td>\n",
       "      <td>0</td>\n",
       "      <td>0</td>\n",
       "      <td>1</td>\n",
       "    </tr>\n",
       "    <tr>\n",
       "      <th>4</th>\n",
       "      <td>66.0</td>\n",
       "      <td>0</td>\n",
       "      <td>1</td>\n",
       "      <td>6</td>\n",
       "      <td>0</td>\n",
       "      <td>1</td>\n",
       "      <td>0</td>\n",
       "      <td>0</td>\n",
       "      <td>0</td>\n",
       "      <td>0</td>\n",
       "      <td>...</td>\n",
       "      <td>0</td>\n",
       "      <td>0</td>\n",
       "      <td>0</td>\n",
       "      <td>0</td>\n",
       "      <td>0</td>\n",
       "      <td>0</td>\n",
       "      <td>0</td>\n",
       "      <td>0</td>\n",
       "      <td>0</td>\n",
       "      <td>1</td>\n",
       "    </tr>\n",
       "    <tr>\n",
       "      <th>...</th>\n",
       "      <td>...</td>\n",
       "      <td>...</td>\n",
       "      <td>...</td>\n",
       "      <td>...</td>\n",
       "      <td>...</td>\n",
       "      <td>...</td>\n",
       "      <td>...</td>\n",
       "      <td>...</td>\n",
       "      <td>...</td>\n",
       "      <td>...</td>\n",
       "      <td>...</td>\n",
       "      <td>...</td>\n",
       "      <td>...</td>\n",
       "      <td>...</td>\n",
       "      <td>...</td>\n",
       "      <td>...</td>\n",
       "      <td>...</td>\n",
       "      <td>...</td>\n",
       "      <td>...</td>\n",
       "      <td>...</td>\n",
       "      <td>...</td>\n",
       "    </tr>\n",
       "    <tr>\n",
       "      <th>217</th>\n",
       "      <td>51.0</td>\n",
       "      <td>0</td>\n",
       "      <td>0</td>\n",
       "      <td>2</td>\n",
       "      <td>0</td>\n",
       "      <td>0</td>\n",
       "      <td>1</td>\n",
       "      <td>0</td>\n",
       "      <td>0</td>\n",
       "      <td>0</td>\n",
       "      <td>...</td>\n",
       "      <td>0</td>\n",
       "      <td>0</td>\n",
       "      <td>0</td>\n",
       "      <td>0</td>\n",
       "      <td>0</td>\n",
       "      <td>0</td>\n",
       "      <td>0</td>\n",
       "      <td>0</td>\n",
       "      <td>0</td>\n",
       "      <td>1</td>\n",
       "    </tr>\n",
       "    <tr>\n",
       "      <th>218</th>\n",
       "      <td>51.0</td>\n",
       "      <td>0</td>\n",
       "      <td>0</td>\n",
       "      <td>2</td>\n",
       "      <td>0</td>\n",
       "      <td>0</td>\n",
       "      <td>0</td>\n",
       "      <td>0</td>\n",
       "      <td>0</td>\n",
       "      <td>1</td>\n",
       "      <td>...</td>\n",
       "      <td>0</td>\n",
       "      <td>0</td>\n",
       "      <td>0</td>\n",
       "      <td>0</td>\n",
       "      <td>0</td>\n",
       "      <td>0</td>\n",
       "      <td>0</td>\n",
       "      <td>0</td>\n",
       "      <td>0</td>\n",
       "      <td>1</td>\n",
       "    </tr>\n",
       "    <tr>\n",
       "      <th>219</th>\n",
       "      <td>51.0</td>\n",
       "      <td>0</td>\n",
       "      <td>0</td>\n",
       "      <td>2</td>\n",
       "      <td>0</td>\n",
       "      <td>0</td>\n",
       "      <td>0</td>\n",
       "      <td>0</td>\n",
       "      <td>0</td>\n",
       "      <td>1</td>\n",
       "      <td>...</td>\n",
       "      <td>0</td>\n",
       "      <td>0</td>\n",
       "      <td>0</td>\n",
       "      <td>0</td>\n",
       "      <td>0</td>\n",
       "      <td>0</td>\n",
       "      <td>0</td>\n",
       "      <td>0</td>\n",
       "      <td>0</td>\n",
       "      <td>1</td>\n",
       "    </tr>\n",
       "    <tr>\n",
       "      <th>220</th>\n",
       "      <td>51.0</td>\n",
       "      <td>0</td>\n",
       "      <td>0</td>\n",
       "      <td>2</td>\n",
       "      <td>0</td>\n",
       "      <td>0</td>\n",
       "      <td>0</td>\n",
       "      <td>0</td>\n",
       "      <td>0</td>\n",
       "      <td>1</td>\n",
       "      <td>...</td>\n",
       "      <td>0</td>\n",
       "      <td>0</td>\n",
       "      <td>0</td>\n",
       "      <td>0</td>\n",
       "      <td>0</td>\n",
       "      <td>0</td>\n",
       "      <td>0</td>\n",
       "      <td>0</td>\n",
       "      <td>0</td>\n",
       "      <td>1</td>\n",
       "    </tr>\n",
       "    <tr>\n",
       "      <th>221</th>\n",
       "      <td>51.0</td>\n",
       "      <td>0</td>\n",
       "      <td>0</td>\n",
       "      <td>2</td>\n",
       "      <td>0</td>\n",
       "      <td>0</td>\n",
       "      <td>0</td>\n",
       "      <td>0</td>\n",
       "      <td>0</td>\n",
       "      <td>1</td>\n",
       "      <td>...</td>\n",
       "      <td>0</td>\n",
       "      <td>0</td>\n",
       "      <td>0</td>\n",
       "      <td>0</td>\n",
       "      <td>0</td>\n",
       "      <td>0</td>\n",
       "      <td>0</td>\n",
       "      <td>0</td>\n",
       "      <td>0</td>\n",
       "      <td>1</td>\n",
       "    </tr>\n",
       "  </tbody>\n",
       "</table>\n",
       "<p>222 rows × 26 columns</p>\n",
       "</div>"
      ],
      "text/plain": [
       "      age  vis_wuhan  from_wuhan  diff_sym_hos  country_Canada  country_China  \\\n",
       "0    61.0          0           1             7               0              1   \n",
       "1    69.0          0           1             4               0              1   \n",
       "2    89.0          0           1             2               0              1   \n",
       "3    89.0          0           1             0               0              1   \n",
       "4    66.0          0           1             6               0              1   \n",
       "..    ...        ...         ...           ...             ...            ...   \n",
       "217  51.0          0           0             2               0              0   \n",
       "218  51.0          0           0             2               0              0   \n",
       "219  51.0          0           0             2               0              0   \n",
       "220  51.0          0           0             2               0              0   \n",
       "221  51.0          0           0             2               0              0   \n",
       "\n",
       "     country_Egypt  country_France  country_Hong Kong  country_Iran  ...  \\\n",
       "0                0               0                  0             0  ...   \n",
       "1                0               0                  0             0  ...   \n",
       "2                0               0                  0             0  ...   \n",
       "3                0               0                  0             0  ...   \n",
       "4                0               0                  0             0  ...   \n",
       "..             ...             ...                ...           ...  ...   \n",
       "217              1               0                  0             0  ...   \n",
       "218              0               0                  0             1  ...   \n",
       "219              0               0                  0             1  ...   \n",
       "220              0               0                  0             1  ...   \n",
       "221              0               0                  0             1  ...   \n",
       "\n",
       "     country_South Korea  country_Spain  country_Sri Lanka  country_Taiwan  \\\n",
       "0                      0              0                  0               0   \n",
       "1                      0              0                  0               0   \n",
       "2                      0              0                  0               0   \n",
       "3                      0              0                  0               0   \n",
       "4                      0              0                  0               0   \n",
       "..                   ...            ...                ...             ...   \n",
       "217                    0              0                  0               0   \n",
       "218                    0              0                  0               0   \n",
       "219                    0              0                  0               0   \n",
       "220                    0              0                  0               0   \n",
       "221                    0              0                  0               0   \n",
       "\n",
       "     country_Thailand  country_UAE  country_UK  country_USA  country_Vietnam  \\\n",
       "0                   0            0           0            0                0   \n",
       "1                   0            0           0            0                0   \n",
       "2                   0            0           0            0                0   \n",
       "3                   0            0           0            0                0   \n",
       "4                   0            0           0            0                0   \n",
       "..                ...          ...         ...          ...              ...   \n",
       "217                 0            0           0            0                0   \n",
       "218                 0            0           0            0                0   \n",
       "219                 0            0           0            0                0   \n",
       "220                 0            0           0            0                0   \n",
       "221                 0            0           0            0                0   \n",
       "\n",
       "     gender_male  \n",
       "0              1  \n",
       "1              1  \n",
       "2              1  \n",
       "3              1  \n",
       "4              1  \n",
       "..           ...  \n",
       "217            1  \n",
       "218            1  \n",
       "219            1  \n",
       "220            1  \n",
       "221            1  \n",
       "\n",
       "[222 rows x 26 columns]"
      ]
     },
     "execution_count": 20,
     "metadata": {},
     "output_type": "execute_result"
    }
   ],
   "source": [
    "X = pd.get_dummies(X_selec_df, drop_first=True)\n",
    "X"
   ]
  },
  {
   "cell_type": "code",
   "execution_count": 21,
   "metadata": {},
   "outputs": [],
   "source": [
    "from sklearn.compose import make_column_transformer\n",
    "from sklearn.preprocessing import OneHotEncoder, StandardScaler"
   ]
  },
  {
   "cell_type": "code",
   "execution_count": 22,
   "metadata": {},
   "outputs": [],
   "source": [
    "from sklearn.pipeline import make_pipeline"
   ]
  },
  {
   "cell_type": "code",
   "execution_count": 23,
   "metadata": {},
   "outputs": [],
   "source": [
    "from sklearn.linear_model import LogisticRegression"
   ]
  },
  {
   "cell_type": "code",
   "execution_count": 24,
   "metadata": {},
   "outputs": [],
   "source": [
    "#cat_cols_to_encode = ['country', 'gender']\n",
    "num_cols_to_scale = ['age', 'diff_sym_hos']\n",
    "preprocessor = make_column_transformer(\n",
    " #   (OneHotEncoder(drop='if_binary'), cat_cols_to_encode),\n",
    "    (StandardScaler(), num_cols_to_scale),\n",
    "    remainder='passthrough'\n",
    ")"
   ]
  },
  {
   "cell_type": "code",
   "execution_count": 25,
   "metadata": {},
   "outputs": [],
   "source": [
    "lm_pipeline = make_pipeline(\n",
    "    preprocessor,\n",
    "    LogisticRegression()\n",
    ")"
   ]
  },
  {
   "cell_type": "code",
   "execution_count": 26,
   "metadata": {},
   "outputs": [],
   "source": [
    "from sklearn.model_selection import train_test_split\n",
    "from sklearn.metrics import recall_score as rs\n",
    "from sklearn.metrics import precision_score as ps\n",
    "from sklearn.metrics import f1_score as fs\n",
    "from sklearn.metrics import log_loss"
   ]
  },
  {
   "cell_type": "code",
   "execution_count": 27,
   "metadata": {},
   "outputs": [],
   "source": [
    "X_train, X_test, y_train, y_test = train_test_split(X, y, test_size=0.2, random_state=10)"
   ]
  },
  {
   "cell_type": "code",
   "execution_count": 28,
   "metadata": {},
   "outputs": [
    {
     "data": {
      "text/html": [
       "<div>\n",
       "<style scoped>\n",
       "    .dataframe tbody tr th:only-of-type {\n",
       "        vertical-align: middle;\n",
       "    }\n",
       "\n",
       "    .dataframe tbody tr th {\n",
       "        vertical-align: top;\n",
       "    }\n",
       "\n",
       "    .dataframe thead th {\n",
       "        text-align: right;\n",
       "    }\n",
       "</style>\n",
       "<table border=\"1\" class=\"dataframe\">\n",
       "  <thead>\n",
       "    <tr style=\"text-align: right;\">\n",
       "      <th></th>\n",
       "      <th>age</th>\n",
       "      <th>vis_wuhan</th>\n",
       "      <th>from_wuhan</th>\n",
       "      <th>diff_sym_hos</th>\n",
       "      <th>country_Canada</th>\n",
       "      <th>country_China</th>\n",
       "      <th>country_Egypt</th>\n",
       "      <th>country_France</th>\n",
       "      <th>country_Hong Kong</th>\n",
       "      <th>country_Iran</th>\n",
       "      <th>...</th>\n",
       "      <th>country_South Korea</th>\n",
       "      <th>country_Spain</th>\n",
       "      <th>country_Sri Lanka</th>\n",
       "      <th>country_Taiwan</th>\n",
       "      <th>country_Thailand</th>\n",
       "      <th>country_UAE</th>\n",
       "      <th>country_UK</th>\n",
       "      <th>country_USA</th>\n",
       "      <th>country_Vietnam</th>\n",
       "      <th>gender_male</th>\n",
       "    </tr>\n",
       "  </thead>\n",
       "  <tbody>\n",
       "    <tr>\n",
       "      <th>1</th>\n",
       "      <td>69.0</td>\n",
       "      <td>0</td>\n",
       "      <td>1</td>\n",
       "      <td>4</td>\n",
       "      <td>0</td>\n",
       "      <td>1</td>\n",
       "      <td>0</td>\n",
       "      <td>0</td>\n",
       "      <td>0</td>\n",
       "      <td>0</td>\n",
       "      <td>...</td>\n",
       "      <td>0</td>\n",
       "      <td>0</td>\n",
       "      <td>0</td>\n",
       "      <td>0</td>\n",
       "      <td>0</td>\n",
       "      <td>0</td>\n",
       "      <td>0</td>\n",
       "      <td>0</td>\n",
       "      <td>0</td>\n",
       "      <td>1</td>\n",
       "    </tr>\n",
       "    <tr>\n",
       "      <th>2</th>\n",
       "      <td>89.0</td>\n",
       "      <td>0</td>\n",
       "      <td>1</td>\n",
       "      <td>2</td>\n",
       "      <td>0</td>\n",
       "      <td>1</td>\n",
       "      <td>0</td>\n",
       "      <td>0</td>\n",
       "      <td>0</td>\n",
       "      <td>0</td>\n",
       "      <td>...</td>\n",
       "      <td>0</td>\n",
       "      <td>0</td>\n",
       "      <td>0</td>\n",
       "      <td>0</td>\n",
       "      <td>0</td>\n",
       "      <td>0</td>\n",
       "      <td>0</td>\n",
       "      <td>0</td>\n",
       "      <td>0</td>\n",
       "      <td>1</td>\n",
       "    </tr>\n",
       "    <tr>\n",
       "      <th>56</th>\n",
       "      <td>75.0</td>\n",
       "      <td>0</td>\n",
       "      <td>0</td>\n",
       "      <td>2</td>\n",
       "      <td>0</td>\n",
       "      <td>0</td>\n",
       "      <td>0</td>\n",
       "      <td>0</td>\n",
       "      <td>0</td>\n",
       "      <td>0</td>\n",
       "      <td>...</td>\n",
       "      <td>0</td>\n",
       "      <td>0</td>\n",
       "      <td>0</td>\n",
       "      <td>0</td>\n",
       "      <td>0</td>\n",
       "      <td>0</td>\n",
       "      <td>0</td>\n",
       "      <td>0</td>\n",
       "      <td>0</td>\n",
       "      <td>0</td>\n",
       "    </tr>\n",
       "    <tr>\n",
       "      <th>55</th>\n",
       "      <td>55.0</td>\n",
       "      <td>0</td>\n",
       "      <td>0</td>\n",
       "      <td>2</td>\n",
       "      <td>0</td>\n",
       "      <td>0</td>\n",
       "      <td>0</td>\n",
       "      <td>0</td>\n",
       "      <td>0</td>\n",
       "      <td>0</td>\n",
       "      <td>...</td>\n",
       "      <td>0</td>\n",
       "      <td>0</td>\n",
       "      <td>0</td>\n",
       "      <td>0</td>\n",
       "      <td>0</td>\n",
       "      <td>0</td>\n",
       "      <td>0</td>\n",
       "      <td>0</td>\n",
       "      <td>0</td>\n",
       "      <td>0</td>\n",
       "    </tr>\n",
       "    <tr>\n",
       "      <th>10</th>\n",
       "      <td>82.0</td>\n",
       "      <td>0</td>\n",
       "      <td>1</td>\n",
       "      <td>2</td>\n",
       "      <td>0</td>\n",
       "      <td>1</td>\n",
       "      <td>0</td>\n",
       "      <td>0</td>\n",
       "      <td>0</td>\n",
       "      <td>0</td>\n",
       "      <td>...</td>\n",
       "      <td>0</td>\n",
       "      <td>0</td>\n",
       "      <td>0</td>\n",
       "      <td>0</td>\n",
       "      <td>0</td>\n",
       "      <td>0</td>\n",
       "      <td>0</td>\n",
       "      <td>0</td>\n",
       "      <td>0</td>\n",
       "      <td>0</td>\n",
       "    </tr>\n",
       "    <tr>\n",
       "      <th>...</th>\n",
       "      <td>...</td>\n",
       "      <td>...</td>\n",
       "      <td>...</td>\n",
       "      <td>...</td>\n",
       "      <td>...</td>\n",
       "      <td>...</td>\n",
       "      <td>...</td>\n",
       "      <td>...</td>\n",
       "      <td>...</td>\n",
       "      <td>...</td>\n",
       "      <td>...</td>\n",
       "      <td>...</td>\n",
       "      <td>...</td>\n",
       "      <td>...</td>\n",
       "      <td>...</td>\n",
       "      <td>...</td>\n",
       "      <td>...</td>\n",
       "      <td>...</td>\n",
       "      <td>...</td>\n",
       "      <td>...</td>\n",
       "      <td>...</td>\n",
       "    </tr>\n",
       "    <tr>\n",
       "      <th>113</th>\n",
       "      <td>42.0</td>\n",
       "      <td>0</td>\n",
       "      <td>0</td>\n",
       "      <td>3</td>\n",
       "      <td>0</td>\n",
       "      <td>0</td>\n",
       "      <td>0</td>\n",
       "      <td>0</td>\n",
       "      <td>0</td>\n",
       "      <td>0</td>\n",
       "      <td>...</td>\n",
       "      <td>0</td>\n",
       "      <td>0</td>\n",
       "      <td>0</td>\n",
       "      <td>0</td>\n",
       "      <td>0</td>\n",
       "      <td>0</td>\n",
       "      <td>0</td>\n",
       "      <td>0</td>\n",
       "      <td>0</td>\n",
       "      <td>0</td>\n",
       "    </tr>\n",
       "    <tr>\n",
       "      <th>64</th>\n",
       "      <td>40.0</td>\n",
       "      <td>0</td>\n",
       "      <td>1</td>\n",
       "      <td>0</td>\n",
       "      <td>0</td>\n",
       "      <td>0</td>\n",
       "      <td>0</td>\n",
       "      <td>0</td>\n",
       "      <td>0</td>\n",
       "      <td>0</td>\n",
       "      <td>...</td>\n",
       "      <td>0</td>\n",
       "      <td>0</td>\n",
       "      <td>0</td>\n",
       "      <td>0</td>\n",
       "      <td>0</td>\n",
       "      <td>0</td>\n",
       "      <td>0</td>\n",
       "      <td>0</td>\n",
       "      <td>0</td>\n",
       "      <td>1</td>\n",
       "    </tr>\n",
       "    <tr>\n",
       "      <th>15</th>\n",
       "      <td>70.0</td>\n",
       "      <td>0</td>\n",
       "      <td>1</td>\n",
       "      <td>2</td>\n",
       "      <td>0</td>\n",
       "      <td>1</td>\n",
       "      <td>0</td>\n",
       "      <td>0</td>\n",
       "      <td>0</td>\n",
       "      <td>0</td>\n",
       "      <td>...</td>\n",
       "      <td>0</td>\n",
       "      <td>0</td>\n",
       "      <td>0</td>\n",
       "      <td>0</td>\n",
       "      <td>0</td>\n",
       "      <td>0</td>\n",
       "      <td>0</td>\n",
       "      <td>0</td>\n",
       "      <td>0</td>\n",
       "      <td>0</td>\n",
       "    </tr>\n",
       "    <tr>\n",
       "      <th>125</th>\n",
       "      <td>62.0</td>\n",
       "      <td>0</td>\n",
       "      <td>0</td>\n",
       "      <td>0</td>\n",
       "      <td>0</td>\n",
       "      <td>0</td>\n",
       "      <td>0</td>\n",
       "      <td>0</td>\n",
       "      <td>0</td>\n",
       "      <td>0</td>\n",
       "      <td>...</td>\n",
       "      <td>0</td>\n",
       "      <td>0</td>\n",
       "      <td>0</td>\n",
       "      <td>0</td>\n",
       "      <td>0</td>\n",
       "      <td>0</td>\n",
       "      <td>0</td>\n",
       "      <td>0</td>\n",
       "      <td>0</td>\n",
       "      <td>1</td>\n",
       "    </tr>\n",
       "    <tr>\n",
       "      <th>9</th>\n",
       "      <td>81.0</td>\n",
       "      <td>0</td>\n",
       "      <td>1</td>\n",
       "      <td>3</td>\n",
       "      <td>0</td>\n",
       "      <td>1</td>\n",
       "      <td>0</td>\n",
       "      <td>0</td>\n",
       "      <td>0</td>\n",
       "      <td>0</td>\n",
       "      <td>...</td>\n",
       "      <td>0</td>\n",
       "      <td>0</td>\n",
       "      <td>0</td>\n",
       "      <td>0</td>\n",
       "      <td>0</td>\n",
       "      <td>0</td>\n",
       "      <td>0</td>\n",
       "      <td>0</td>\n",
       "      <td>0</td>\n",
       "      <td>1</td>\n",
       "    </tr>\n",
       "  </tbody>\n",
       "</table>\n",
       "<p>177 rows × 26 columns</p>\n",
       "</div>"
      ],
      "text/plain": [
       "      age  vis_wuhan  from_wuhan  diff_sym_hos  country_Canada  country_China  \\\n",
       "1    69.0          0           1             4               0              1   \n",
       "2    89.0          0           1             2               0              1   \n",
       "56   75.0          0           0             2               0              0   \n",
       "55   55.0          0           0             2               0              0   \n",
       "10   82.0          0           1             2               0              1   \n",
       "..    ...        ...         ...           ...             ...            ...   \n",
       "113  42.0          0           0             3               0              0   \n",
       "64   40.0          0           1             0               0              0   \n",
       "15   70.0          0           1             2               0              1   \n",
       "125  62.0          0           0             0               0              0   \n",
       "9    81.0          0           1             3               0              1   \n",
       "\n",
       "     country_Egypt  country_France  country_Hong Kong  country_Iran  ...  \\\n",
       "1                0               0                  0             0  ...   \n",
       "2                0               0                  0             0  ...   \n",
       "56               0               0                  0             0  ...   \n",
       "55               0               0                  0             0  ...   \n",
       "10               0               0                  0             0  ...   \n",
       "..             ...             ...                ...           ...  ...   \n",
       "113              0               0                  0             0  ...   \n",
       "64               0               0                  0             0  ...   \n",
       "15               0               0                  0             0  ...   \n",
       "125              0               0                  0             0  ...   \n",
       "9                0               0                  0             0  ...   \n",
       "\n",
       "     country_South Korea  country_Spain  country_Sri Lanka  country_Taiwan  \\\n",
       "1                      0              0                  0               0   \n",
       "2                      0              0                  0               0   \n",
       "56                     0              0                  0               0   \n",
       "55                     0              0                  0               0   \n",
       "10                     0              0                  0               0   \n",
       "..                   ...            ...                ...             ...   \n",
       "113                    0              0                  0               0   \n",
       "64                     0              0                  0               0   \n",
       "15                     0              0                  0               0   \n",
       "125                    0              0                  0               0   \n",
       "9                      0              0                  0               0   \n",
       "\n",
       "     country_Thailand  country_UAE  country_UK  country_USA  country_Vietnam  \\\n",
       "1                   0            0           0            0                0   \n",
       "2                   0            0           0            0                0   \n",
       "56                  0            0           0            0                0   \n",
       "55                  0            0           0            0                0   \n",
       "10                  0            0           0            0                0   \n",
       "..                ...          ...         ...          ...              ...   \n",
       "113                 0            0           0            0                0   \n",
       "64                  0            0           0            0                0   \n",
       "15                  0            0           0            0                0   \n",
       "125                 0            0           0            0                0   \n",
       "9                   0            0           0            0                0   \n",
       "\n",
       "     gender_male  \n",
       "1              1  \n",
       "2              1  \n",
       "56             0  \n",
       "55             0  \n",
       "10             0  \n",
       "..           ...  \n",
       "113            0  \n",
       "64             1  \n",
       "15             0  \n",
       "125            1  \n",
       "9              1  \n",
       "\n",
       "[177 rows x 26 columns]"
      ]
     },
     "execution_count": 28,
     "metadata": {},
     "output_type": "execute_result"
    }
   ],
   "source": [
    "X_train"
   ]
  },
  {
   "cell_type": "code",
   "execution_count": 29,
   "metadata": {},
   "outputs": [
    {
     "data": {
      "text/plain": [
       "Pipeline(steps=[('columntransformer',\n",
       "                 ColumnTransformer(remainder='passthrough',\n",
       "                                   transformers=[('standardscaler',\n",
       "                                                  StandardScaler(),\n",
       "                                                  ['age', 'diff_sym_hos'])])),\n",
       "                ('logisticregression', LogisticRegression())])"
      ]
     },
     "execution_count": 29,
     "metadata": {},
     "output_type": "execute_result"
    }
   ],
   "source": [
    "lm_pipeline.fit(X_train, y_train)"
   ]
  },
  {
   "cell_type": "markdown",
   "metadata": {},
   "source": [
    "### Pitfall 4 : not looking at performance properly"
   ]
  },
  {
   "cell_type": "code",
   "execution_count": 31,
   "metadata": {},
   "outputs": [],
   "source": [
    "y_pred = np.array(lm_pipeline.predict(X_test))\n",
    "# Scores\n",
    "recall_lr = rs(y_test, y_pred)\n",
    "precision_lr = ps(y_test, y_pred)\n",
    "f1_lr = fs(y_test, y_pred)\n",
    "acc_lr = lm_pipeline.score(X_test,y_test)"
   ]
  },
  {
   "cell_type": "code",
   "execution_count": 32,
   "metadata": {},
   "outputs": [
    {
     "name": "stdout",
     "output_type": "stream",
     "text": [
      "*** Evaluation metrics for test dataset ***\n",
      "Recall: 0.82, Precision Score: 0.69\n",
      "F1 Score: 0.75, Accuracy: 0.87\n"
     ]
    }
   ],
   "source": [
    "print('*** Evaluation metrics for test dataset ***')\n",
    "print(f'Recall: {recall_lr:0.2f}, Precision Score: {precision_lr:0.2f}')\n",
    "print(f'F1 Score: {f1_lr:0.2f}, Accuracy: {acc_lr:0.2f}')"
   ]
  },
  {
   "cell_type": "code",
   "execution_count": 33,
   "metadata": {},
   "outputs": [
    {
     "data": {
      "image/png": "[encoded data removed]",
      "text/plain": [
       "<Figure size 432x288 with 2 Axes>"
      ]
     },
     "metadata": {
      "needs_background": "light"
     },
     "output_type": "display_data"
    }
   ],
   "source": [
    "from sklearn.metrics import plot_confusion_matrix\n",
    "plot_confusion_matrix(lm_pipeline, X_test, y_test);"
   ]
  },
  {
   "cell_type": "code",
   "execution_count": 34,
   "metadata": {},
   "outputs": [],
   "source": [
    "from sklearn.metrics import roc_curve, auc"
   ]
  },
  {
   "cell_type": "code",
   "execution_count": 35,
   "metadata": {},
   "outputs": [],
   "source": [
    "y_decisionfun = lm_pipeline.decision_function(X_test)\n",
    "fpr, tpr, _ = roc_curve(y_test, y_decisionfun)\n",
    "roc_auc = auc(fpr, tpr)"
   ]
  },
  {
   "cell_type": "code",
   "execution_count": 36,
   "metadata": {},
   "outputs": [
    {
     "data": {
      "image/png": "[encoded data removed]",
      "text/plain": [
       "<Figure size 432x288 with 1 Axes>"
      ]
     },
     "metadata": {
      "needs_background": "light"
     },
     "output_type": "display_data"
    }
   ],
   "source": [
    "plt.plot(fpr, tpr, color='darkorange')\n",
    "plt.plot([0, 1], [0, 1], color='navy', linestyle='--')\n",
    "plt.xlim([0.0, 1.0])\n",
    "plt.ylim([0.0, 1.05])\n",
    "plt.xlabel('False Positive Rate')\n",
    "plt.ylabel('True Positive Rate')\n",
    "plt.title(f'ROC curve (area = {roc_auc:0.2f})');"
   ]
  },
  {
   "cell_type": "code",
   "execution_count": 37,
   "metadata": {},
   "outputs": [],
   "source": [
    "lm_coefs_df = pd.DataFrame({'coefs': lm_pipeline['logisticregression'].coef_[0]},\n",
    "                           index=X_train.columns)"
   ]
  },
  {
   "cell_type": "code",
   "execution_count": 39,
   "metadata": {},
   "outputs": [
    {
     "data": {
      "image/png": "[encoded data removed]",
      "text/plain": [
       "<Figure size 432x432 with 1 Axes>"
      ]
     },
     "metadata": {
      "needs_background": "light"
     },
     "output_type": "display_data"
    }
   ],
   "source": [
    "plt.figure(figsize=(6,6))\n",
    "sns.barplot(x='coefs', y=lm_coefs_df.index, data=lm_coefs_df);"
   ]
  },
  {
   "cell_type": "markdown",
   "metadata": {},
   "source": [
    "### Pitfall 5: not using cross-validation to assess generalizability"
   ]
  },
  {
   "cell_type": "code",
   "execution_count": 40,
   "metadata": {},
   "outputs": [],
   "source": [
    "from sklearn.model_selection import StratifiedKFold"
   ]
  },
  {
   "cell_type": "code",
   "execution_count": 41,
   "metadata": {},
   "outputs": [
    {
     "name": "stdout",
     "output_type": "stream",
     "text": [
      "*** Evaluation metrics for fold 1 ***\n",
      "Recall: 0.64, Precision Score: 0.88\n",
      "F1 Score: 0.74, Accuracy: 0.86\n",
      "*** Evaluation metrics for fold 2 ***\n",
      "Recall: 0.73, Precision Score: 0.89\n",
      "F1 Score: 0.80, Accuracy: 0.89\n",
      "*** Evaluation metrics for fold 3 ***\n",
      "Recall: 1.00, Precision Score: 0.91\n",
      "F1 Score: 0.95, Accuracy: 0.97\n",
      "*** Evaluation metrics for fold 4 ***\n",
      "Recall: 0.80, Precision Score: 0.89\n",
      "F1 Score: 0.84, Accuracy: 0.91\n",
      "*** Evaluation metrics for fold 5 ***\n",
      "Recall: 0.80, Precision Score: 1.00\n",
      "F1 Score: 0.89, Accuracy: 0.94\n"
     ]
    },
    {
     "data": {
      "image/png": "[encoded data removed]",
      "text/plain": [
       "<Figure size 1080x1080 with 10 Axes>"
      ]
     },
     "metadata": {
      "needs_background": "light"
     },
     "output_type": "display_data"
    }
   ],
   "source": [
    "cv_coefs = []\n",
    "n_folds = 5\n",
    "n_cols_plot = 3\n",
    "skf = StratifiedKFold(n_splits=n_folds, shuffle=True, random_state=42)\n",
    "plt.figure(figsize=(15, 15))\n",
    "for i_f, (ix_train, ix_test) in enumerate(skf.split(X_train, y_train)):\n",
    "    # Define training and testing sets within folds\n",
    "    X_fold_train = X_train.iloc[ix_train, :]\n",
    "    y_fold_train = y_train.iloc[ix_train]\n",
    "    X_fold_test = X_train.iloc[ix_test, :]\n",
    "    y_fold_test = y_train.iloc[ix_test]\n",
    "    # Fit the model for these folds training/testing sets\n",
    "    lm_pipeline = make_pipeline(\n",
    "        preprocessor,\n",
    "        LogisticRegression()\n",
    "    )\n",
    "    lm_pipeline.fit(X_fold_train, y_fold_train)\n",
    "    y_pred = lm_pipeline.predict(X_fold_test)\n",
    "    # Scores\n",
    "    recall_lr = rs(y_fold_test, y_pred)\n",
    "    precision_lr = ps(y_fold_test, y_pred)\n",
    "    f1_lr = fs(y_fold_test, y_pred)\n",
    "    acc_lr = lm_pipeline.score(X_fold_test,y_fold_test)\n",
    "    print(f'*** Evaluation metrics for fold {i_f+1} ***')\n",
    "    print(f'Recall: {recall_lr:0.2f}, Precision Score: {precision_lr:0.2f}')\n",
    "    print(f'F1 Score: {f1_lr:0.2f}, Accuracy: {acc_lr:0.2f}')\n",
    "    ax = plt.subplot(n_folds, n_cols_plot, i_f+1)\n",
    "    plot_confusion_matrix(lm_pipeline, X_fold_test, y_fold_test, ax=ax);\n",
    "    cv_coefs.append(lm_pipeline['logisticregression'].coef_[0])\n",
    "plt.tight_layout()\n",
    "cv_coefs_df = pd.DataFrame(cv_coefs, columns=X_train.columns)"
   ]
  },
  {
   "cell_type": "code",
   "execution_count": 42,
   "metadata": {},
   "outputs": [
    {
     "data": {
      "image/png": "[encoded data removed]",
      "text/plain": [
       "<Figure size 864x432 with 1 Axes>"
      ]
     },
     "metadata": {
      "needs_background": "light"
     },
     "output_type": "display_data"
    }
   ],
   "source": [
    "plt.figure(figsize=(12,6))\n",
    "sns.boxplot(data=cv_coefs_df, orient='h');"
   ]
  },
  {
   "cell_type": "markdown",
   "metadata": {},
   "source": [
    "### Pitfall 6: not using regularization when useful"
   ]
  },
  {
   "cell_type": "code",
   "execution_count": 43,
   "metadata": {},
   "outputs": [],
   "source": [
    "from sklearn.model_selection import GridSearchCV"
   ]
  },
  {
   "cell_type": "code",
   "execution_count": 44,
   "metadata": {
    "scrolled": true
   },
   "outputs": [
    {
     "data": {
      "text/plain": [
       "GridSearchCV(estimator=Pipeline(steps=[('columntransformer',\n",
       "                                        ColumnTransformer(remainder='passthrough',\n",
       "                                                          transformers=[('standardscaler',\n",
       "                                                                         StandardScaler(),\n",
       "                                                                         ['age',\n",
       "                                                                          'diff_sym_hos'])])),\n",
       "                                       ('logisticregression',\n",
       "                                        LogisticRegression(class_weight='balanced',\n",
       "                                                           max_iter=10000,\n",
       "                                                           penalty='elasticnet',\n",
       "                                                           solver='saga'))]),\n",
       "             param_grid={'logisticregression__C': [0.1, 0.5, 1.0, 5.0, 10, 50,\n",
       "                                                   100],\n",
       "                         'logisticregression__l1_ratio': array([0. , 0.1, 0.2, 0.3, 0.4, 0.5, 0.6, 0.7, 0.8, 0.9, 1. ])})"
      ]
     },
     "execution_count": 44,
     "metadata": {},
     "output_type": "execute_result"
    }
   ],
   "source": [
    "lm_pipeline = make_pipeline(\n",
    "    preprocessor,\n",
    "    LogisticRegression(penalty='elasticnet', solver='saga', max_iter=10000, class_weight='balanced')\n",
    ")\n",
    "grid_search = GridSearchCV(lm_pipeline, \n",
    "                           param_grid={'logisticregression__l1_ratio':  np.linspace(0, 1, 11),\n",
    "                                       'logisticregression__C': [0.1, 0.5, 1.0, 5.0, 10, 50, 100]})\n",
    "grid_search.fit(X_train, y_train)"
   ]
  },
  {
   "cell_type": "code",
   "execution_count": null,
   "metadata": {
    "scrolled": true
   },
   "outputs": [],
   "source": [
    "GridSearchCV?"
   ]
  },
  {
   "cell_type": "code",
   "execution_count": 45,
   "metadata": {},
   "outputs": [
    {
     "data": {
      "text/plain": [
       "{'logisticregression__C': 5.0, 'logisticregression__l1_ratio': 0.4}"
      ]
     },
     "execution_count": 45,
     "metadata": {},
     "output_type": "execute_result"
    }
   ],
   "source": [
    "grid_search.best_params_"
   ]
  },
  {
   "cell_type": "code",
   "execution_count": 46,
   "metadata": {},
   "outputs": [],
   "source": [
    "best_model = grid_search.best_estimator_"
   ]
  },
  {
   "cell_type": "code",
   "execution_count": 47,
   "metadata": {},
   "outputs": [
    {
     "data": {
      "text/plain": [
       "array([[ 2.00795942,  0.20846561, -1.08129685, -0.63333271,  0.        ,\n",
       "         3.89564334, -0.63202953,  1.33561427,  2.38055643,  3.00126114,\n",
       "        -0.52475715, -2.08305387,  0.        ,  2.91693668, -0.21369215,\n",
       "        -2.93221447,  1.69385172, -1.10152083,  0.        ,  0.85901281,\n",
       "        -1.46941142,  0.        , -1.82431535, -1.39681699,  0.        ,\n",
       "         1.90404395]])"
      ]
     },
     "execution_count": 47,
     "metadata": {},
     "output_type": "execute_result"
    }
   ],
   "source": [
    "best_model['logisticregression'].coef_"
   ]
  },
  {
   "cell_type": "code",
   "execution_count": 48,
   "metadata": {},
   "outputs": [
    {
     "name": "stdout",
     "output_type": "stream",
     "text": [
      "*** Evaluation metrics for fold 1 ***\n",
      "Recall: 0.82, Precision Score: 0.90\n",
      "F1 Score: 0.86, Accuracy: 0.92\n",
      "*** Evaluation metrics for fold 2 ***\n",
      "Recall: 1.00, Precision Score: 0.79\n",
      "F1 Score: 0.88, Accuracy: 0.92\n",
      "*** Evaluation metrics for fold 3 ***\n",
      "Recall: 1.00, Precision Score: 0.91\n",
      "F1 Score: 0.95, Accuracy: 0.97\n",
      "*** Evaluation metrics for fold 4 ***\n",
      "Recall: 0.90, Precision Score: 0.90\n",
      "F1 Score: 0.90, Accuracy: 0.94\n",
      "*** Evaluation metrics for fold 5 ***\n",
      "Recall: 0.90, Precision Score: 0.82\n",
      "F1 Score: 0.86, Accuracy: 0.91\n"
     ]
    },
    {
     "data": {
      "image/png": "[encoded data removed]",
      "text/plain": [
       "<Figure size 1080x1080 with 10 Axes>"
      ]
     },
     "metadata": {
      "needs_background": "light"
     },
     "output_type": "display_data"
    }
   ],
   "source": [
    "%%capture output --no-stdout --no-display\n",
    "best_Cs = []\n",
    "best_l1ratios = []\n",
    "cv_coefs = []\n",
    "n_folds = 5\n",
    "n_cols_plot = 3\n",
    "skf = StratifiedKFold(n_splits=n_folds, shuffle=True, random_state=42)\n",
    "plt.figure(figsize=(15, 15))\n",
    "for i_f, (ix_train, ix_test) in enumerate(skf.split(X_train, y_train)):\n",
    "    # Define training and testing sets within folds\n",
    "    X_fold_train = X_train.iloc[ix_train, :]\n",
    "    y_fold_train = y_train.iloc[ix_train]\n",
    "    X_fold_test = X_train.iloc[ix_test, :]\n",
    "    y_fold_test = y_train.iloc[ix_test]\n",
    "    # Fit the model for these folds training/testing sets\n",
    "    lm_pipeline = make_pipeline(\n",
    "        preprocessor,\n",
    "        LogisticRegression(penalty='elasticnet', solver='saga', \n",
    "                           max_iter=10000, class_weight='balanced')\n",
    "    )\n",
    "    grid_search = GridSearchCV(lm_pipeline, \n",
    "                               param_grid={'logisticregression__l1_ratio': np.linspace(0, 1, 11),\n",
    "                                           'logisticregression__C': [0.1, 0.5, 1.0, 5.0, 10, 50, 100]},\n",
    "                              cv=5)\n",
    "    grid_search.fit(X_train, y_train)\n",
    "    best_Cs.append(grid_search.best_params_['logisticregression__C'])\n",
    "    best_l1ratios.append(grid_search.best_params_['logisticregression__l1_ratio'])\n",
    "    best_model = grid_search.best_estimator_\n",
    "    y_pred = best_model.predict(X_fold_test)\n",
    "    # Scores\n",
    "    recall_lr = rs(y_fold_test, y_pred)\n",
    "    precision_lr = ps(y_fold_test, y_pred)\n",
    "    f1_lr = fs(y_fold_test, y_pred)\n",
    "    acc_lr = best_model.score(X_fold_test,y_fold_test)\n",
    "    print(f'*** Evaluation metrics for fold {i_f+1} ***')\n",
    "    print(f'Recall: {recall_lr:0.2f}, Precision Score: {precision_lr:0.2f}')\n",
    "    print(f'F1 Score: {f1_lr:0.2f}, Accuracy: {acc_lr:0.2f}')\n",
    "    ax = plt.subplot(n_folds, n_cols_plot, i_f+1)\n",
    "    plot_confusion_matrix(best_model, X_fold_test, y_fold_test, ax=ax);\n",
    "    cv_coefs.append(best_model['logisticregression'].coef_[0])\n",
    "plt.tight_layout()\n",
    "cv_coefs_df = pd.DataFrame(cv_coefs, columns=X_train.columns)"
   ]
  },
  {
   "cell_type": "code",
   "execution_count": 49,
   "metadata": {},
   "outputs": [
    {
     "data": {
      "text/plain": [
       "[5.0, 5.0, 5.0, 5.0, 5.0]"
      ]
     },
     "execution_count": 49,
     "metadata": {},
     "output_type": "execute_result"
    }
   ],
   "source": [
    "best_Cs"
   ]
  },
  {
   "cell_type": "code",
   "execution_count": 50,
   "metadata": {},
   "outputs": [
    {
     "data": {
      "text/plain": [
       "[0.4, 0.4, 0.4, 0.4, 0.4]"
      ]
     },
     "execution_count": 50,
     "metadata": {},
     "output_type": "execute_result"
    }
   ],
   "source": [
    "best_l1ratios"
   ]
  },
  {
   "cell_type": "markdown",
   "metadata": {},
   "source": [
    "### Pitfall 7: not keeping held out set for final evaluation "
   ]
  },
  {
   "cell_type": "code",
   "execution_count": 51,
   "metadata": {},
   "outputs": [],
   "source": [
    "lm_pipeline = make_pipeline(\n",
    "    preprocessor,\n",
    "    LogisticRegression(penalty='elasticnet', solver='saga', max_iter=10000, \n",
    "                       class_weight='balanced', l1_ratio=0.4, C=5.0)\n",
    ")"
   ]
  },
  {
   "cell_type": "code",
   "execution_count": 53,
   "metadata": {},
   "outputs": [
    {
     "name": "stdout",
     "output_type": "stream",
     "text": [
      "*** Evaluation metrics for test dataset ***\n",
      "Recall: 0.91, Precision Score: 0.62\n",
      "F1 Score: 0.74, Accuracy: 0.84\n"
     ]
    },
    {
     "data": {
      "image/png": "[encoded data removed]",
      "text/plain": [
       "<Figure size 432x288 with 2 Axes>"
      ]
     },
     "metadata": {
      "needs_background": "light"
     },
     "output_type": "display_data"
    }
   ],
   "source": [
    "lm_pipeline.fit(X_train, y_train)\n",
    "y_pred = np.array(lm_pipeline.predict(X_test))\n",
    "# Scores\n",
    "recall_lr = rs(y_test, y_pred)\n",
    "precision_lr = ps(y_test, y_pred)\n",
    "f1_lr = fs(y_test, y_pred)\n",
    "acc_lr = lm_pipeline.score(X_test,y_test)\n",
    "print('*** Evaluation metrics for test dataset ***')\n",
    "print(f'Recall: {recall_lr:0.2f}, Precision Score: {precision_lr:0.2f}')\n",
    "print(f'F1 Score: {f1_lr:0.2f}, Accuracy: {acc_lr:0.2f}')\n",
    "from sklearn.metrics import plot_confusion_matrix\n",
    "plot_confusion_matrix(lm_pipeline, X_test, y_test);"
   ]
  },
  {
   "cell_type": "code",
   "execution_count": 54,
   "metadata": {},
   "outputs": [
    {
     "data": {
      "text/plain": [
       "<matplotlib.axes._subplots.AxesSubplot at 0x7fcd8661a3d0>"
      ]
     },
     "execution_count": 54,
     "metadata": {},
     "output_type": "execute_result"
    },
    {
     "data": {
      "image/png": "[encoded data removed]",
      "text/plain": [
       "<Figure size 432x432 with 1 Axes>"
      ]
     },
     "metadata": {
      "needs_background": "light"
     },
     "output_type": "display_data"
    }
   ],
   "source": [
    "lm_coefs_df = pd.DataFrame({'coefs': lm_pipeline['logisticregression'].coef_[0]},\n",
    "                           index=X_train.columns)\n",
    "plt.figure(figsize=(6,6))\n",
    "sns.barplot(x='coefs', y=lm_coefs_df.index, data=lm_coefs_df)"
   ]
  },
  {
   "cell_type": "markdown",
   "metadata": {},
   "source": [
    "### Exercise"
   ]
  },
  {
   "cell_type": "markdown",
   "metadata": {},
   "source": [
    "#### 1. Replace Logistic Regression below by an SVM classifier\n",
    "* You can import it with `from sklearn import svm`\n",
    "* To instantiate an SVM classifier, simply call `svm.LinearSVC()`\n",
    "* Rename the pipeline `svm_pipeline`"
   ]
  },
  {
   "cell_type": "code",
   "execution_count": null,
   "metadata": {},
   "outputs": [],
   "source": [
    "num_cols_to_scale = ['age', 'diff_sym_hos']\n",
    "# Defining operator to scaling numerical column\n",
    "preprocessor = make_column_transformer(\n",
    "    (StandardScaler(), num_cols_to_scale),\n",
    "     remainder='passthrough'\n",
    ")\n",
    "# Defining pipeline with both processing and model fitting\n",
    "lm_pipeline = make_pipeline(\n",
    "    preprocessor,\n",
    "    LogisticRegression()\n",
    ")\n",
    "\n",
    "X_train, X_test, y_train, y_test = train_test_split(X, y, test_size=0.2, random_state=10)"
   ]
  },
  {
   "cell_type": "markdown",
   "metadata": {},
   "source": [
    "#### 2. Use the pipeline you defined above to make predictions on the test set\n",
    "Rename the appropriate variable(s) below"
   ]
  },
  {
   "cell_type": "code",
   "execution_count": null,
   "metadata": {},
   "outputs": [],
   "source": [
    "y_pred = np.array(lm_pipeline.predict(X_test))\n",
    "# Scores\n",
    "recall_lr = rs(y_test, y_pred)\n",
    "precision_lr = ps(y_test, y_pred)\n",
    "f1_lr = fs(y_test, y_pred)\n",
    "acc_lr = lm_pipeline.score(X_test,y_test)\n",
    "print('*** Evaluation metrics for test dataset ***')\n",
    "print(f'Recall: {recall_lr:0.2f}, Precision Score: {precision_lr:0.2f}')\n",
    "print(f'F1 Score: {f1_lr:0.2f}, Accuracy: {acc_lr:0.2f}')\n",
    "plot_confusion_matrix(lm_pipeline, X_test, y_test);"
   ]
  },
  {
   "cell_type": "markdown",
   "metadata": {},
   "source": [
    "#### 3. Plot the graph of the SVM classifier coefficients\n",
    "Rename the appropriate variable(s) below"
   ]
  },
  {
   "cell_type": "code",
   "execution_count": null,
   "metadata": {},
   "outputs": [],
   "source": [
    "lm_coefs_df = pd.DataFrame({'coefs': lm_pipeline['logisticregression'].coef_[0]},\n",
    "                           index=X_train.columns)\n",
    "# Plot\n",
    "plt.figure(figsize=(6,6))\n",
    "sns.barplot(x='coefs', y=lm_coefs_df.index, data=lm_coefs_df)"
   ]
  },
  {
   "cell_type": "markdown",
   "metadata": {},
   "source": [
    "#### 4. Use cross-validation to assess the generalizability of your model\n",
    "Rename the appropriate variable(s) below"
   ]
  },
  {
   "cell_type": "code",
   "execution_count": null,
   "metadata": {},
   "outputs": [],
   "source": [
    "cv_coefs = []\n",
    "n_folds = 5\n",
    "n_cols_plot = 3\n",
    "skf = StratifiedKFold(n_splits=n_folds, shuffle=True, random_state=42)\n",
    "plt.figure(figsize=(15, 15))\n",
    "for i_f, (ix_train, ix_test) in enumerate(skf.split(X_train, y_train)):\n",
    "    # Define training and testing sets within folds\n",
    "    X_fold_train = X_train.iloc[ix_train, :]\n",
    "    y_fold_train = y_train.iloc[ix_train]\n",
    "    X_fold_test = X_train.iloc[ix_test, :]\n",
    "    y_fold_test = y_train.iloc[ix_test]\n",
    "    # Fit the model for these folds training/testing sets\n",
    "    lm_pipeline = make_pipeline(\n",
    "        preprocessor,\n",
    "        LogisticRegression()\n",
    "    )\n",
    "    lm_pipeline.fit(X_fold_train, y_fold_train)\n",
    "    y_pred = lm_pipeline.predict(X_fold_test)\n",
    "    # Scores\n",
    "    recall_lr = rs(y_fold_test, y_pred)\n",
    "    precision_lr = ps(y_fold_test, y_pred)\n",
    "    f1_lr = fs(y_fold_test, y_pred)\n",
    "    acc_lr = lm_pipeline.score(X_fold_test,y_fold_test)\n",
    "    print(f'*** Evaluation metrics for fold {i_f+1} ***')\n",
    "    print(f'Recall: {recall_lr:0.2f}, Precision Score: {precision_lr:0.2f}')\n",
    "    print(f'F1 Score: {f1_lr:0.2f}, Accuracy: {acc_lr:0.2f}')\n",
    "    ax = plt.subplot(n_folds, n_cols_plot, i_f+1)\n",
    "    plot_confusion_matrix(lm_pipeline, X_fold_test, y_fold_test, ax=ax);\n",
    "    cv_coefs.append(lm_pipeline['logisticregression'].coef_[0])\n",
    "plt.tight_layout()\n",
    "cv_coefs_df = pd.DataFrame(cv_coefs, columns=X_train.columns)"
   ]
  },
  {
   "cell_type": "markdown",
   "metadata": {},
   "source": [
    "#### 5. Use GridSearch CV to find the best hyper-parameter C of your SVM classifier\n",
    "Rename the appropriate variable(s) below"
   ]
  },
  {
   "cell_type": "code",
   "execution_count": null,
   "metadata": {},
   "outputs": [],
   "source": [
    "best_Cs = []\n",
    "best_l1ratios = []\n",
    "cv_coefs = []\n",
    "n_folds = 5\n",
    "n_cols_plot = 3\n",
    "skf = StratifiedKFold(n_splits=n_folds, shuffle=True, random_state=42)\n",
    "plt.figure(figsize=(15, 15))\n",
    "for i_f, (ix_train, ix_test) in enumerate(skf.split(X_train, y_train)):\n",
    "    # Define training and testing sets within folds\n",
    "    X_fold_train = X_train.iloc[ix_train, :]\n",
    "    y_fold_train = y_train.iloc[ix_train]\n",
    "    X_fold_test = X_train.iloc[ix_test, :]\n",
    "    y_fold_test = y_train.iloc[ix_test]\n",
    "    # Fit the model for these folds training/testing sets\n",
    "    lm_pipeline = make_pipeline(\n",
    "        preprocessor,\n",
    "        LogisticRegression(penalty='elasticnet', solver='saga', \n",
    "                           max_iter=10000, class_weight='balanced')\n",
    "    )\n",
    "    grid_search = GridSearchCV(lm_pipeline, \n",
    "                               param_grid={'logisticregression__l1_ratio': np.linspace(0, 1, 11),\n",
    "                                           'logisticregression__C': [0.1, 0.5, 1.0, 5.0, 10, 50, 100]},\n",
    "                              cv=5)\n",
    "    grid_search.fit(X_train, y_train)\n",
    "    best_Cs.append(grid_search.best_params_['logisticregression__C'])\n",
    "    best_l1ratios.append(grid_search.best_params_['logisticregression__l1_ratio'])\n",
    "    best_model = grid_search.best_estimator_\n",
    "    y_pred = best_model.predict(X_fold_test)\n",
    "    # Scores\n",
    "    recall_lr = rs(y_fold_test, y_pred)\n",
    "    precision_lr = ps(y_fold_test, y_pred)\n",
    "    f1_lr = fs(y_fold_test, y_pred)\n",
    "    acc_lr = best_model.score(X_fold_test,y_fold_test)\n",
    "    print(f'*** Evaluation metrics for fold {i_f+1} ***')\n",
    "    print(f'Recall: {recall_lr:0.2f}, Precision Score: {precision_lr:0.2f}')\n",
    "    print(f'F1 Score: {f1_lr:0.2f}, Accuracy: {acc_lr:0.2f}')\n",
    "    ax = plt.subplot(n_folds, n_cols_plot, i_f+1)\n",
    "    plot_confusion_matrix(best_model, X_fold_test, y_fold_test, ax=ax);\n",
    "    cv_coefs.append(best_model['logisticregression'].coef_[0])\n",
    "plt.tight_layout()\n",
    "cv_coefs_df = pd.DataFrame(cv_coefs, columns=X_train.columns)"
   ]
  }
 ],
 "metadata": {
  "kernelspec": {
   "display_name": "Python [conda env:shared-ds38]",
   "language": "python",
   "name": "conda-env-shared-ds38-py"
  },
  "language_info": {
   "codemirror_mode": {
    "name": "ipython",
    "version": 3
   },
   "file_extension": ".py",
   "mimetype": "text/x-python",
   "name": "python",
   "nbconvert_exporter": "python",
   "pygments_lexer": "ipython3",
   "version": "3.8.2"
  }
 },
 "nbformat": 4,
 "nbformat_minor": 4
}
