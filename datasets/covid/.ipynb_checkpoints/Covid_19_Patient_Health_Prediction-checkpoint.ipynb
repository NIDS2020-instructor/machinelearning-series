{
 "cells": [
  {
   "cell_type": "code",
   "execution_count": 0,
   "metadata": {
    "colab": {},
    "colab_type": "code",
    "id": "MyiRwr5uJHEf"
   },
   "outputs": [],
   "source": [
    "from google.colab import drive\n",
    "drive.mount('/gdrive')\n",
    "%cd /gdrive/My Drive/cvd"
   ]
  },
  {
   "cell_type": "code",
   "execution_count": 0,
   "metadata": {
    "colab": {},
    "colab_type": "code",
    "id": "7PLKtB7CJe6l"
   },
   "outputs": [],
   "source": [
    "import numpy as np\n",
    "import pandas as pd\n",
    "import datetime as dt\n",
    "import sklearn\n",
    "from scipy import stats\n",
    "from sklearn import preprocessing\n",
    "from sklearn.model_selection import GridSearchCV\n",
    "from sklearn.ensemble import RandomForestClassifier\n",
    "from sklearn.ensemble import AdaBoostClassifier\n",
    "from sklearn.model_selection import train_test_split\n",
    "from sklearn.metrics import recall_score as rs\n",
    "from sklearn.metrics import precision_score as ps\n",
    "from sklearn.metrics import f1_score as fs\n",
    "from sklearn.metrics import log_loss\n",
    "\n",
    "encoder = preprocessing.LabelEncoder()"
   ]
  },
  {
   "cell_type": "code",
   "execution_count": 0,
   "metadata": {
    "colab": {},
    "colab_type": "code",
    "id": "AJG6HG94N-HB"
   },
   "outputs": [],
   "source": [
    "data = pd.read_csv('data.csv')\n",
    "data = data.drop('id',axis=1)\n",
    "data = data.fillna(np.nan,axis=0)\n",
    "data['location'] = encoder.fit_transform(data['location'].astype(str))\n",
    "data['country'] = encoder.fit_transform(data['country'].astype(str))\n",
    "data['gender'] = encoder.fit_transform(data['gender'].astype(str))\n",
    "data[['symptom1']] = encoder.fit_transform(data['symptom1'].astype(str))\n",
    "data[['symptom2']] = encoder.fit_transform(data['symptom2'].astype(str))\n",
    "data[['symptom3']] = encoder.fit_transform(data['symptom3'].astype(str))\n",
    "data[['symptom4']] = encoder.fit_transform(data['symptom4'].astype(str))\n",
    "data[['symptom5']] = encoder.fit_transform(data['symptom5'].astype(str))\n",
    "data[['symptom6']] = encoder.fit_transform(data['symptom6'].astype(str))"
   ]
  },
  {
   "cell_type": "code",
   "execution_count": 0,
   "metadata": {
    "colab": {},
    "colab_type": "code",
    "id": "PSV2sW29OEff"
   },
   "outputs": [],
   "source": [
    "data['sym_on'] = pd.to_datetime(data['sym_on'])\n",
    "data['hosp_vis'] = pd.to_datetime(data['hosp_vis'])\n",
    "data['sym_on']= data['sym_on'].map(dt.datetime.toordinal)\n",
    "data['hosp_vis']= data['hosp_vis'].map(dt.datetime.toordinal)\n",
    "data['diff_sym_hos']= data['hosp_vis'] - data['sym_on']"
   ]
  },
  {
   "cell_type": "code",
   "execution_count": 0,
   "metadata": {
    "colab": {},
    "colab_type": "code",
    "id": "rgeHinTzOJg0"
   },
   "outputs": [],
   "source": [
    "data['diff_symp_hos'] = data['hosp_vis']-data['sym_on']"
   ]
  },
  {
   "cell_type": "code",
   "execution_count": 0,
   "metadata": {
    "colab": {},
    "colab_type": "code",
    "id": "zmjM6wk7Q6jD"
   },
   "outputs": [],
   "source": [
    "data = data.drop(['sym_on','hosp_vis'],axis=1)"
   ]
  },
  {
   "cell_type": "code",
   "execution_count": 0,
   "metadata": {
    "colab": {},
    "colab_type": "code",
    "id": "7yWKs3_ZQxUH"
   },
   "outputs": [],
   "source": [
    "print(data.dtypes)"
   ]
  },
  {
   "cell_type": "markdown",
   "metadata": {
    "colab_type": "text",
    "id": "_gnG__X1vye8"
   },
   "source": [
    "###Visualization"
   ]
  },
  {
   "cell_type": "code",
   "execution_count": 0,
   "metadata": {
    "colab": {},
    "colab_type": "code",
    "id": "sx5Rahyovx_e"
   },
   "outputs": [],
   "source": [
    "import matplotlib.pyplot as plt\n",
    "def counter2(colname1,colname2):\n",
    "  colname1 = pd.Series(colname1)\n",
    "  colname2 = pd.Series(colname2)\n",
    "  count1 = 0\n",
    "  for i in range(min([colname1.size,colname2.size])):\n",
    "    if(colname1[i]==1 and colname2[i]==1):\n",
    "      count1 = count1+1\n",
    "  return count1\n",
    "\n",
    "def counter1(colname):\n",
    "  colname1 = pd.Series(colname)\n",
    "  count = 0\n",
    "  for i in range(colname1.size):\n",
    "    if(colname1[i]==1):\n",
    "      count = count+1\n",
    "  return count"
   ]
  },
  {
   "cell_type": "code",
   "execution_count": 0,
   "metadata": {
    "colab": {},
    "colab_type": "code",
    "id": "dbu8U1LGw4Mn"
   },
   "outputs": [],
   "source": [
    "fwuh = counter1(data['from_wuhan'])\n",
    "vwuh = counter1(data['vis_wuhan'])\n"
   ]
  },
  {
   "cell_type": "code",
   "execution_count": 0,
   "metadata": {
    "colab": {},
    "colab_type": "code",
    "id": "LCfVZZkwyO-b"
   },
   "outputs": [],
   "source": [
    "print(counter1(data['death']))\n",
    "print(counter2(data['from_wuhan'],data['death']))\n",
    "print(counter2(data['vis_wuhan'],data['death']))"
   ]
  },
  {
   "cell_type": "code",
   "execution_count": 0,
   "metadata": {
    "colab": {},
    "colab_type": "code",
    "id": "3pMmZLgv14A5"
   },
   "outputs": [],
   "source": [
    "import matplotlib.pyplot as plt\n",
    "\n",
    "plt.bar(['From Wuhan','Visiting Wuhan'],[counter2(data['death'],data['from_wuhan']),counter2(data['death'],data['vis_wuhan'])],color='green')\n",
    "plt.title('Patient Deaths')\n",
    "plt.xlabel('Patients\\' Native Place')\n",
    "plt.ylabel('Number of Deaths')\n",
    "plt.plot([counter2(data['death'],data['from_wuhan']),counter2(data['death'],data['vis_wuhan'])],color='red')\n",
    "plt.show()"
   ]
  },
  {
   "cell_type": "code",
   "execution_count": 0,
   "metadata": {
    "colab": {},
    "colab_type": "code",
    "id": "5gUSWmtY3bGk"
   },
   "outputs": [],
   "source": [
    "plt.bar(['From Wuhan','Visiting Wuhan'],[counter2(data['recov'],data['from_wuhan']),counter2(data['recov'],data['vis_wuhan'])],color='purple')\n",
    "plt.title('Recovered Patients')\n",
    "plt.xlabel('Patients\\' Native Place')\n",
    "plt.ylabel('Number of Patients Recovered')\n",
    "plt.plot([counter2(data['recov'],data['from_wuhan']),counter2(data['recov'],data['vis_wuhan'])],color='blue')\n",
    "plt.show()"
   ]
  },
  {
   "cell_type": "code",
   "execution_count": 0,
   "metadata": {
    "colab": {},
    "colab_type": "code",
    "id": "OaEfowCndgQs"
   },
   "outputs": [],
   "source": []
  },
  {
   "cell_type": "markdown",
   "metadata": {
    "colab_type": "text",
    "id": "Jmgcf3iLeK0z"
   },
   "source": [
    "###Training"
   ]
  },
  {
   "cell_type": "code",
   "execution_count": 0,
   "metadata": {
    "colab": {},
    "colab_type": "code",
    "id": "WlP3cXzdd3OR"
   },
   "outputs": [],
   "source": [
    "tdata = pd.read_csv('train.csv')\n",
    "print(tdata.head())"
   ]
  },
  {
   "cell_type": "code",
   "execution_count": 0,
   "metadata": {
    "colab": {},
    "colab_type": "code",
    "id": "XDpFK6U1eXcD"
   },
   "outputs": [],
   "source": [
    "tdata = pd.read_csv('train.csv')\n",
    "tdata = tdata.drop('id',axis=1)\n",
    "tdata = tdata.fillna(np.nan,axis=0)\n",
    "tdata['age'] = tdata['age'].fillna(value=tdata['age'].mean())\n",
    "tdata['location'] = encoder.fit_transform(tdata['location'].astype(str))\n",
    "tdata['country'] = encoder.fit_transform(tdata['country'].astype(str))\n",
    "tdata['gender'] = encoder.fit_transform(tdata['gender'].astype(str))\n",
    "tdata[['symptom1']] = encoder.fit_transform(tdata['symptom1'].astype(str))\n",
    "tdata[['symptom2']] = encoder.fit_transform(tdata['symptom2'].astype(str))\n",
    "tdata[['symptom3']] = encoder.fit_transform(tdata['symptom3'].astype(str))\n",
    "tdata[['symptom4']] = encoder.fit_transform(tdata['symptom4'].astype(str))\n",
    "tdata[['symptom5']] = encoder.fit_transform(tdata['symptom5'].astype(str))\n",
    "tdata[['symptom6']] = encoder.fit_transform(tdata['symptom6'].astype(str))"
   ]
  },
  {
   "cell_type": "code",
   "execution_count": 0,
   "metadata": {
    "colab": {},
    "colab_type": "code",
    "id": "cxxY76mHeXcV"
   },
   "outputs": [],
   "source": [
    "tdata['sym_on'] = pd.to_datetime(tdata['sym_on'])\n",
    "tdata['hosp_vis'] = pd.to_datetime(tdata['hosp_vis'])\n",
    "tdata['sym_on']= tdata['sym_on'].map(dt.datetime.toordinal)\n",
    "tdata['hosp_vis']= tdata['hosp_vis'].map(dt.datetime.toordinal)\n",
    "tdata['diff_sym_hos']= tdata['hosp_vis'] - tdata['sym_on']"
   ]
  },
  {
   "cell_type": "code",
   "execution_count": 0,
   "metadata": {
    "colab": {},
    "colab_type": "code",
    "id": "wrUP1Kx3eXcp"
   },
   "outputs": [],
   "source": [
    "tdata = tdata.drop(['sym_on','hosp_vis'],axis=1)"
   ]
  },
  {
   "cell_type": "code",
   "execution_count": 0,
   "metadata": {
    "colab": {},
    "colab_type": "code",
    "id": "XEXK7PBhkDhN"
   },
   "outputs": [],
   "source": [
    "print(tdata)"
   ]
  },
  {
   "cell_type": "code",
   "execution_count": 0,
   "metadata": {
    "colab": {},
    "colab_type": "code",
    "id": "URBOdKUteXcu"
   },
   "outputs": [],
   "source": [
    "print(tdata.isna().sum())"
   ]
  },
  {
   "cell_type": "code",
   "execution_count": 0,
   "metadata": {
    "colab": {},
    "colab_type": "code",
    "id": "HEPS4gxb2nmI"
   },
   "outputs": [],
   "source": [
    "from sklearn.metrics import recall_score as rs\n",
    "from sklearn.metrics import precision_score as ps\n",
    "from sklearn.metrics import f1_score as fs\n",
    "from sklearn.metrics import balanced_accuracy_score as bas\n",
    "from sklearn.metrics import confusion_matrix as cm"
   ]
  },
  {
   "cell_type": "code",
   "execution_count": 0,
   "metadata": {
    "colab": {},
    "colab_type": "code",
    "id": "ZzhuAHDGgdzJ"
   },
   "outputs": [],
   "source": [
    "rf = RandomForestClassifier(bootstrap=True, ccp_alpha=0.0, class_weight=None,\n",
    "                       criterion='gini', max_depth=2, max_features='auto',\n",
    "                       max_leaf_nodes=None, max_samples=None,\n",
    "                       min_impurity_decrease=0.0, min_impurity_split=None,\n",
    "                       min_samples_leaf=2, min_samples_split=2,\n",
    "                       min_weight_fraction_leaf=0.0, n_estimators=100,\n",
    "                       n_jobs=None, oob_score=False, random_state=None,\n",
    "                       verbose=0, warm_start=False)\n",
    "classifier = AdaBoostClassifier(rf,50,0.01,'SAMME.R',10)"
   ]
  },
  {
   "cell_type": "code",
   "execution_count": 0,
   "metadata": {
    "colab": {},
    "colab_type": "code",
    "id": "I2Eqf4CIfqGb"
   },
   "outputs": [],
   "source": [
    "X = tdata[['location','country','gender','age','vis_wuhan','from_wuhan','symptom1','symptom2','symptom3','symptom4','symptom5','symptom6','diff_sym_hos']]\n",
    "Y = tdata['death']"
   ]
  },
  {
   "cell_type": "code",
   "execution_count": 0,
   "metadata": {
    "colab": {},
    "colab_type": "code",
    "id": "yWroRhrfZQy7"
   },
   "outputs": [],
   "source": [
    "X_train, X_test, Y_train, Y_test = train_test_split(X,Y,test_size=0.2,random_state=0)\n",
    "classifier.fit(X_train,np.array(Y_train).reshape(Y_train.shape[0],1))"
   ]
  },
  {
   "cell_type": "code",
   "execution_count": 0,
   "metadata": {
    "colab": {},
    "colab_type": "code",
    "id": "eTFY9atzcmO-"
   },
   "outputs": [],
   "source": [
    "pred = np.array(classifier.predict(X_test))\n",
    "\n",
    "recall = rs(Y_test,pred)\n",
    "precision = ps(Y_test,pred)\n",
    "f1 = fs(Y_test,pred)\n",
    "ma = classifier.score(X_test,Y_test)"
   ]
  },
  {
   "cell_type": "code",
   "execution_count": 0,
   "metadata": {
    "colab": {
     "base_uri": "https://localhost:8080/",
     "height": 272
    },
    "colab_type": "code",
    "id": "4dtmxNcbcoBF",
    "outputId": "4b8d3e40-57da-43de-f94b-cb6fef01a0c6"
   },
   "outputs": [
    {
     "name": "stdout",
     "output_type": "stream",
     "text": [
      "*** Evaluation metrics for test dataset ***\n",
      "\n",
      "Recall Score:  0.75\n",
      "Precision Score:  1.0\n",
      "F1 Score:  0.8571428571428571\n",
      "Accuracy:  0.9333333333333333\n",
      "\n",
      "\tTable 3\n",
      "\n",
      "     death  pred\n",
      "130      0     0\n",
      "203      0     0\n",
      "170      1     0\n",
      "66       0     0\n",
      "181      0     0\n"
     ]
    }
   ],
   "source": [
    "print('*** Evaluation metrics for test dataset ***\\n')\n",
    "print('Recall Score: ',recall)\n",
    "print('Precision Score: ',precision)\n",
    "print('F1 Score: ',f1)\n",
    "print('Accuracy: ',ma)\n",
    "a = pd.DataFrame(Y_test)\n",
    "a['pred']= classifier.predict(X_test)\n",
    "print('\\n\\tTable 3\\n')\n",
    "print(a.head())"
   ]
  },
  {
   "cell_type": "code",
   "execution_count": 0,
   "metadata": {
    "colab": {},
    "colab_type": "code",
    "id": "69vkWD86tDoU"
   },
   "outputs": [],
   "source": [
    "print(pd.DataFrame({'Val':Y_test,'Pred':classifier.predict(X_test)}))"
   ]
  },
  {
   "cell_type": "code",
   "execution_count": 0,
   "metadata": {
    "colab": {
     "base_uri": "https://localhost:8080/",
     "height": 666
    },
    "colab_type": "code",
    "id": "PbnFCkXaotgp",
    "outputId": "d0b435f9-4f63-4199-d8a8-7a08367e409a"
   },
   "outputs": [
    {
     "name": "stdout",
     "output_type": "stream",
     "text": [
      "Fitting 5 folds for each of 320 candidates, totalling 1600 fits\n"
     ]
    },
    {
     "name": "stderr",
     "output_type": "stream",
     "text": [
      "[Parallel(n_jobs=-1)]: Using backend LokyBackend with 2 concurrent workers.\n",
      "[Parallel(n_jobs=-1)]: Done  24 tasks      | elapsed:    2.8s\n",
      "[Parallel(n_jobs=-1)]: Done  90 tasks      | elapsed:   24.3s\n",
      "[Parallel(n_jobs=-1)]: Done 180 tasks      | elapsed:   50.6s\n",
      "[Parallel(n_jobs=-1)]: Done 306 tasks      | elapsed:  1.5min\n",
      "[Parallel(n_jobs=-1)]: Done 468 tasks      | elapsed:  2.2min\n",
      "[Parallel(n_jobs=-1)]: Done 666 tasks      | elapsed:  3.2min\n",
      "[Parallel(n_jobs=-1)]: Done 900 tasks      | elapsed:  4.4min\n",
      "[Parallel(n_jobs=-1)]: Done 1170 tasks      | elapsed:  5.8min\n",
      "[Parallel(n_jobs=-1)]: Done 1476 tasks      | elapsed:  7.3min\n",
      "[Parallel(n_jobs=-1)]: Done 1600 out of 1600 | elapsed:  8.0min finished\n",
      "/usr/local/lib/python3.6/dist-packages/sklearn/model_selection/_search.py:739: DataConversionWarning: A column-vector y was passed when a 1d array was expected. Please change the shape of y to (n_samples,), for example using ravel().\n",
      "  self.best_estimator_.fit(X, y, **fit_params)\n"
     ]
    },
    {
     "data": {
      "text/plain": [
       "GridSearchCV(cv=5, error_score=nan,\n",
       "             estimator=RandomForestClassifier(bootstrap=True, ccp_alpha=0.0,\n",
       "                                              class_weight=None,\n",
       "                                              criterion='gini', max_depth=None,\n",
       "                                              max_features='auto',\n",
       "                                              max_leaf_nodes=None,\n",
       "                                              max_samples=None,\n",
       "                                              min_impurity_decrease=0.0,\n",
       "                                              min_impurity_split=None,\n",
       "                                              min_samples_leaf=1,\n",
       "                                              min_samples_split=2,\n",
       "                                              min_weight_fraction_leaf=0.0,\n",
       "                                              n_estimators=100, n_jobs=None,\n",
       "                                              oob_score=False,\n",
       "                                              random_state=None, verbose=0,\n",
       "                                              warm_start=False),\n",
       "             iid='deprecated', n_jobs=-1,\n",
       "             param_grid={'max_depth': [1, 2, 5, 6],\n",
       "                         'min_samples_leaf': [2, 3, 4, 5],\n",
       "                         'min_samples_split': [1, 2, 6, 7],\n",
       "                         'n_estimators': [100, 200, 300, 400, 500]},\n",
       "             pre_dispatch='2*n_jobs', refit=True, return_train_score=False,\n",
       "             scoring=None, verbose=5)"
      ]
     },
     "execution_count": 30,
     "metadata": {
      "tags": []
     },
     "output_type": "execute_result"
    }
   ],
   "source": [
    "X1 = tdata[['location','country','gender','age','vis_wuhan','from_wuhan','symptom1','symptom2','symptom3','symptom4','symptom5','symptom6','diff_sym_hos']]\n",
    "Y1 = tdata['death']\n",
    "classifier1 = RandomForestClassifier()\n",
    "\n",
    "n_estimators = [100,200,300,400,500]\n",
    "max_depth = [1,2,5,6]\n",
    "min_samples_split = [1,2,6,7]\n",
    "min_samples_leaf = [2,3,4,5]\n",
    "\n",
    "params_grid = {'n_estimators':n_estimators,'max_depth':max_depth,'min_samples_split':min_samples_split,'min_samples_leaf':min_samples_leaf}\n",
    "\n",
    "gridder = GridSearchCV(estimator=classifier1,param_grid=params_grid,n_jobs=-1,cv=5,verbose=5 )\n",
    "gridder.fit(X1,np.array(Y1).reshape(Y1.shape[0],1))"
   ]
  },
  {
   "cell_type": "code",
   "execution_count": 0,
   "metadata": {
    "colab": {
     "base_uri": "https://localhost:8080/",
     "height": 153
    },
    "colab_type": "code",
    "id": "TKaAM6PhzS5W",
    "outputId": "9aa0d32e-1bb7-4cc6-ca38-e527bfdc22eb"
   },
   "outputs": [
    {
     "name": "stdout",
     "output_type": "stream",
     "text": [
      "RandomForestClassifier(bootstrap=True, ccp_alpha=0.0, class_weight=None,\n",
      "                       criterion='gini', max_depth=2, max_features='auto',\n",
      "                       max_leaf_nodes=None, max_samples=None,\n",
      "                       min_impurity_decrease=0.0, min_impurity_split=None,\n",
      "                       min_samples_leaf=2, min_samples_split=2,\n",
      "                       min_weight_fraction_leaf=0.0, n_estimators=100,\n",
      "                       n_jobs=None, oob_score=False, random_state=None,\n",
      "                       verbose=0, warm_start=False)\n"
     ]
    }
   ],
   "source": [
    "print(gridder.best_estimator_)"
   ]
  },
  {
   "cell_type": "code",
   "execution_count": 0,
   "metadata": {
    "colab": {},
    "colab_type": "code",
    "id": "W7nbt2XiAOXl"
   },
   "outputs": [],
   "source": []
  },
  {
   "cell_type": "code",
   "execution_count": 0,
   "metadata": {
    "colab": {
     "base_uri": "https://localhost:8080/",
     "height": 34
    },
    "colab_type": "code",
    "id": "f9fkP5OfCXX3",
    "outputId": "1122217a-f80b-4da9-d0af-60c72a4c33b3"
   },
   "outputs": [
    {
     "name": "stdout",
     "output_type": "stream",
     "text": [
      "data.csv  test.xlsx  train.csv\n"
     ]
    }
   ],
   "source": [
    "!ls"
   ]
  },
  {
   "cell_type": "code",
   "execution_count": 0,
   "metadata": {
    "colab": {},
    "colab_type": "code",
    "id": "bcYSsgftCd8T"
   },
   "outputs": [],
   "source": [
    "udata = pd.read_excel('test.xlsx')\n",
    "udata = udata.drop('id',axis=1)"
   ]
  },
  {
   "cell_type": "code",
   "execution_count": 0,
   "metadata": {
    "colab": {
     "base_uri": "https://localhost:8080/",
     "height": 85
    },
    "colab_type": "code",
    "id": "TLe7atsBCplg",
    "outputId": "62e17090-1e02-4b3e-e32f-d8eaa2375077"
   },
   "outputs": [
    {
     "name": "stdout",
     "output_type": "stream",
     "text": [
      "Index(['location', 'country', 'gender', 'age', 'sym_on', 'hosp_vis',\n",
      "       'vis_wuhan', 'from_wuhan', 'symptom1', 'symptom2', 'symptom3',\n",
      "       'symptom4', 'symptom5', 'symptom6'],\n",
      "      dtype='object')\n"
     ]
    }
   ],
   "source": [
    "print(udata.columns)"
   ]
  },
  {
   "cell_type": "code",
   "execution_count": 0,
   "metadata": {
    "colab": {},
    "colab_type": "code",
    "id": "ti3W5ccyDEzj"
   },
   "outputs": [],
   "source": [
    "udata = udata.fillna(np.nan,axis=0)\n",
    "udata['age'] = udata['age'].fillna(value=udata['age'].mean())\n",
    "udata['from_wuhan'] = udata['from_wuhan'].fillna(value=0)\n",
    "udata['from_wuhan'] = udata['from_wuhan'].astype(int)\n",
    "udata['location'] = encoder.fit_transform(udata['location'].astype(str))\n",
    "udata['country'] = encoder.fit_transform(udata['country'].astype(str))\n",
    "udata['gender'] = encoder.fit_transform(udata['gender'].astype(str))\n",
    "udata[['symptom1']] = encoder.fit_transform(udata['symptom1'].astype(str))\n",
    "udata[['symptom2']] = encoder.fit_transform(udata['symptom2'].astype(str))\n",
    "udata[['symptom3']] = encoder.fit_transform(udata['symptom3'].astype(str))\n",
    "udata[['symptom4']] = encoder.fit_transform(udata['symptom4'].astype(str))\n",
    "udata[['symptom5']] = encoder.fit_transform(udata['symptom5'].astype(str))\n",
    "udata[['symptom6']] = encoder.fit_transform(udata['symptom6'].astype(str))"
   ]
  },
  {
   "cell_type": "code",
   "execution_count": 0,
   "metadata": {
    "colab": {
     "base_uri": "https://localhost:8080/",
     "height": 51
    },
    "colab_type": "code",
    "id": "m0xphgQ8IPYd",
    "outputId": "f2b3ea2d-142f-4a44-9de3-c70719b2c9f1"
   },
   "outputs": [
    {
     "name": "stdout",
     "output_type": "stream",
     "text": [
      "0    0\n",
      "dtype: int64\n"
     ]
    }
   ],
   "source": [
    "print(udata['from_wuhan'].mode())"
   ]
  },
  {
   "cell_type": "code",
   "execution_count": 0,
   "metadata": {
    "colab": {},
    "colab_type": "code",
    "id": "774PS65EDEzz"
   },
   "outputs": [],
   "source": [
    "udata['sym_on'] = pd.to_datetime(udata['sym_on'])\n",
    "udata['hosp_vis'] = pd.to_datetime(udata['hosp_vis'])\n",
    "udata['sym_on']= udata['sym_on'].map(dt.datetime.toordinal)\n",
    "udata['hosp_vis']= udata['hosp_vis'].map(dt.datetime.toordinal)\n",
    "udata['diff_sym_hos']= udata['hosp_vis'] - udata['sym_on']"
   ]
  },
  {
   "cell_type": "code",
   "execution_count": 0,
   "metadata": {
    "colab": {
     "base_uri": "https://localhost:8080/",
     "height": 34
    },
    "colab_type": "code",
    "id": "SlM5VTE0DEz6",
    "outputId": "48df2c21-2821-4132-d96e-7f20d363c6b9"
   },
   "outputs": [
    {
     "name": "stdout",
     "output_type": "stream",
     "text": [
      "[0 1]\n"
     ]
    }
   ],
   "source": [
    "print(udata['from_wuhan'].unique())"
   ]
  },
  {
   "cell_type": "code",
   "execution_count": 0,
   "metadata": {
    "colab": {
     "base_uri": "https://localhost:8080/",
     "height": 289
    },
    "colab_type": "code",
    "id": "V5-D-9EkEQqr",
    "outputId": "bd0478c6-d595-44ee-c2fb-74395b2e1664"
   },
   "outputs": [
    {
     "name": "stdout",
     "output_type": "stream",
     "text": [
      "location          int64\n",
      "country           int64\n",
      "gender            int64\n",
      "age             float64\n",
      "sym_on            int64\n",
      "hosp_vis          int64\n",
      "vis_wuhan         int64\n",
      "from_wuhan        int64\n",
      "symptom1          int64\n",
      "symptom2          int64\n",
      "symptom3          int64\n",
      "symptom4          int64\n",
      "symptom5          int64\n",
      "symptom6          int64\n",
      "diff_sym_hos      int64\n",
      "dtype: object\n"
     ]
    }
   ],
   "source": [
    "print(udata.dtypes)"
   ]
  },
  {
   "cell_type": "code",
   "execution_count": 0,
   "metadata": {
    "colab": {},
    "colab_type": "code",
    "id": "eM0G8F6nDz4H"
   },
   "outputs": [],
   "source": [
    "udata = udata[['location','country','gender','age','vis_wuhan','from_wuhan','symptom1','symptom2','symptom3','symptom4','symptom5','symptom6','diff_sym_hos']]\n",
    "udata['result'] = classifier.predict(udata)"
   ]
  },
  {
   "cell_type": "code",
   "execution_count": 0,
   "metadata": {
    "colab": {
     "base_uri": "https://localhost:8080/",
     "height": 221
    },
    "colab_type": "code",
    "id": "L2WPDzZ-D-t5",
    "outputId": "1898e1a2-1750-4af3-e036-1ea444a3f6a1"
   },
   "outputs": [
    {
     "name": "stdout",
     "output_type": "stream",
     "text": [
      "0      1\n",
      "1      0\n",
      "2      0\n",
      "3      0\n",
      "4      0\n",
      "      ..\n",
      "858    1\n",
      "859    0\n",
      "860    0\n",
      "861    0\n",
      "862    0\n",
      "Name: result, Length: 863, dtype: int64\n"
     ]
    }
   ],
   "source": [
    "print(udata['result'])"
   ]
  },
  {
   "cell_type": "code",
   "execution_count": 0,
   "metadata": {
    "colab": {},
    "colab_type": "code",
    "id": "30pUj7Z1Ikh0"
   },
   "outputs": [],
   "source": [
    "!cd '/gdrive/My Drive/cvd'"
   ]
  },
  {
   "cell_type": "code",
   "execution_count": 0,
   "metadata": {
    "colab": {},
    "colab_type": "code",
    "id": "MtxNqNXeI3hh"
   },
   "outputs": [],
   "source": [
    "udata.to_csv('/gdrive/My Drive/cvd/final.csv')"
   ]
  },
  {
   "cell_type": "code",
   "execution_count": 0,
   "metadata": {
    "colab": {},
    "colab_type": "code",
    "id": "nnNFjQYHJSnr"
   },
   "outputs": [],
   "source": []
  }
 ],
 "metadata": {
  "accelerator": "TPU",
  "colab": {
   "name": "Covid-19 Patient Health Prediction",
   "provenance": []
  },
  "kernelspec": {
   "display_name": "Python [conda env:shared-ds38]",
   "language": "python",
   "name": "conda-env-shared-ds38-py"
  },
  "language_info": {
   "codemirror_mode": {
    "name": "ipython",
    "version": 3
   },
   "file_extension": ".py",
   "mimetype": "text/x-python",
   "name": "python",
   "nbconvert_exporter": "python",
   "pygments_lexer": "ipython3",
   "version": "3.8.2"
  }
 },
 "nbformat": 4,
 "nbformat_minor": 1
}
