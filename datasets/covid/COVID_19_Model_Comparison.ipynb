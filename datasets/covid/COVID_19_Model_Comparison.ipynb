{
 "cells": [
  {
   "cell_type": "code",
   "execution_count": 2,
   "metadata": {
    "colab": {
     "base_uri": "https://localhost:8080/",
     "height": 139
    },
    "colab_type": "code",
    "id": "MyiRwr5uJHEf",
    "outputId": "da4a0546-bf5e-4f0a-f808-621c114c6690"
   },
   "outputs": [
    {
     "name": "stdout",
     "output_type": "stream",
     "text": [
      "Go to this URL in a browser: https://accounts.google.com/o/oauth2/auth?client_id=947318989803-6bn6qk8qdgf4n4g3pfee6491hc0brc4i.apps.googleusercontent.com&redirect_uri=urn%3aietf%3awg%3aoauth%3a2.0%3aoob&response_type=code&scope=email%20https%3a%2f%2fwww.googleapis.com%2fauth%2fdocs.test%20https%3a%2f%2fwww.googleapis.com%2fauth%2fdrive%20https%3a%2f%2fwww.googleapis.com%2fauth%2fdrive.photos.readonly%20https%3a%2f%2fwww.googleapis.com%2fauth%2fpeopleapi.readonly\n",
      "\n",
      "Enter your authorization code:\n",
      "··········\n",
      "Mounted at /gdrive\n",
      "/gdrive/My Drive/cvd\n"
     ]
    }
   ],
   "source": [
    "from google.colab import drive\n",
    "drive.mount('/gdrive')\n",
    "%cd /gdrive/My Drive/cvd"
   ]
  },
  {
   "cell_type": "code",
   "execution_count": 1,
   "metadata": {
    "ExecuteTime": {
     "end_time": "2020-12-01T21:27:06.388928Z",
     "start_time": "2020-12-01T21:27:05.945561Z"
    },
    "colab": {},
    "colab_type": "code",
    "id": "7PLKtB7CJe6l"
   },
   "outputs": [],
   "source": [
    "import numpy as np\n",
    "import pandas as pd\n",
    "import datetime as dt\n",
    "import sklearn\n",
    "from scipy import stats\n",
    "from sklearn import preprocessing\n",
    "from sklearn.model_selection import GridSearchCV\n",
    "from sklearn.ensemble import RandomForestClassifier\n",
    "from sklearn.ensemble import AdaBoostClassifier\n",
    "from sklearn.model_selection import train_test_split\n",
    "from sklearn.metrics import recall_score as rs\n",
    "from sklearn.metrics import precision_score as ps\n",
    "from sklearn.metrics import f1_score as fs\n",
    "from sklearn.metrics import log_loss\n",
    "\n",
    "encoder = preprocessing.LabelEncoder()"
   ]
  },
  {
   "cell_type": "markdown",
   "metadata": {
    "colab_type": "text",
    "id": "wuEnp-EiF_X9"
   },
   "source": [
    "###Data Preprocessing"
   ]
  },
  {
   "cell_type": "code",
   "execution_count": 2,
   "metadata": {
    "ExecuteTime": {
     "end_time": "2020-12-01T21:27:07.110421Z",
     "start_time": "2020-12-01T21:27:07.075308Z"
    },
    "colab": {},
    "colab_type": "code",
    "id": "AJG6HG94N-HB"
   },
   "outputs": [],
   "source": [
    "data = pd.read_csv('cvd/data.csv')\n",
    "data = data.drop('id',axis=1)\n",
    "data = data.fillna(np.nan,axis=0)\n",
    "data['location'] = encoder.fit_transform(data['location'].astype(str))\n",
    "data['country'] = encoder.fit_transform(data['country'].astype(str))\n",
    "data['gender'] = encoder.fit_transform(data['gender'].astype(str))\n",
    "data[['symptom1']] = encoder.fit_transform(data['symptom1'].astype(str))\n",
    "data[['symptom2']] = encoder.fit_transform(data['symptom2'].astype(str))\n",
    "data[['symptom3']] = encoder.fit_transform(data['symptom3'].astype(str))\n",
    "data[['symptom4']] = encoder.fit_transform(data['symptom4'].astype(str))\n",
    "data[['symptom5']] = encoder.fit_transform(data['symptom5'].astype(str))\n",
    "data[['symptom6']] = encoder.fit_transform(data['symptom6'].astype(str))"
   ]
  },
  {
   "cell_type": "code",
   "execution_count": 3,
   "metadata": {
    "ExecuteTime": {
     "end_time": "2020-12-01T21:27:08.544668Z",
     "start_time": "2020-12-01T21:27:08.505671Z"
    },
    "colab": {},
    "colab_type": "code",
    "id": "PSV2sW29OEff"
   },
   "outputs": [],
   "source": [
    "data['sym_on'] = pd.to_datetime(data['sym_on'])\n",
    "data['hosp_vis'] = pd.to_datetime(data['hosp_vis'])\n",
    "data['sym_on']= data['sym_on'].map(dt.datetime.toordinal)\n",
    "data['hosp_vis']= data['hosp_vis'].map(dt.datetime.toordinal)\n",
    "data['diff_sym_hos']= data['hosp_vis'] - data['sym_on']"
   ]
  },
  {
   "cell_type": "code",
   "execution_count": 4,
   "metadata": {
    "ExecuteTime": {
     "end_time": "2020-12-01T21:27:09.048049Z",
     "start_time": "2020-12-01T21:27:09.041280Z"
    },
    "colab": {},
    "colab_type": "code",
    "id": "rgeHinTzOJg0"
   },
   "outputs": [],
   "source": [
    "data['diff_symp_hos'] = data['hosp_vis']-data['sym_on']"
   ]
  },
  {
   "cell_type": "code",
   "execution_count": 5,
   "metadata": {
    "ExecuteTime": {
     "end_time": "2020-12-01T21:27:11.679149Z",
     "start_time": "2020-12-01T21:27:11.672266Z"
    },
    "colab": {},
    "colab_type": "code",
    "id": "zmjM6wk7Q6jD"
   },
   "outputs": [],
   "source": [
    "data = data.drop(['sym_on','hosp_vis'],axis=1)"
   ]
  },
  {
   "cell_type": "code",
   "execution_count": 6,
   "metadata": {
    "ExecuteTime": {
     "end_time": "2020-12-01T21:27:12.968179Z",
     "start_time": "2020-12-01T21:27:12.960984Z"
    },
    "colab": {
     "base_uri": "https://localhost:8080/",
     "height": 306
    },
    "colab_type": "code",
    "id": "7yWKs3_ZQxUH",
    "outputId": "7414216e-1914-4eca-f268-d8bdba91cb03"
   },
   "outputs": [
    {
     "name": "stdout",
     "output_type": "stream",
     "text": [
      "location           int64\n",
      "country            int64\n",
      "gender             int64\n",
      "age              float64\n",
      "vis_wuhan          int64\n",
      "from_wuhan       float64\n",
      "death              int64\n",
      "recov              int64\n",
      "symptom1           int64\n",
      "symptom2           int64\n",
      "symptom3           int64\n",
      "symptom4           int64\n",
      "symptom5           int64\n",
      "symptom6           int64\n",
      "diff_sym_hos       int64\n",
      "diff_symp_hos      int64\n",
      "dtype: object\n"
     ]
    }
   ],
   "source": [
    "print(data.dtypes)"
   ]
  },
  {
   "cell_type": "markdown",
   "metadata": {
    "colab_type": "text",
    "id": "Jmgcf3iLeK0z"
   },
   "source": [
    "###Training"
   ]
  },
  {
   "cell_type": "code",
   "execution_count": 7,
   "metadata": {
    "ExecuteTime": {
     "end_time": "2020-12-01T21:27:38.696876Z",
     "start_time": "2020-12-01T21:27:38.675197Z"
    },
    "colab": {
     "base_uri": "https://localhost:8080/",
     "height": 153
    },
    "colab_type": "code",
    "id": "WlP3cXzdd3OR",
    "outputId": "428f16da-6eb9-4477-b38e-082058f28395"
   },
   "outputs": [
    {
     "name": "stdout",
     "output_type": "stream",
     "text": [
      "   id      location country gender   age      sym_on    hosp_vis  vis_wuhan  \\\n",
      "0  49  Wuhan, Hubei   China   male  61.0  12/20/2019  12/27/2019          0   \n",
      "1  50  Wuhan, Hubei   China   male  69.0  12/30/2019    1/3/2020          0   \n",
      "2  51  Wuhan, Hubei   China   male  89.0         NaN         NaN          0   \n",
      "3  52  Wuhan, Hubei   China   male  89.0   1/13/2020   1/13/2020          0   \n",
      "4  53  Wuhan, Hubei   China   male  66.0   1/10/2020   1/16/2020          0   \n",
      "\n",
      "   from_wuhan  death symptom1 symptom2 symptom3  symptom4  symptom5  symptom6  \n",
      "0           1      1      NaN      NaN      NaN       NaN       NaN       NaN  \n",
      "1           1      1      NaN      NaN      NaN       NaN       NaN       NaN  \n",
      "2           1      1      NaN      NaN      NaN       NaN       NaN       NaN  \n",
      "3           1      1      NaN      NaN      NaN       NaN       NaN       NaN  \n",
      "4           1      1      NaN      NaN      NaN       NaN       NaN       NaN  \n"
     ]
    }
   ],
   "source": [
    "tdata = pd.read_csv('cvd/train.csv')\n",
    "print(tdata.head())"
   ]
  },
  {
   "cell_type": "code",
   "execution_count": 8,
   "metadata": {
    "ExecuteTime": {
     "end_time": "2020-12-01T21:28:15.497345Z",
     "start_time": "2020-12-01T21:28:15.464411Z"
    },
    "colab": {},
    "colab_type": "code",
    "id": "XDpFK6U1eXcD"
   },
   "outputs": [],
   "source": [
    "tdata = pd.read_csv('cvd/train.csv')\n",
    "tdata = tdata.drop('id',axis=1)\n",
    "tdata = tdata.fillna(np.nan,axis=0)\n",
    "tdata['age'] = tdata['age'].fillna(value=tdata['age'].mean())\n",
    "tdata['location'] = encoder.fit_transform(tdata['location'].astype(str))\n",
    "tdata['country'] = encoder.fit_transform(tdata['country'].astype(str))\n",
    "tdata['gender'] = encoder.fit_transform(tdata['gender'].astype(str))\n",
    "tdata[['symptom1']] = encoder.fit_transform(tdata['symptom1'].astype(str))\n",
    "tdata[['symptom2']] = encoder.fit_transform(tdata['symptom2'].astype(str))\n",
    "tdata[['symptom3']] = encoder.fit_transform(tdata['symptom3'].astype(str))\n",
    "tdata[['symptom4']] = encoder.fit_transform(tdata['symptom4'].astype(str))\n",
    "tdata[['symptom5']] = encoder.fit_transform(tdata['symptom5'].astype(str))\n",
    "tdata[['symptom6']] = encoder.fit_transform(tdata['symptom6'].astype(str))"
   ]
  },
  {
   "cell_type": "code",
   "execution_count": 9,
   "metadata": {
    "ExecuteTime": {
     "end_time": "2020-12-01T21:28:22.371551Z",
     "start_time": "2020-12-01T21:28:22.346180Z"
    },
    "colab": {},
    "colab_type": "code",
    "id": "cxxY76mHeXcV"
   },
   "outputs": [],
   "source": [
    "tdata['sym_on'] = pd.to_datetime(tdata['sym_on'])\n",
    "tdata['hosp_vis'] = pd.to_datetime(tdata['hosp_vis'])\n",
    "tdata['sym_on']= tdata['sym_on'].map(dt.datetime.toordinal)\n",
    "tdata['hosp_vis']= tdata['hosp_vis'].map(dt.datetime.toordinal)\n",
    "tdata['diff_sym_hos']= tdata['hosp_vis'] - tdata['sym_on']"
   ]
  },
  {
   "cell_type": "code",
   "execution_count": 17,
   "metadata": {},
   "outputs": [
    {
     "data": {
      "text/plain": [
       "0      7\n",
       "1      4\n",
       "2      0\n",
       "3      0\n",
       "4      6\n",
       "      ..\n",
       "217    0\n",
       "218    0\n",
       "219    0\n",
       "220    0\n",
       "221    0\n",
       "Name: diff_sym_hos, Length: 222, dtype: int64"
      ]
     },
     "execution_count": 17,
     "metadata": {},
     "output_type": "execute_result"
    }
   ],
   "source": [
    "tdata['diff_sym_hos']"
   ]
  },
  {
   "cell_type": "code",
   "execution_count": 10,
   "metadata": {
    "ExecuteTime": {
     "end_time": "2020-12-01T21:28:30.651978Z",
     "start_time": "2020-12-01T21:28:30.634962Z"
    }
   },
   "outputs": [
    {
     "name": "stdout",
     "output_type": "stream",
     "text": [
      "     location  country  gender        age  vis_wuhan  from_wuhan  death  \\\n",
      "0          38        2       1  61.000000          0           1      1   \n",
      "1          38        2       1  69.000000          0           1      1   \n",
      "2          38        2       1  89.000000          0           1      1   \n",
      "3          38        2       1  89.000000          0           1      1   \n",
      "4          38        2       1  66.000000          0           1      1   \n",
      "..        ...      ...     ...        ...        ...         ...    ...   \n",
      "217         2        3       2  49.747537          0           0      0   \n",
      "218        22        6       2  49.747537          0           0      1   \n",
      "219        22        6       2  49.747537          0           0      1   \n",
      "220        22        6       2  49.747537          0           0      1   \n",
      "221        22        6       2  49.747537          0           0      1   \n",
      "\n",
      "     symptom1  symptom2  symptom3  symptom4  symptom5  symptom6  diff_sym_hos  \n",
      "0           9         9        11         0         0         0             7  \n",
      "1           9         9        11         0         0         0             4  \n",
      "2           9         9        11         0         0         0             0  \n",
      "3           9         9        11         0         0         0             0  \n",
      "4           9         9        11         0         0         0             6  \n",
      "..        ...       ...       ...       ...       ...       ...           ...  \n",
      "217         9         9        11         0         0         0             0  \n",
      "218         9         9        11         0         0         0             0  \n",
      "219         9         9        11         0         0         0             0  \n",
      "220         9         9        11         0         0         0             0  \n",
      "221         9         9        11         0         0         0             0  \n",
      "\n",
      "[222 rows x 14 columns]\n"
     ]
    }
   ],
   "source": [
    "tdata = tdata.drop(['sym_on','hosp_vis'],axis=1)\n",
    "print(tdata)"
   ]
  },
  {
   "cell_type": "code",
   "execution_count": 11,
   "metadata": {
    "ExecuteTime": {
     "end_time": "2020-12-01T21:28:50.328917Z",
     "start_time": "2020-12-01T21:28:50.321321Z"
    },
    "colab": {
     "base_uri": "https://localhost:8080/",
     "height": 272
    },
    "colab_type": "code",
    "id": "URBOdKUteXcu",
    "outputId": "1f56bbb5-819c-40b1-e93b-e3b45f7f1216"
   },
   "outputs": [
    {
     "name": "stdout",
     "output_type": "stream",
     "text": [
      "location        0\n",
      "country         0\n",
      "gender          0\n",
      "age             0\n",
      "vis_wuhan       0\n",
      "from_wuhan      0\n",
      "death           0\n",
      "symptom1        0\n",
      "symptom2        0\n",
      "symptom3        0\n",
      "symptom4        0\n",
      "symptom5        0\n",
      "symptom6        0\n",
      "diff_sym_hos    0\n",
      "dtype: int64\n"
     ]
    }
   ],
   "source": [
    "print(tdata.isna().sum())"
   ]
  },
  {
   "cell_type": "code",
   "execution_count": 12,
   "metadata": {
    "ExecuteTime": {
     "end_time": "2020-12-01T21:30:45.855524Z",
     "start_time": "2020-12-01T21:30:45.850321Z"
    },
    "colab": {},
    "colab_type": "code",
    "id": "HEPS4gxb2nmI"
   },
   "outputs": [],
   "source": [
    "from sklearn.metrics import recall_score as rs\n",
    "from sklearn.metrics import precision_score as ps\n",
    "from sklearn.metrics import f1_score as fs\n",
    "from sklearn.metrics import balanced_accuracy_score as bas\n",
    "from sklearn.metrics import confusion_matrix as cm"
   ]
  },
  {
   "cell_type": "markdown",
   "metadata": {
    "colab_type": "text",
    "id": "mO_GHtYI0rMw"
   },
   "source": [
    "###Logisitic Regression"
   ]
  },
  {
   "cell_type": "code",
   "execution_count": 13,
   "metadata": {
    "ExecuteTime": {
     "end_time": "2020-12-01T21:48:40.852804Z",
     "start_time": "2020-12-01T21:48:40.848640Z"
    },
    "colab": {},
    "colab_type": "code",
    "id": "ZzhuAHDGgdzJ"
   },
   "outputs": [],
   "source": [
    "from sklearn.linear_model import LogisticRegression as lr\n",
    "\n",
    "classifier = lr()"
   ]
  },
  {
   "cell_type": "code",
   "execution_count": 18,
   "metadata": {
    "ExecuteTime": {
     "end_time": "2020-12-01T21:48:41.007448Z",
     "start_time": "2020-12-01T21:48:40.999795Z"
    },
    "colab": {},
    "colab_type": "code",
    "id": "I2Eqf4CIfqGb"
   },
   "outputs": [],
   "source": [
    "X = tdata[['location','country','gender','age','vis_wuhan','from_wuhan','symptom1','symptom2','symptom3','symptom4','symptom5','symptom6','diff_sym_hos']]\n",
    "Y = tdata['death']"
   ]
  },
  {
   "cell_type": "code",
   "execution_count": 15,
   "metadata": {
    "ExecuteTime": {
     "end_time": "2020-12-01T22:12:33.782160Z",
     "start_time": "2020-12-01T22:12:33.775432Z"
    }
   },
   "outputs": [],
   "source": [
    "#X = tdata[['location','country','gender','age','vis_wuhan','from_wuhan','diff_sym_hos']]\n",
    "#Y = tdata['death']"
   ]
  },
  {
   "cell_type": "code",
   "execution_count": 19,
   "metadata": {
    "ExecuteTime": {
     "end_time": "2020-12-01T22:12:37.754769Z",
     "start_time": "2020-12-01T22:12:37.717341Z"
    },
    "colab": {
     "base_uri": "https://localhost:8080/",
     "height": 292
    },
    "colab_type": "code",
    "id": "yWroRhrfZQy7",
    "outputId": "c3678c1f-782a-4619-ab68-f6ace1410a66"
   },
   "outputs": [
    {
     "name": "stderr",
     "output_type": "stream",
     "text": [
      "/opt/conda/shared/envs/ds38/lib/python3.8/site-packages/sklearn/utils/validation.py:73: DataConversionWarning: A column-vector y was passed when a 1d array was expected. Please change the shape of y to (n_samples, ), for example using ravel().\n",
      "  return f(**kwargs)\n",
      "/opt/conda/shared/envs/ds38/lib/python3.8/site-packages/sklearn/linear_model/_logistic.py:760: ConvergenceWarning: lbfgs failed to converge (status=1):\n",
      "STOP: TOTAL NO. of ITERATIONS REACHED LIMIT.\n",
      "\n",
      "Increase the number of iterations (max_iter) or scale the data as shown in:\n",
      "    https://scikit-learn.org/stable/modules/preprocessing.html\n",
      "Please also refer to the documentation for alternative solver options:\n",
      "    https://scikit-learn.org/stable/modules/linear_model.html#logistic-regression\n",
      "  n_iter_i = _check_optimize_result(\n"
     ]
    },
    {
     "data": {
      "text/plain": [
       "LogisticRegression()"
      ]
     },
     "execution_count": 19,
     "metadata": {},
     "output_type": "execute_result"
    }
   ],
   "source": [
    "X_train, X_test, Y_train, Y_test = train_test_split(X,Y,test_size=0.2,random_state=10)\n",
    "classifier.fit(X_train,np.array(Y_train).reshape(Y_train.shape[0],1))\n"
   ]
  },
  {
   "cell_type": "markdown",
   "metadata": {
    "colab_type": "text",
    "id": "WYVlHGmQGXh8"
   },
   "source": [
    "#####Evaluation of model"
   ]
  },
  {
   "cell_type": "code",
   "execution_count": 20,
   "metadata": {
    "ExecuteTime": {
     "end_time": "2020-12-01T22:12:46.185261Z",
     "start_time": "2020-12-01T22:12:46.164523Z"
    },
    "colab": {},
    "colab_type": "code",
    "id": "eTFY9atzcmO-"
   },
   "outputs": [],
   "source": [
    "pred = np.array(classifier.predict(X_test))\n",
    "\n",
    "recall_lr = rs(Y_test,pred)\n",
    "precision_lr = ps(Y_test,pred)\n",
    "f1_lr = fs(Y_test,pred)\n",
    "ma_lr = classifier.score(X_test,Y_test)"
   ]
  },
  {
   "cell_type": "code",
   "execution_count": 21,
   "metadata": {
    "ExecuteTime": {
     "end_time": "2020-12-01T21:48:43.377130Z",
     "start_time": "2020-12-01T21:48:43.359249Z"
    }
   },
   "outputs": [
    {
     "name": "stdout",
     "output_type": "stream",
     "text": [
      "*** Evaluation metrics for test dataset ***\n",
      "\n",
      "Recall Score:  0.7272727272727273\n",
      "Precision Score:  0.6666666666666666\n",
      "F1 Score:  0.6956521739130435\n",
      "Accuracy:  0.8444444444444444\n",
      "\n",
      "\tTable 3\n",
      "\n",
      "     death  pred\n",
      "184      0     0\n",
      "170      1     0\n",
      "142      0     0\n",
      "182      0     0\n",
      "49       1     1\n"
     ]
    }
   ],
   "source": [
    "print('*** Evaluation metrics for test dataset ***\\n')\n",
    "print('Recall Score: ',recall_lr)\n",
    "print('Precision Score: ',precision_lr)\n",
    "print('F1 Score: ',f1_lr)\n",
    "print('Accuracy: ',ma_lr)\n",
    "a = pd.DataFrame(Y_test)\n",
    "a['pred']= classifier.predict(X_test)\n",
    "print('\\n\\tTable 3\\n')\n",
    "print(a.head())"
   ]
  },
  {
   "cell_type": "code",
   "execution_count": 76,
   "metadata": {
    "ExecuteTime": {
     "end_time": "2020-12-01T21:49:09.607900Z",
     "start_time": "2020-12-01T21:49:09.599453Z"
    }
   },
   "outputs": [
    {
     "data": {
      "text/plain": [
       "array([[ 0.0764639 , -0.27454325,  1.12256303,  0.09910521, -1.68402918,\n",
       "        -0.17145781,  0.01534966, -0.15687458,  0.37534682,  0.        ,\n",
       "         0.        ,  0.        ,  0.06241891]])"
      ]
     },
     "execution_count": 76,
     "metadata": {},
     "output_type": "execute_result"
    }
   ],
   "source": [
    "classifier.coef_"
   ]
  },
  {
   "cell_type": "code",
   "execution_count": 77,
   "metadata": {
    "ExecuteTime": {
     "end_time": "2020-12-01T21:49:43.664242Z",
     "start_time": "2020-12-01T21:49:43.640024Z"
    }
   },
   "outputs": [
    {
     "data": {
      "text/html": [
       "<div>\n",
       "<style scoped>\n",
       "    .dataframe tbody tr th:only-of-type {\n",
       "        vertical-align: middle;\n",
       "    }\n",
       "\n",
       "    .dataframe tbody tr th {\n",
       "        vertical-align: top;\n",
       "    }\n",
       "\n",
       "    .dataframe thead th {\n",
       "        text-align: right;\n",
       "    }\n",
       "</style>\n",
       "<table border=\"1\" class=\"dataframe\">\n",
       "  <thead>\n",
       "    <tr style=\"text-align: right;\">\n",
       "      <th></th>\n",
       "      <th>location</th>\n",
       "      <th>country</th>\n",
       "      <th>gender</th>\n",
       "      <th>age</th>\n",
       "      <th>vis_wuhan</th>\n",
       "      <th>from_wuhan</th>\n",
       "      <th>symptom1</th>\n",
       "      <th>symptom2</th>\n",
       "      <th>symptom3</th>\n",
       "      <th>symptom4</th>\n",
       "      <th>symptom5</th>\n",
       "      <th>symptom6</th>\n",
       "      <th>diff_sym_hos</th>\n",
       "    </tr>\n",
       "  </thead>\n",
       "  <tbody>\n",
       "    <tr>\n",
       "      <th>1</th>\n",
       "      <td>38</td>\n",
       "      <td>2</td>\n",
       "      <td>1</td>\n",
       "      <td>69.0</td>\n",
       "      <td>0</td>\n",
       "      <td>1</td>\n",
       "      <td>9</td>\n",
       "      <td>9</td>\n",
       "      <td>11</td>\n",
       "      <td>0</td>\n",
       "      <td>0</td>\n",
       "      <td>0</td>\n",
       "      <td>4</td>\n",
       "    </tr>\n",
       "    <tr>\n",
       "      <th>2</th>\n",
       "      <td>38</td>\n",
       "      <td>2</td>\n",
       "      <td>1</td>\n",
       "      <td>89.0</td>\n",
       "      <td>0</td>\n",
       "      <td>1</td>\n",
       "      <td>9</td>\n",
       "      <td>9</td>\n",
       "      <td>11</td>\n",
       "      <td>0</td>\n",
       "      <td>0</td>\n",
       "      <td>0</td>\n",
       "      <td>0</td>\n",
       "    </tr>\n",
       "    <tr>\n",
       "      <th>56</th>\n",
       "      <td>32</td>\n",
       "      <td>7</td>\n",
       "      <td>0</td>\n",
       "      <td>75.0</td>\n",
       "      <td>0</td>\n",
       "      <td>0</td>\n",
       "      <td>5</td>\n",
       "      <td>1</td>\n",
       "      <td>5</td>\n",
       "      <td>0</td>\n",
       "      <td>0</td>\n",
       "      <td>0</td>\n",
       "      <td>0</td>\n",
       "    </tr>\n",
       "    <tr>\n",
       "      <th>55</th>\n",
       "      <td>32</td>\n",
       "      <td>7</td>\n",
       "      <td>0</td>\n",
       "      <td>55.0</td>\n",
       "      <td>0</td>\n",
       "      <td>0</td>\n",
       "      <td>5</td>\n",
       "      <td>1</td>\n",
       "      <td>10</td>\n",
       "      <td>0</td>\n",
       "      <td>0</td>\n",
       "      <td>0</td>\n",
       "      <td>0</td>\n",
       "    </tr>\n",
       "    <tr>\n",
       "      <th>10</th>\n",
       "      <td>38</td>\n",
       "      <td>2</td>\n",
       "      <td>0</td>\n",
       "      <td>82.0</td>\n",
       "      <td>0</td>\n",
       "      <td>1</td>\n",
       "      <td>9</td>\n",
       "      <td>9</td>\n",
       "      <td>11</td>\n",
       "      <td>0</td>\n",
       "      <td>0</td>\n",
       "      <td>0</td>\n",
       "      <td>0</td>\n",
       "    </tr>\n",
       "    <tr>\n",
       "      <th>...</th>\n",
       "      <td>...</td>\n",
       "      <td>...</td>\n",
       "      <td>...</td>\n",
       "      <td>...</td>\n",
       "      <td>...</td>\n",
       "      <td>...</td>\n",
       "      <td>...</td>\n",
       "      <td>...</td>\n",
       "      <td>...</td>\n",
       "      <td>...</td>\n",
       "      <td>...</td>\n",
       "      <td>...</td>\n",
       "      <td>...</td>\n",
       "    </tr>\n",
       "    <tr>\n",
       "      <th>113</th>\n",
       "      <td>27</td>\n",
       "      <td>12</td>\n",
       "      <td>0</td>\n",
       "      <td>42.0</td>\n",
       "      <td>0</td>\n",
       "      <td>0</td>\n",
       "      <td>9</td>\n",
       "      <td>9</td>\n",
       "      <td>11</td>\n",
       "      <td>0</td>\n",
       "      <td>0</td>\n",
       "      <td>0</td>\n",
       "      <td>3</td>\n",
       "    </tr>\n",
       "    <tr>\n",
       "      <th>64</th>\n",
       "      <td>10</td>\n",
       "      <td>8</td>\n",
       "      <td>1</td>\n",
       "      <td>40.0</td>\n",
       "      <td>0</td>\n",
       "      <td>1</td>\n",
       "      <td>9</td>\n",
       "      <td>9</td>\n",
       "      <td>11</td>\n",
       "      <td>0</td>\n",
       "      <td>0</td>\n",
       "      <td>0</td>\n",
       "      <td>0</td>\n",
       "    </tr>\n",
       "    <tr>\n",
       "      <th>15</th>\n",
       "      <td>38</td>\n",
       "      <td>2</td>\n",
       "      <td>0</td>\n",
       "      <td>70.0</td>\n",
       "      <td>0</td>\n",
       "      <td>1</td>\n",
       "      <td>9</td>\n",
       "      <td>9</td>\n",
       "      <td>11</td>\n",
       "      <td>0</td>\n",
       "      <td>0</td>\n",
       "      <td>0</td>\n",
       "      <td>0</td>\n",
       "    </tr>\n",
       "    <tr>\n",
       "      <th>125</th>\n",
       "      <td>27</td>\n",
       "      <td>12</td>\n",
       "      <td>1</td>\n",
       "      <td>62.0</td>\n",
       "      <td>0</td>\n",
       "      <td>0</td>\n",
       "      <td>9</td>\n",
       "      <td>9</td>\n",
       "      <td>11</td>\n",
       "      <td>0</td>\n",
       "      <td>0</td>\n",
       "      <td>0</td>\n",
       "      <td>0</td>\n",
       "    </tr>\n",
       "    <tr>\n",
       "      <th>9</th>\n",
       "      <td>38</td>\n",
       "      <td>2</td>\n",
       "      <td>1</td>\n",
       "      <td>81.0</td>\n",
       "      <td>0</td>\n",
       "      <td>1</td>\n",
       "      <td>9</td>\n",
       "      <td>9</td>\n",
       "      <td>11</td>\n",
       "      <td>0</td>\n",
       "      <td>0</td>\n",
       "      <td>0</td>\n",
       "      <td>3</td>\n",
       "    </tr>\n",
       "  </tbody>\n",
       "</table>\n",
       "<p>177 rows × 13 columns</p>\n",
       "</div>"
      ],
      "text/plain": [
       "     location  country  gender   age  vis_wuhan  from_wuhan  symptom1  \\\n",
       "1          38        2       1  69.0          0           1         9   \n",
       "2          38        2       1  89.0          0           1         9   \n",
       "56         32        7       0  75.0          0           0         5   \n",
       "55         32        7       0  55.0          0           0         5   \n",
       "10         38        2       0  82.0          0           1         9   \n",
       "..        ...      ...     ...   ...        ...         ...       ...   \n",
       "113        27       12       0  42.0          0           0         9   \n",
       "64         10        8       1  40.0          0           1         9   \n",
       "15         38        2       0  70.0          0           1         9   \n",
       "125        27       12       1  62.0          0           0         9   \n",
       "9          38        2       1  81.0          0           1         9   \n",
       "\n",
       "     symptom2  symptom3  symptom4  symptom5  symptom6  diff_sym_hos  \n",
       "1           9        11         0         0         0             4  \n",
       "2           9        11         0         0         0             0  \n",
       "56          1         5         0         0         0             0  \n",
       "55          1        10         0         0         0             0  \n",
       "10          9        11         0         0         0             0  \n",
       "..        ...       ...       ...       ...       ...           ...  \n",
       "113         9        11         0         0         0             3  \n",
       "64          9        11         0         0         0             0  \n",
       "15          9        11         0         0         0             0  \n",
       "125         9        11         0         0         0             0  \n",
       "9           9        11         0         0         0             3  \n",
       "\n",
       "[177 rows x 13 columns]"
      ]
     },
     "execution_count": 77,
     "metadata": {},
     "output_type": "execute_result"
    }
   ],
   "source": [
    "X_train"
   ]
  },
  {
   "cell_type": "code",
   "execution_count": 74,
   "metadata": {
    "ExecuteTime": {
     "end_time": "2020-12-01T21:48:47.720335Z",
     "start_time": "2020-12-01T21:48:47.599441Z"
    }
   },
   "outputs": [
    {
     "data": {
      "image/png": "[encoded data removed]",
      "text/plain": [
       "<Figure size 432x288 with 2 Axes>"
      ]
     },
     "metadata": {
      "needs_background": "light"
     },
     "output_type": "display_data"
    }
   ],
   "source": [
    "from sklearn.metrics import plot_confusion_matrix\n",
    "plot_confusion_matrix(classifier, X_test, Y_test);"
   ]
  },
  {
   "cell_type": "code",
   "execution_count": 75,
   "metadata": {
    "ExecuteTime": {
     "end_time": "2020-12-01T21:48:48.306171Z",
     "start_time": "2020-12-01T21:48:48.199334Z"
    }
   },
   "outputs": [
    {
     "data": {
      "text/plain": [
       "Text(0.5, 1.0, 'Evaluation Metrics for Logistic Regression')"
      ]
     },
     "execution_count": 75,
     "metadata": {},
     "output_type": "execute_result"
    },
    {
     "data": {
      "image/png": "[encoded data removed]",
      "text/plain": [
       "<Figure size 432x288 with 1 Axes>"
      ]
     },
     "metadata": {
      "needs_background": "light"
     },
     "output_type": "display_data"
    }
   ],
   "source": [
    "import matplotlib.pyplot as plt\n",
    "\n",
    "plt.bar(['Accuracy','F1 Score','Recall Score','Precision Score'],[ma_lr,f1_lr,recall_lr,precision_lr],color=['red','green','purple','orange'])\n",
    "plt.plot([ma_lr,f1_lr,recall_lr,precision_lr],color='black')\n",
    "plt.title('Evaluation Metrics for Logistic Regression')"
   ]
  },
  {
   "cell_type": "code",
   "execution_count": 0,
   "metadata": {
    "colab": {},
    "colab_type": "code",
    "id": "69vkWD86tDoU"
   },
   "outputs": [],
   "source": [
    "#print(pd.DataFrame({'Val':Y_test,'Pred':classifier.predict(X_test)}))"
   ]
  },
  {
   "cell_type": "markdown",
   "metadata": {
    "colab_type": "text",
    "id": "nRZPxsBo1F_c"
   },
   "source": [
    "###Decision Tree Classifier"
   ]
  },
  {
   "cell_type": "code",
   "execution_count": 32,
   "metadata": {
    "ExecuteTime": {
     "end_time": "2020-12-01T21:36:16.744956Z",
     "start_time": "2020-12-01T21:36:16.740692Z"
    },
    "colab": {},
    "colab_type": "code",
    "id": "X6Wboj3t1P_p"
   },
   "outputs": [],
   "source": [
    "from sklearn.tree import DecisionTreeClassifier as dtc\n",
    "classifier = dtc(max_depth=2)"
   ]
  },
  {
   "cell_type": "code",
   "execution_count": 33,
   "metadata": {
    "ExecuteTime": {
     "end_time": "2020-12-01T21:36:17.327062Z",
     "start_time": "2020-12-01T21:36:17.319947Z"
    },
    "colab": {},
    "colab_type": "code",
    "id": "HEMkNq_b1P_4"
   },
   "outputs": [],
   "source": [
    "X = tdata[['location','country','gender','age','vis_wuhan','from_wuhan','symptom1','symptom2','symptom3','symptom4','symptom5','symptom6','diff_sym_hos']]\n",
    "Y = tdata['death']"
   ]
  },
  {
   "cell_type": "code",
   "execution_count": 34,
   "metadata": {
    "ExecuteTime": {
     "end_time": "2020-12-01T21:36:18.109380Z",
     "start_time": "2020-12-01T21:36:18.093351Z"
    },
    "colab": {
     "base_uri": "https://localhost:8080/",
     "height": 119
    },
    "colab_type": "code",
    "id": "TaJSM50y1P_-",
    "outputId": "94054250-6202-48a2-ca3b-30a8cb14f005"
   },
   "outputs": [
    {
     "data": {
      "text/plain": [
       "DecisionTreeClassifier(max_depth=2)"
      ]
     },
     "execution_count": 34,
     "metadata": {},
     "output_type": "execute_result"
    }
   ],
   "source": [
    "X_train, X_test, Y_train, Y_test = train_test_split(X,Y,test_size=0.2,random_state=10)\n",
    "classifier.fit(X_train,np.array(Y_train).reshape(Y_train.shape[0],1))\n"
   ]
  },
  {
   "cell_type": "markdown",
   "metadata": {
    "colab_type": "text",
    "id": "AqRIHx9S1QAF"
   },
   "source": [
    "######Evaluation of the model"
   ]
  },
  {
   "cell_type": "code",
   "execution_count": 35,
   "metadata": {
    "ExecuteTime": {
     "end_time": "2020-12-01T21:36:21.558847Z",
     "start_time": "2020-12-01T21:36:21.540881Z"
    },
    "colab": {},
    "colab_type": "code",
    "id": "MCUMzAhi1QAG"
   },
   "outputs": [],
   "source": [
    "pred = np.array(classifier.predict(X_test))\n",
    "\n",
    "recall_dtc = rs(Y_test,pred)\n",
    "precision_dtc = ps(Y_test,pred)\n",
    "f1_dtc = fs(Y_test,pred)\n",
    "ma_dtc = classifier.score(X_test,Y_test)"
   ]
  },
  {
   "cell_type": "code",
   "execution_count": 36,
   "metadata": {
    "ExecuteTime": {
     "end_time": "2020-12-01T21:36:27.097470Z",
     "start_time": "2020-12-01T21:36:27.079421Z"
    }
   },
   "outputs": [
    {
     "name": "stdout",
     "output_type": "stream",
     "text": [
      "*** Evaluation metrics for test dataset ***\n",
      "\n",
      "Recall Score:  0.5454545454545454\n",
      "Precision Score:  0.8571428571428571\n",
      "F1 Score:  0.6666666666666665\n",
      "Accuracy:  0.8666666666666667\n",
      "\n",
      "\tTable 3\n",
      "\n",
      "     death  pred\n",
      "184      0     0\n",
      "170      1     0\n",
      "142      0     0\n",
      "182      0     0\n",
      "49       1     0\n"
     ]
    }
   ],
   "source": [
    "print('*** Evaluation metrics for test dataset ***\\n')\n",
    "print('Recall Score: ',recall_dtc)\n",
    "print('Precision Score: ',precision_dtc)\n",
    "print('F1 Score: ',f1_dtc)\n",
    "print('Accuracy: ',ma_dtc)\n",
    "a = pd.DataFrame(Y_test)\n",
    "a['pred']= classifier.predict(X_test)\n",
    "print('\\n\\tTable 3\\n')\n",
    "print(a.head())"
   ]
  },
  {
   "cell_type": "code",
   "execution_count": 37,
   "metadata": {
    "ExecuteTime": {
     "end_time": "2020-12-01T21:36:35.093339Z",
     "start_time": "2020-12-01T21:36:34.990841Z"
    },
    "colab": {
     "base_uri": "https://localhost:8080/",
     "height": 298
    },
    "colab_type": "code",
    "id": "QbBSo0GH1QAR",
    "outputId": "c2543ee5-4179-4363-ddfa-a679402a2965"
   },
   "outputs": [
    {
     "data": {
      "text/plain": [
       "Text(0.5, 1.0, 'Evaluation Metrics for Decision Tree')"
      ]
     },
     "execution_count": 37,
     "metadata": {},
     "output_type": "execute_result"
    },
    {
     "data": {
      "image/png": "[encoded data removed]",
      "text/plain": [
       "<Figure size 432x288 with 1 Axes>"
      ]
     },
     "metadata": {
      "needs_background": "light"
     },
     "output_type": "display_data"
    }
   ],
   "source": [
    "import matplotlib.pyplot as plt\n",
    "\n",
    "plt.bar(['Accuracy','F1 Score','Recall Score','Precision Score'],[ma_dtc,f1_dtc,recall_dtc,precision_dtc],color=['red','green','purple','orange'])\n",
    "plt.plot([ma_dtc,f1_dtc,recall_dtc,precision_dtc],color='black')\n",
    "plt.title('Evaluation Metrics for Decision Tree')"
   ]
  },
  {
   "cell_type": "markdown",
   "metadata": {
    "colab_type": "text",
    "id": "GUdAzXF3offb"
   },
   "source": [
    "######Visualizing the decision trees from random forest"
   ]
  },
  {
   "cell_type": "code",
   "execution_count": 42,
   "metadata": {
    "ExecuteTime": {
     "end_time": "2020-12-01T21:43:54.146438Z",
     "start_time": "2020-12-01T21:43:54.016545Z"
    }
   },
   "outputs": [
    {
     "data": {
      "image/png": "[encoded data removed]",
      "text/plain": [
       "<IPython.core.display.Image object>"
      ]
     },
     "execution_count": 42,
     "metadata": {
      "image/png": {
       "height": 200,
       "width": 250
      }
     },
     "output_type": "execute_result"
    }
   ],
   "source": [
    "classifier.fit(X_train,np.array(Y_train).reshape(Y_train.shape[0],1))\n",
    "from six import StringIO  \n",
    "from IPython.display import Image  \n",
    "from sklearn.tree import export_graphviz\n",
    "import pydotplus\n",
    "\n",
    "estimator = classifier\n",
    "dot_data = StringIO()\n",
    "export_graphviz(estimator, out_file=dot_data,  \n",
    "                filled=True, rounded=True,\n",
    "                special_characters=True)\n",
    "graph = pydotplus.graph_from_dot_data(dot_data.getvalue())  \n",
    "Image(graph.create_png(),width=250,height=200)"
   ]
  },
  {
   "cell_type": "markdown",
   "metadata": {
    "colab_type": "text",
    "id": "drOJRhkW2voo"
   },
   "source": [
    "###SVM"
   ]
  },
  {
   "cell_type": "code",
   "execution_count": 62,
   "metadata": {
    "ExecuteTime": {
     "end_time": "2020-12-01T21:48:12.516094Z",
     "start_time": "2020-12-01T21:48:12.511923Z"
    },
    "colab": {},
    "colab_type": "code",
    "id": "WbRACbyI2xCS"
   },
   "outputs": [],
   "source": [
    "from sklearn import svm\n",
    "classifier = svm.SVC()"
   ]
  },
  {
   "cell_type": "code",
   "execution_count": 63,
   "metadata": {
    "ExecuteTime": {
     "end_time": "2020-12-01T21:48:12.694062Z",
     "start_time": "2020-12-01T21:48:12.686699Z"
    },
    "colab": {},
    "colab_type": "code",
    "id": "4AFSOOqw2xCg"
   },
   "outputs": [],
   "source": [
    "X = tdata[['location','country','gender','age','vis_wuhan','from_wuhan','symptom1','symptom2','symptom3','symptom4','symptom5','symptom6','diff_sym_hos']]\n",
    "Y = tdata['death']"
   ]
  },
  {
   "cell_type": "code",
   "execution_count": 64,
   "metadata": {
    "ExecuteTime": {
     "end_time": "2020-12-01T21:48:12.884807Z",
     "start_time": "2020-12-01T21:48:12.863182Z"
    },
    "colab": {
     "base_uri": "https://localhost:8080/",
     "height": 139
    },
    "colab_type": "code",
    "id": "4y3yODJQ2xCu",
    "outputId": "b0de150c-b2f6-4f76-a7dc-69dc4615439e"
   },
   "outputs": [
    {
     "name": "stderr",
     "output_type": "stream",
     "text": [
      "/opt/conda/shared/envs/ds38/lib/python3.8/site-packages/sklearn/utils/validation.py:73: DataConversionWarning: A column-vector y was passed when a 1d array was expected. Please change the shape of y to (n_samples, ), for example using ravel().\n",
      "  return f(**kwargs)\n"
     ]
    },
    {
     "data": {
      "text/plain": [
       "SVC()"
      ]
     },
     "execution_count": 64,
     "metadata": {},
     "output_type": "execute_result"
    }
   ],
   "source": [
    "X_train, X_test, Y_train, Y_test = train_test_split(X,Y,test_size=0.2,random_state=10)\n",
    "classifier.fit(X_train,np.array(Y_train).reshape(Y_train.shape[0],1))\n"
   ]
  },
  {
   "cell_type": "markdown",
   "metadata": {
    "colab_type": "text",
    "id": "3zKgizqW2xC3"
   },
   "source": [
    "######Evaluation of the model"
   ]
  },
  {
   "cell_type": "code",
   "execution_count": 65,
   "metadata": {
    "ExecuteTime": {
     "end_time": "2020-12-01T21:48:14.229294Z",
     "start_time": "2020-12-01T21:48:14.207591Z"
    },
    "colab": {},
    "colab_type": "code",
    "id": "YaRJTyH82xC4"
   },
   "outputs": [],
   "source": [
    "pred = np.array(classifier.predict(X_test))\n",
    "\n",
    "recall_svm = rs(Y_test,pred)\n",
    "precision_svm = ps(Y_test,pred)\n",
    "f1_svm = fs(Y_test,pred)\n",
    "ma_svm = classifier.score(X_test,Y_test)"
   ]
  },
  {
   "cell_type": "code",
   "execution_count": 66,
   "metadata": {
    "ExecuteTime": {
     "end_time": "2020-12-01T21:48:14.770509Z",
     "start_time": "2020-12-01T21:48:14.752214Z"
    }
   },
   "outputs": [
    {
     "name": "stdout",
     "output_type": "stream",
     "text": [
      "*** Evaluation metrics for test dataset ***\n",
      "\n",
      "Recall Score:  0.6363636363636364\n",
      "Precision Score:  0.7\n",
      "F1 Score:  0.6666666666666666\n",
      "Accuracy:  0.8444444444444444\n",
      "\n",
      "\tTable 3\n",
      "\n",
      "     death  pred\n",
      "184      0     0\n",
      "170      1     0\n",
      "142      0     0\n",
      "182      0     0\n",
      "49       1     1\n"
     ]
    }
   ],
   "source": [
    "print('*** Evaluation metrics for test dataset ***\\n')\n",
    "print('Recall Score: ',recall_svm)\n",
    "print('Precision Score: ',precision_svm)\n",
    "print('F1 Score: ',f1_svm)\n",
    "print('Accuracy: ',ma_svm)\n",
    "a = pd.DataFrame(Y_test)\n",
    "a['pred']= classifier.predict(X_test)\n",
    "print('\\n\\tTable 3\\n')\n",
    "print(a.head())"
   ]
  },
  {
   "cell_type": "code",
   "execution_count": 67,
   "metadata": {
    "ExecuteTime": {
     "end_time": "2020-12-01T21:48:17.783371Z",
     "start_time": "2020-12-01T21:48:17.665428Z"
    }
   },
   "outputs": [
    {
     "data": {
      "text/plain": [
       "Text(0.5, 1.0, 'Evaluation Metrics for Support Vector Machine')"
      ]
     },
     "execution_count": 67,
     "metadata": {},
     "output_type": "execute_result"
    },
    {
     "data": {
      "image/png": "[encoded data removed]",
      "text/plain": [
       "<Figure size 432x288 with 1 Axes>"
      ]
     },
     "metadata": {
      "needs_background": "light"
     },
     "output_type": "display_data"
    }
   ],
   "source": [
    "import matplotlib.pyplot as plt\n",
    "\n",
    "plt.bar(['Accuracy','F1 Score','Recall Score','Precision Score'],[ma_svm,f1_svm,recall_svm,precision_svm],color=['red','green','purple','orange'])\n",
    "plt.plot([ma_svm,f1_svm,recall_svm,precision_svm],color='black')\n",
    "plt.title('Evaluation Metrics for Support Vector Machine')"
   ]
  },
  {
   "cell_type": "code",
   "execution_count": 68,
   "metadata": {
    "ExecuteTime": {
     "end_time": "2020-12-01T21:48:24.438965Z",
     "start_time": "2020-12-01T21:48:24.319023Z"
    }
   },
   "outputs": [
    {
     "data": {
      "image/png": "[encoded data removed]",
      "text/plain": [
       "<Figure size 432x288 with 2 Axes>"
      ]
     },
     "metadata": {
      "needs_background": "light"
     },
     "output_type": "display_data"
    }
   ],
   "source": [
    "from sklearn.metrics import plot_confusion_matrix\n",
    "plot_confusion_matrix(classifier, X_test, Y_test);"
   ]
  },
  {
   "cell_type": "markdown",
   "metadata": {
    "colab_type": "text",
    "id": "aejoz6yW3R_1"
   },
   "source": [
    "###Gaussian Naive Bayes"
   ]
  },
  {
   "cell_type": "code",
   "execution_count": 49,
   "metadata": {
    "ExecuteTime": {
     "end_time": "2020-12-01T21:44:45.444517Z",
     "start_time": "2020-12-01T21:44:45.437896Z"
    },
    "colab": {},
    "colab_type": "code",
    "id": "FgV2wh503ikt"
   },
   "outputs": [],
   "source": [
    "from sklearn.naive_bayes import GaussianNB\n",
    "classifier = GaussianNB()"
   ]
  },
  {
   "cell_type": "code",
   "execution_count": 50,
   "metadata": {
    "ExecuteTime": {
     "end_time": "2020-12-01T21:44:45.626741Z",
     "start_time": "2020-12-01T21:44:45.619647Z"
    },
    "colab": {},
    "colab_type": "code",
    "id": "6D8PjlV73ik7"
   },
   "outputs": [],
   "source": [
    "X = tdata[['location','country','gender','age','vis_wuhan','from_wuhan','symptom1','symptom2','symptom3','symptom4','symptom5','symptom6','diff_sym_hos']]\n",
    "Y = tdata['death']"
   ]
  },
  {
   "cell_type": "code",
   "execution_count": 51,
   "metadata": {
    "ExecuteTime": {
     "end_time": "2020-12-01T21:44:45.888556Z",
     "start_time": "2020-12-01T21:44:45.870692Z"
    },
    "colab": {
     "base_uri": "https://localhost:8080/",
     "height": 88
    },
    "colab_type": "code",
    "id": "2NtkH2CO3ilE",
    "outputId": "0423d6c0-9bf5-4579-abf5-bfcdff9d7094"
   },
   "outputs": [
    {
     "name": "stderr",
     "output_type": "stream",
     "text": [
      "/opt/conda/shared/envs/ds38/lib/python3.8/site-packages/sklearn/utils/validation.py:73: DataConversionWarning: A column-vector y was passed when a 1d array was expected. Please change the shape of y to (n_samples, ), for example using ravel().\n",
      "  return f(**kwargs)\n"
     ]
    },
    {
     "data": {
      "text/plain": [
       "GaussianNB()"
      ]
     },
     "execution_count": 51,
     "metadata": {},
     "output_type": "execute_result"
    }
   ],
   "source": [
    "X_train, X_test, Y_train, Y_test = train_test_split(X,Y,test_size=0.2,random_state=10)\n",
    "classifier.fit(X_train,np.array(Y_train).reshape(Y_train.shape[0],1))\n"
   ]
  },
  {
   "cell_type": "markdown",
   "metadata": {
    "colab_type": "text",
    "id": "9O6RJysN3ilP"
   },
   "source": [
    "######Evaluation of the model"
   ]
  },
  {
   "cell_type": "code",
   "execution_count": 52,
   "metadata": {
    "ExecuteTime": {
     "end_time": "2020-12-01T21:44:49.192848Z",
     "start_time": "2020-12-01T21:44:49.173655Z"
    },
    "colab": {},
    "colab_type": "code",
    "id": "uEu8rlTw3ilR"
   },
   "outputs": [],
   "source": [
    "pred = np.array(classifier.predict(X_test))\n",
    "\n",
    "recall_gnb = rs(Y_test,pred)\n",
    "precision_gnb = ps(Y_test,pred)\n",
    "f1_gnb = fs(Y_test,pred)\n",
    "ma_gnb = classifier.score(X_test,Y_test)"
   ]
  },
  {
   "cell_type": "code",
   "execution_count": 53,
   "metadata": {
    "ExecuteTime": {
     "end_time": "2020-12-01T21:44:49.568341Z",
     "start_time": "2020-12-01T21:44:49.550167Z"
    },
    "colab": {
     "base_uri": "https://localhost:8080/",
     "height": 272
    },
    "colab_type": "code",
    "id": "eovrIeK73ilb",
    "outputId": "3d8bd104-415a-400b-caed-ed5b1cde71fb"
   },
   "outputs": [
    {
     "name": "stdout",
     "output_type": "stream",
     "text": [
      "*** Evaluation metrics for test dataset ***\n",
      "\n",
      "Recall Score:  0.7272727272727273\n",
      "Precision Score:  0.5333333333333333\n",
      "F1 Score:  0.6153846153846153\n",
      "Accuracy:  0.7777777777777778\n",
      "\n",
      "\tTable 3\n",
      "\n",
      "     death  pred\n",
      "184      0     0\n",
      "170      1     0\n",
      "142      0     0\n",
      "182      0     0\n",
      "49       1     1\n"
     ]
    }
   ],
   "source": [
    "print('*** Evaluation metrics for test dataset ***\\n')\n",
    "print('Recall Score: ',recall_gnb)\n",
    "print('Precision Score: ',precision_gnb)\n",
    "print('F1 Score: ',f1_gnb)\n",
    "print('Accuracy: ',ma_gnb)\n",
    "a = pd.DataFrame(Y_test)\n",
    "a['pred']= classifier.predict(X_test)\n",
    "print('\\n\\tTable 3\\n')\n",
    "print(a.head())"
   ]
  },
  {
   "cell_type": "code",
   "execution_count": 54,
   "metadata": {
    "ExecuteTime": {
     "end_time": "2020-12-01T21:44:52.736150Z",
     "start_time": "2020-12-01T21:44:52.575596Z"
    },
    "colab": {
     "base_uri": "https://localhost:8080/",
     "height": 298
    },
    "colab_type": "code",
    "id": "E62591Tw3ilh",
    "outputId": "847b0b44-dbe4-4866-d3f5-a1c9b323035b"
   },
   "outputs": [
    {
     "data": {
      "text/plain": [
       "Text(0.5, 1.0, 'Evaluation Metrics for Gaussian Naive Bayes')"
      ]
     },
     "execution_count": 54,
     "metadata": {},
     "output_type": "execute_result"
    },
    {
     "data": {
      "image/png": "[encoded data removed]",
      "text/plain": [
       "<Figure size 432x288 with 1 Axes>"
      ]
     },
     "metadata": {
      "needs_background": "light"
     },
     "output_type": "display_data"
    }
   ],
   "source": [
    "import matplotlib.pyplot as plt\n",
    "\n",
    "plt.bar(['Accuracy','F1 Score','Recall Score','Precision Score'],[ma_gnb,f1_gnb,recall_gnb,precision_gnb],color=['red','green','purple','orange'])\n",
    "plt.plot([ma_gnb,f1_gnb,recall_gnb,precision_gnb],color='black')\n",
    "plt.title('Evaluation Metrics for Gaussian Naive Bayes')"
   ]
  },
  {
   "cell_type": "markdown",
   "metadata": {
    "colab_type": "text",
    "id": "MC2MzVvI6iMm"
   },
   "source": [
    "###Boosted Random Forest"
   ]
  },
  {
   "cell_type": "code",
   "execution_count": 55,
   "metadata": {
    "ExecuteTime": {
     "end_time": "2020-12-01T21:44:56.128031Z",
     "start_time": "2020-12-01T21:44:56.117173Z"
    },
    "colab": {},
    "colab_type": "code",
    "id": "afhmdljp6gfO"
   },
   "outputs": [],
   "source": [
    "from sklearn.metrics import recall_score as rs\n",
    "from sklearn.metrics import precision_score as ps\n",
    "from sklearn.metrics import f1_score as fs\n",
    "from sklearn.metrics import balanced_accuracy_score as bas\n",
    "from sklearn.metrics import confusion_matrix as cm"
   ]
  },
  {
   "cell_type": "code",
   "execution_count": 56,
   "metadata": {
    "ExecuteTime": {
     "end_time": "2020-12-01T21:44:56.301624Z",
     "start_time": "2020-12-01T21:44:56.293264Z"
    },
    "colab": {},
    "colab_type": "code",
    "id": "CaQx21TE6gfV"
   },
   "outputs": [
    {
     "name": "stderr",
     "output_type": "stream",
     "text": [
      "/opt/conda/shared/envs/ds38/lib/python3.8/site-packages/sklearn/utils/validation.py:68: FutureWarning: Pass n_estimators=50, learning_rate=0.01, algorithm=SAMME.R, random_state=10 as keyword args. From version 0.25 passing these as positional arguments will result in an error\n",
      "  warnings.warn(\"Pass {} as keyword args. From version 0.25 \"\n"
     ]
    }
   ],
   "source": [
    "rf = RandomForestClassifier(bootstrap=True, ccp_alpha=0.0, class_weight=None,\n",
    "                       criterion='gini', max_depth=2, max_features='auto',\n",
    "                       max_leaf_nodes=None, max_samples=None,\n",
    "                       min_impurity_decrease=0.0, min_impurity_split=None,\n",
    "                       min_samples_leaf=2, min_samples_split=2,\n",
    "                       min_weight_fraction_leaf=0.0, n_estimators=100,\n",
    "                       n_jobs=None, oob_score=False, random_state=None,\n",
    "                       verbose=0, warm_start=False)\n",
    "classifier = AdaBoostClassifier(rf,50,0.01,'SAMME.R',10)"
   ]
  },
  {
   "cell_type": "code",
   "execution_count": 57,
   "metadata": {
    "ExecuteTime": {
     "end_time": "2020-12-01T21:44:56.908102Z",
     "start_time": "2020-12-01T21:44:56.901125Z"
    },
    "colab": {},
    "colab_type": "code",
    "id": "7FsgDL6D6gfa"
   },
   "outputs": [],
   "source": [
    "X = tdata[['location','country','gender','age','vis_wuhan','from_wuhan','symptom1','symptom2','symptom3','symptom4','symptom5','symptom6','diff_sym_hos']]\n",
    "Y = tdata['death']"
   ]
  },
  {
   "cell_type": "code",
   "execution_count": 58,
   "metadata": {
    "ExecuteTime": {
     "end_time": "2020-12-01T21:45:05.130910Z",
     "start_time": "2020-12-01T21:45:00.101893Z"
    },
    "colab": {
     "base_uri": "https://localhost:8080/",
     "height": 428
    },
    "colab_type": "code",
    "id": "zKX3NNZJ6gfg",
    "outputId": "3ca7d132-b1fa-41af-f5a5-2580a5fe0ad5"
   },
   "outputs": [
    {
     "name": "stderr",
     "output_type": "stream",
     "text": [
      "/opt/conda/shared/envs/ds38/lib/python3.8/site-packages/sklearn/utils/validation.py:73: DataConversionWarning: A column-vector y was passed when a 1d array was expected. Please change the shape of y to (n_samples, ), for example using ravel().\n",
      "  return f(**kwargs)\n"
     ]
    },
    {
     "data": {
      "text/plain": [
       "AdaBoostClassifier(base_estimator=RandomForestClassifier(max_depth=2,\n",
       "                                                         min_samples_leaf=2),\n",
       "                   learning_rate=0.01, random_state=10)"
      ]
     },
     "execution_count": 58,
     "metadata": {},
     "output_type": "execute_result"
    }
   ],
   "source": [
    "X_train, X_test, Y_train, Y_test = train_test_split(X,Y,test_size=0.2,random_state=0)\n",
    "classifier.fit(X_train,np.array(Y_train).reshape(Y_train.shape[0],1))\n"
   ]
  },
  {
   "cell_type": "markdown",
   "metadata": {
    "colab_type": "text",
    "id": "9DJgBXNfG2o8"
   },
   "source": [
    "######Evaluation of the model"
   ]
  },
  {
   "cell_type": "code",
   "execution_count": 59,
   "metadata": {
    "ExecuteTime": {
     "end_time": "2020-12-01T21:45:06.649898Z",
     "start_time": "2020-12-01T21:45:06.015734Z"
    },
    "colab": {},
    "colab_type": "code",
    "id": "8ddZ5qJO609l"
   },
   "outputs": [],
   "source": [
    "pred = np.array(classifier.predict(X_test))\n",
    "\n",
    "recall = rs(Y_test,pred)\n",
    "precision = ps(Y_test,pred)\n",
    "f1 = fs(Y_test,pred)\n",
    "ma = classifier.score(X_test,Y_test)"
   ]
  },
  {
   "cell_type": "code",
   "execution_count": 60,
   "metadata": {
    "ExecuteTime": {
     "end_time": "2020-12-01T21:45:08.532967Z",
     "start_time": "2020-12-01T21:45:08.198159Z"
    },
    "colab": {
     "base_uri": "https://localhost:8080/",
     "height": 272
    },
    "colab_type": "code",
    "id": "lt1X4VZv6gfm",
    "outputId": "7dbf0a1c-fd26-47ce-8479-503598322797"
   },
   "outputs": [
    {
     "name": "stdout",
     "output_type": "stream",
     "text": [
      "*** Evaluation metrics for test dataset ***\n",
      "\n",
      "Recall Score:  0.75\n",
      "Precision Score:  1.0\n",
      "F1 Score:  0.8571428571428571\n",
      "Accuracy:  0.9333333333333333\n",
      "\n",
      "\tTable 3\n",
      "\n",
      "     death  pred\n",
      "130      0     0\n",
      "203      0     0\n",
      "170      1     0\n",
      "66       0     0\n",
      "181      0     0\n"
     ]
    }
   ],
   "source": [
    "print('*** Evaluation metrics for test dataset ***\\n')\n",
    "print('Recall Score: ',recall)\n",
    "print('Precision Score: ',precision)\n",
    "print('F1 Score: ',f1)\n",
    "print('Accuracy: ',ma)\n",
    "a = pd.DataFrame(Y_test)\n",
    "a['pred']= classifier.predict(X_test)\n",
    "print('\\n\\tTable 3\\n')\n",
    "print(a.head())"
   ]
  },
  {
   "cell_type": "markdown",
   "metadata": {
    "colab_type": "text",
    "id": "WKx7g9wQ513H"
   },
   "source": [
    "###Comparison of Evaluation Metrics"
   ]
  },
  {
   "cell_type": "code",
   "execution_count": 61,
   "metadata": {
    "ExecuteTime": {
     "end_time": "2020-12-01T21:45:21.444528Z",
     "start_time": "2020-12-01T21:45:21.318396Z"
    }
   },
   "outputs": [
    {
     "data": {
      "image/png": "[encoded data removed]",
      "text/plain": [
       "<Figure size 576x432 with 1 Axes>"
      ]
     },
     "metadata": {
      "needs_background": "light"
     },
     "output_type": "display_data"
    }
   ],
   "source": [
    "import matplotlib.pyplot as plt\n",
    "fig = plt.figure(figsize=(8,6))\n",
    "#plt.bar(['Logistic Regression','Decision Tree','SVM','Gaussian NB','Boosted Random Forest'],[f1_lr,f1_dtc,f1_svm,f1_gnb,f1],color=['red','green','purple','orange','Blue'])\n",
    "plt.plot(['Logistic Regression','Decision Tree','Boosted Random Forest','SVM','Gaussian NB'],[f1_lr,f1_dtc,f1,f1_svm,f1_gnb],color='purple',marker='D')\n",
    "plt.plot(['Logistic Regression','Decision Tree','Boosted Random Forest','SVM','Gaussian NB'],[ma_lr,ma_dtc,ma,ma_svm,ma_gnb],color='red',marker='^')\n",
    "plt.plot(['Logistic Regression','Decision Tree','Boosted Random Forest','SVM','Gaussian NB'],[precision_lr,precision_dtc,precision,precision_svm,precision_gnb],color='blue',marker='s')\n",
    "plt.plot(['Logistic Regression','Decision Tree','Boosted Random Forest','SVM','Gaussian NB'],[recall_lr,recall_dtc,recall,recall_svm,recall_gnb],color='green',marker='P')\n",
    "plt.legend(('F1 Score','Accuracy','Precision','Recall'))\n",
    "plt.title('Comparison of various models\\' performance')\n",
    "\n",
    "plt.show(fig)"
   ]
  },
  {
   "cell_type": "code",
   "execution_count": 0,
   "metadata": {
    "colab": {},
    "colab_type": "code",
    "id": "dG04IRZLCrC6"
   },
   "outputs": [],
   "source": []
  }
 ],
 "metadata": {
  "colab": {
   "collapsed_sections": [
    "wuEnp-EiF_X9",
    "Jmgcf3iLeK0z",
    "mO_GHtYI0rMw",
    "nRZPxsBo1F_c",
    "drOJRhkW2voo",
    "aejoz6yW3R_1",
    "MC2MzVvI6iMm",
    "WKx7g9wQ513H"
   ],
   "name": "COVID-19 Model Comparison",
   "provenance": []
  },
  "kernelspec": {
   "display_name": "Python [conda env:shared-ds38]",
   "language": "python",
   "name": "conda-env-shared-ds38-py"
  },
  "language_info": {
   "codemirror_mode": {
    "name": "ipython",
    "version": 3
   },
   "file_extension": ".py",
   "mimetype": "text/x-python",
   "name": "python",
   "nbconvert_exporter": "python",
   "pygments_lexer": "ipython3",
   "version": "3.8.2"
  }
 },
 "nbformat": 4,
 "nbformat_minor": 1
}
